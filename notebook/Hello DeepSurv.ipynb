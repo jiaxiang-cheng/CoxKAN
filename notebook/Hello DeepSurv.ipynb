{
 "cells": [
  {
   "cell_type": "code",
   "outputs": [],
   "source": [
    "import numpy as np\n",
    "from api.auton import datasets, preprocessing"
   ],
   "metadata": {
    "collapsed": false,
    "ExecuteTime": {
     "end_time": "2024-07-05T06:01:29.598772Z",
     "start_time": "2024-07-05T06:01:23.043173Z"
    }
   },
   "id": "59e9853bde330ed8",
   "execution_count": 1
  },
  {
   "cell_type": "code",
   "outputs": [
    {
     "data": {
      "text/plain": "          ds  is_td      n  n_fac  n_ohe  n_num\n0     hdfail  False  52422      5     87      1\n1     stagec  False    146      4     15      3\n2    veteran  False    137      3      5      3\n3        vdv  False     78      0      0   4705\n4   AML_Bull  False    116      0      0   6283\n..       ...    ...    ...    ...    ...    ...\n71  prostate  False    502      6     16      9\n72   flchain  False   7874      4     26      6\n73     grace  False   1000      2      2      3\n74   gse3143  False    158      1      3   8660\n75    scania  False   1931      4      7      1\n\n[76 rows x 6 columns]",
      "text/html": "<div>\n<style scoped>\n    .dataframe tbody tr th:only-of-type {\n        vertical-align: middle;\n    }\n\n    .dataframe tbody tr th {\n        vertical-align: top;\n    }\n\n    .dataframe thead th {\n        text-align: right;\n    }\n</style>\n<table border=\"1\" class=\"dataframe\">\n  <thead>\n    <tr style=\"text-align: right;\">\n      <th></th>\n      <th>ds</th>\n      <th>is_td</th>\n      <th>n</th>\n      <th>n_fac</th>\n      <th>n_ohe</th>\n      <th>n_num</th>\n    </tr>\n  </thead>\n  <tbody>\n    <tr>\n      <th>0</th>\n      <td>hdfail</td>\n      <td>False</td>\n      <td>52422</td>\n      <td>5</td>\n      <td>87</td>\n      <td>1</td>\n    </tr>\n    <tr>\n      <th>1</th>\n      <td>stagec</td>\n      <td>False</td>\n      <td>146</td>\n      <td>4</td>\n      <td>15</td>\n      <td>3</td>\n    </tr>\n    <tr>\n      <th>2</th>\n      <td>veteran</td>\n      <td>False</td>\n      <td>137</td>\n      <td>3</td>\n      <td>5</td>\n      <td>3</td>\n    </tr>\n    <tr>\n      <th>3</th>\n      <td>vdv</td>\n      <td>False</td>\n      <td>78</td>\n      <td>0</td>\n      <td>0</td>\n      <td>4705</td>\n    </tr>\n    <tr>\n      <th>4</th>\n      <td>AML_Bull</td>\n      <td>False</td>\n      <td>116</td>\n      <td>0</td>\n      <td>0</td>\n      <td>6283</td>\n    </tr>\n    <tr>\n      <th>...</th>\n      <td>...</td>\n      <td>...</td>\n      <td>...</td>\n      <td>...</td>\n      <td>...</td>\n      <td>...</td>\n    </tr>\n    <tr>\n      <th>71</th>\n      <td>prostate</td>\n      <td>False</td>\n      <td>502</td>\n      <td>6</td>\n      <td>16</td>\n      <td>9</td>\n    </tr>\n    <tr>\n      <th>72</th>\n      <td>flchain</td>\n      <td>False</td>\n      <td>7874</td>\n      <td>4</td>\n      <td>26</td>\n      <td>6</td>\n    </tr>\n    <tr>\n      <th>73</th>\n      <td>grace</td>\n      <td>False</td>\n      <td>1000</td>\n      <td>2</td>\n      <td>2</td>\n      <td>3</td>\n    </tr>\n    <tr>\n      <th>74</th>\n      <td>gse3143</td>\n      <td>False</td>\n      <td>158</td>\n      <td>1</td>\n      <td>3</td>\n      <td>8660</td>\n    </tr>\n    <tr>\n      <th>75</th>\n      <td>scania</td>\n      <td>False</td>\n      <td>1931</td>\n      <td>4</td>\n      <td>7</td>\n      <td>1</td>\n    </tr>\n  </tbody>\n</table>\n<p>76 rows × 6 columns</p>\n</div>"
     },
     "execution_count": 2,
     "metadata": {},
     "output_type": "execute_result"
    }
   ],
   "source": [
    "from api.survset.data import SurvLoader\n",
    "\n",
    "loader = SurvLoader()\n",
    "# List of available datasets and meta-info\n",
    "loader.df_ds"
   ],
   "metadata": {
    "collapsed": false,
    "ExecuteTime": {
     "end_time": "2024-07-05T06:01:29.630122Z",
     "start_time": "2024-07-05T06:01:29.601648Z"
    }
   },
   "id": "6cb965979fa952fe",
   "execution_count": 2
  },
  {
   "cell_type": "code",
   "outputs": [
    {
     "data": {
      "text/plain": "     pid  event  time  num_age  num_tsize  num_pnodes  num_progrec  \\\n0      0      1  1814       70         21           3           48   \n1      1      1  2018       56         12           7           61   \n2      2      1   712       58         35           9           52   \n3      3      1  1807       59         17           4           60   \n4      4      1   772       73         35           1           26   \n..   ...    ...   ...      ...        ...         ...          ...   \n681  681      0   721       49         30           3            1   \n682  682      0   186       53         25          17            0   \n683  683      1   769       51         25           5           43   \n684  684      1   727       52         23           3           15   \n685  685      1  1701       55         23           9          116   \n\n     num_estrec fac_horTh fac_menostat fac_tgrade  \n0            66        no         Post         II  \n1            77       yes         Post         II  \n2           271       yes         Post         II  \n3            29       yes         Post         II  \n4            65        no         Post         II  \n..          ...       ...          ...        ...  \n681          84        no          Pre        III  \n682           0       yes         Post        III  \n683           0        no          Pre        III  \n684          34        no         Post         II  \n685          15        no         Post         II  \n\n[686 rows x 11 columns]",
      "text/html": "<div>\n<style scoped>\n    .dataframe tbody tr th:only-of-type {\n        vertical-align: middle;\n    }\n\n    .dataframe tbody tr th {\n        vertical-align: top;\n    }\n\n    .dataframe thead th {\n        text-align: right;\n    }\n</style>\n<table border=\"1\" class=\"dataframe\">\n  <thead>\n    <tr style=\"text-align: right;\">\n      <th></th>\n      <th>pid</th>\n      <th>event</th>\n      <th>time</th>\n      <th>num_age</th>\n      <th>num_tsize</th>\n      <th>num_pnodes</th>\n      <th>num_progrec</th>\n      <th>num_estrec</th>\n      <th>fac_horTh</th>\n      <th>fac_menostat</th>\n      <th>fac_tgrade</th>\n    </tr>\n  </thead>\n  <tbody>\n    <tr>\n      <th>0</th>\n      <td>0</td>\n      <td>1</td>\n      <td>1814</td>\n      <td>70</td>\n      <td>21</td>\n      <td>3</td>\n      <td>48</td>\n      <td>66</td>\n      <td>no</td>\n      <td>Post</td>\n      <td>II</td>\n    </tr>\n    <tr>\n      <th>1</th>\n      <td>1</td>\n      <td>1</td>\n      <td>2018</td>\n      <td>56</td>\n      <td>12</td>\n      <td>7</td>\n      <td>61</td>\n      <td>77</td>\n      <td>yes</td>\n      <td>Post</td>\n      <td>II</td>\n    </tr>\n    <tr>\n      <th>2</th>\n      <td>2</td>\n      <td>1</td>\n      <td>712</td>\n      <td>58</td>\n      <td>35</td>\n      <td>9</td>\n      <td>52</td>\n      <td>271</td>\n      <td>yes</td>\n      <td>Post</td>\n      <td>II</td>\n    </tr>\n    <tr>\n      <th>3</th>\n      <td>3</td>\n      <td>1</td>\n      <td>1807</td>\n      <td>59</td>\n      <td>17</td>\n      <td>4</td>\n      <td>60</td>\n      <td>29</td>\n      <td>yes</td>\n      <td>Post</td>\n      <td>II</td>\n    </tr>\n    <tr>\n      <th>4</th>\n      <td>4</td>\n      <td>1</td>\n      <td>772</td>\n      <td>73</td>\n      <td>35</td>\n      <td>1</td>\n      <td>26</td>\n      <td>65</td>\n      <td>no</td>\n      <td>Post</td>\n      <td>II</td>\n    </tr>\n    <tr>\n      <th>...</th>\n      <td>...</td>\n      <td>...</td>\n      <td>...</td>\n      <td>...</td>\n      <td>...</td>\n      <td>...</td>\n      <td>...</td>\n      <td>...</td>\n      <td>...</td>\n      <td>...</td>\n      <td>...</td>\n    </tr>\n    <tr>\n      <th>681</th>\n      <td>681</td>\n      <td>0</td>\n      <td>721</td>\n      <td>49</td>\n      <td>30</td>\n      <td>3</td>\n      <td>1</td>\n      <td>84</td>\n      <td>no</td>\n      <td>Pre</td>\n      <td>III</td>\n    </tr>\n    <tr>\n      <th>682</th>\n      <td>682</td>\n      <td>0</td>\n      <td>186</td>\n      <td>53</td>\n      <td>25</td>\n      <td>17</td>\n      <td>0</td>\n      <td>0</td>\n      <td>yes</td>\n      <td>Post</td>\n      <td>III</td>\n    </tr>\n    <tr>\n      <th>683</th>\n      <td>683</td>\n      <td>1</td>\n      <td>769</td>\n      <td>51</td>\n      <td>25</td>\n      <td>5</td>\n      <td>43</td>\n      <td>0</td>\n      <td>no</td>\n      <td>Pre</td>\n      <td>III</td>\n    </tr>\n    <tr>\n      <th>684</th>\n      <td>684</td>\n      <td>1</td>\n      <td>727</td>\n      <td>52</td>\n      <td>23</td>\n      <td>3</td>\n      <td>15</td>\n      <td>34</td>\n      <td>no</td>\n      <td>Post</td>\n      <td>II</td>\n    </tr>\n    <tr>\n      <th>685</th>\n      <td>685</td>\n      <td>1</td>\n      <td>1701</td>\n      <td>55</td>\n      <td>23</td>\n      <td>9</td>\n      <td>116</td>\n      <td>15</td>\n      <td>no</td>\n      <td>Post</td>\n      <td>II</td>\n    </tr>\n  </tbody>\n</table>\n<p>686 rows × 11 columns</p>\n</div>"
     },
     "execution_count": 3,
     "metadata": {},
     "output_type": "execute_result"
    }
   ],
   "source": [
    "# Load dataset and its reference\n",
    "df, ref = loader.load_dataset(ds_name='GBSG2').values()\n",
    "# support2, \n",
    "df"
   ],
   "metadata": {
    "collapsed": false,
    "ExecuteTime": {
     "end_time": "2024-07-05T06:01:29.650204Z",
     "start_time": "2024-07-05T06:01:29.631775Z"
    }
   },
   "id": "894b9d8a6dd86347",
   "execution_count": 3
  },
  {
   "cell_type": "code",
   "outputs": [],
   "source": [
    "cat_feats, num_feats = [], []\n",
    "for i in df.columns:\n",
    "    if i.split('_')[0] == 'num':\n",
    "        num_feats.append(i)\n",
    "    if i.split('_')[0] == 'fac':\n",
    "        cat_feats.append(i)"
   ],
   "metadata": {
    "collapsed": false,
    "ExecuteTime": {
     "end_time": "2024-07-05T06:01:29.658294Z",
     "start_time": "2024-07-05T06:01:29.653761Z"
    }
   },
   "id": "ee22f0370d75a726",
   "execution_count": 4
  },
  {
   "cell_type": "code",
   "outputs": [
    {
     "data": {
      "text/plain": "      num_age  num_tsize  num_pnodes  num_progrec  num_estrec  fac_horTh_yes  \\\n0    1.675756  -0.583058   -0.367396    -0.306630   -0.197762              0   \n1    0.291448  -1.213055    0.363666    -0.242332   -0.125854              1   \n2    0.489207   0.396937    0.729197    -0.286846    1.142349              1   \n3    0.588086  -0.863056   -0.184630    -0.247278   -0.439636              1   \n4    1.972393   0.396937   -0.732927    -0.415441   -0.204300              0   \n..        ...        ...         ...          ...         ...            ...   \n681 -0.400705   0.046939   -0.367396    -0.539091   -0.080094              0   \n682 -0.005189  -0.303060    2.191322    -0.544037   -0.629213              1   \n683 -0.202947  -0.303060   -0.001865    -0.331360   -0.629213              0   \n684 -0.104068  -0.443059   -0.367396    -0.469847   -0.406951              0   \n685  0.192569  -0.443059    0.729197     0.029698   -0.531156              0   \n\n     fac_menostat_Pre  fac_tgrade_II  fac_tgrade_III  \n0                   0              1               0  \n1                   0              1               0  \n2                   0              1               0  \n3                   0              1               0  \n4                   0              1               0  \n..                ...            ...             ...  \n681                 1              0               1  \n682                 0              0               1  \n683                 1              0               1  \n684                 0              1               0  \n685                 0              1               0  \n\n[686 rows x 9 columns]",
      "text/html": "<div>\n<style scoped>\n    .dataframe tbody tr th:only-of-type {\n        vertical-align: middle;\n    }\n\n    .dataframe tbody tr th {\n        vertical-align: top;\n    }\n\n    .dataframe thead th {\n        text-align: right;\n    }\n</style>\n<table border=\"1\" class=\"dataframe\">\n  <thead>\n    <tr style=\"text-align: right;\">\n      <th></th>\n      <th>num_age</th>\n      <th>num_tsize</th>\n      <th>num_pnodes</th>\n      <th>num_progrec</th>\n      <th>num_estrec</th>\n      <th>fac_horTh_yes</th>\n      <th>fac_menostat_Pre</th>\n      <th>fac_tgrade_II</th>\n      <th>fac_tgrade_III</th>\n    </tr>\n  </thead>\n  <tbody>\n    <tr>\n      <th>0</th>\n      <td>1.675756</td>\n      <td>-0.583058</td>\n      <td>-0.367396</td>\n      <td>-0.306630</td>\n      <td>-0.197762</td>\n      <td>0</td>\n      <td>0</td>\n      <td>1</td>\n      <td>0</td>\n    </tr>\n    <tr>\n      <th>1</th>\n      <td>0.291448</td>\n      <td>-1.213055</td>\n      <td>0.363666</td>\n      <td>-0.242332</td>\n      <td>-0.125854</td>\n      <td>1</td>\n      <td>0</td>\n      <td>1</td>\n      <td>0</td>\n    </tr>\n    <tr>\n      <th>2</th>\n      <td>0.489207</td>\n      <td>0.396937</td>\n      <td>0.729197</td>\n      <td>-0.286846</td>\n      <td>1.142349</td>\n      <td>1</td>\n      <td>0</td>\n      <td>1</td>\n      <td>0</td>\n    </tr>\n    <tr>\n      <th>3</th>\n      <td>0.588086</td>\n      <td>-0.863056</td>\n      <td>-0.184630</td>\n      <td>-0.247278</td>\n      <td>-0.439636</td>\n      <td>1</td>\n      <td>0</td>\n      <td>1</td>\n      <td>0</td>\n    </tr>\n    <tr>\n      <th>4</th>\n      <td>1.972393</td>\n      <td>0.396937</td>\n      <td>-0.732927</td>\n      <td>-0.415441</td>\n      <td>-0.204300</td>\n      <td>0</td>\n      <td>0</td>\n      <td>1</td>\n      <td>0</td>\n    </tr>\n    <tr>\n      <th>...</th>\n      <td>...</td>\n      <td>...</td>\n      <td>...</td>\n      <td>...</td>\n      <td>...</td>\n      <td>...</td>\n      <td>...</td>\n      <td>...</td>\n      <td>...</td>\n    </tr>\n    <tr>\n      <th>681</th>\n      <td>-0.400705</td>\n      <td>0.046939</td>\n      <td>-0.367396</td>\n      <td>-0.539091</td>\n      <td>-0.080094</td>\n      <td>0</td>\n      <td>1</td>\n      <td>0</td>\n      <td>1</td>\n    </tr>\n    <tr>\n      <th>682</th>\n      <td>-0.005189</td>\n      <td>-0.303060</td>\n      <td>2.191322</td>\n      <td>-0.544037</td>\n      <td>-0.629213</td>\n      <td>1</td>\n      <td>0</td>\n      <td>0</td>\n      <td>1</td>\n    </tr>\n    <tr>\n      <th>683</th>\n      <td>-0.202947</td>\n      <td>-0.303060</td>\n      <td>-0.001865</td>\n      <td>-0.331360</td>\n      <td>-0.629213</td>\n      <td>0</td>\n      <td>1</td>\n      <td>0</td>\n      <td>1</td>\n    </tr>\n    <tr>\n      <th>684</th>\n      <td>-0.104068</td>\n      <td>-0.443059</td>\n      <td>-0.367396</td>\n      <td>-0.469847</td>\n      <td>-0.406951</td>\n      <td>0</td>\n      <td>0</td>\n      <td>1</td>\n      <td>0</td>\n    </tr>\n    <tr>\n      <th>685</th>\n      <td>0.192569</td>\n      <td>-0.443059</td>\n      <td>0.729197</td>\n      <td>0.029698</td>\n      <td>-0.531156</td>\n      <td>0</td>\n      <td>0</td>\n      <td>1</td>\n      <td>0</td>\n    </tr>\n  </tbody>\n</table>\n<p>686 rows × 9 columns</p>\n</div>"
     },
     "execution_count": 5,
     "metadata": {},
     "output_type": "execute_result"
    }
   ],
   "source": [
    "features = preprocessing.Preprocessor().fit_transform(\n",
    "    df[num_feats + cat_feats], cat_feats=cat_feats, num_feats=num_feats)\n",
    "features"
   ],
   "metadata": {
    "collapsed": false,
    "ExecuteTime": {
     "end_time": "2024-07-05T06:01:29.701154Z",
     "start_time": "2024-07-05T06:01:29.662307Z"
    }
   },
   "id": "29f575a22cec9423",
   "execution_count": 5
  },
  {
   "cell_type": "code",
   "outputs": [
    {
     "data": {
      "text/plain": "array([[ 1.67575586, -0.58305801, -0.36739603, ...,  0.        ,\n         1.        ,  0.        ],\n       [ 0.29144834, -1.21305453,  0.36366612, ...,  0.        ,\n         1.        ,  0.        ],\n       [ 0.48920655,  0.39693659,  0.7291972 , ...,  0.        ,\n         1.        ,  0.        ],\n       ...,\n       [-0.20294721, -0.30305955, -0.00186495, ...,  1.        ,\n         0.        ,  1.        ],\n       [-0.1040681 , -0.44305878, -0.36739603, ...,  0.        ,\n         1.        ,  0.        ],\n       [ 0.19256923, -0.44305878,  0.7291972 , ...,  0.        ,\n         1.        ,  0.        ]])"
     },
     "execution_count": 6,
     "metadata": {},
     "output_type": "execute_result"
    }
   ],
   "source": [
    "x, t, e = features.values, df.time.values, df.event.values\n",
    "# x = x[:,:10]\n",
    "x"
   ],
   "metadata": {
    "collapsed": false,
    "ExecuteTime": {
     "end_time": "2024-07-05T06:01:29.710764Z",
     "start_time": "2024-07-05T06:01:29.702734Z"
    }
   },
   "id": "87faa04ea1e96437",
   "execution_count": 6
  },
  {
   "cell_type": "code",
   "outputs": [],
   "source": [
    "n = len(x)\n",
    "\n",
    "tr_size = int(n * 0.70)\n",
    "vl_size = int(n * 0.10)\n",
    "te_size = int(n * 0.20)\n",
    "\n",
    "x_train, x_test, x_val = x[:tr_size], x[-te_size:], x[tr_size:tr_size+vl_size]\n",
    "t_train, t_test, t_val = t[:tr_size], t[-te_size:], t[tr_size:tr_size+vl_size]\n",
    "e_train, e_test, e_val = e[:tr_size], e[-te_size:], e[tr_size:tr_size+vl_size]"
   ],
   "metadata": {
    "collapsed": false,
    "ExecuteTime": {
     "end_time": "2024-07-05T06:01:29.718967Z",
     "start_time": "2024-07-05T06:01:29.712651Z"
    }
   },
   "id": "57f0e5c8df17f608",
   "execution_count": 7
  },
  {
   "cell_type": "code",
   "outputs": [
    {
     "data": {
      "text/plain": "array([[ 1.67575586, -0.58305801, -0.36739603, ...,  0.        ,\n         1.        ,  0.        ],\n       [ 0.29144834, -1.21305453,  0.36366612, ...,  0.        ,\n         1.        ,  0.        ],\n       [ 0.48920655,  0.39693659,  0.7291972 , ...,  0.        ,\n         1.        ,  0.        ],\n       ...,\n       [-0.89510097, -0.65305762,  0.18090058, ...,  1.        ,\n         1.        ,  0.        ],\n       [-0.49958454, -0.37305917, -0.73292711, ...,  1.        ,\n         1.        ,  0.        ],\n       [-0.59846365, -1.00305569, -0.73292711, ...,  1.        ,\n         0.        ,  1.        ]])"
     },
     "execution_count": 8,
     "metadata": {},
     "output_type": "execute_result"
    }
   ],
   "source": [
    "x_train"
   ],
   "metadata": {
    "collapsed": false,
    "ExecuteTime": {
     "end_time": "2024-07-05T06:01:29.726878Z",
     "start_time": "2024-07-05T06:01:29.720799Z"
    }
   },
   "id": "87e5158010887d01",
   "execution_count": 8
  },
  {
   "cell_type": "code",
   "outputs": [
    {
     "name": "stderr",
     "output_type": "stream",
     "text": [
      " 39%|███▉      | 39/100 [00:00<00:00, 68.04it/s]\n"
     ]
    },
    {
     "data": {
      "text/plain": "<api.baseline.dcph.DeepCoxPH at 0x7fb006116c10>"
     },
     "execution_count": 9,
     "metadata": {},
     "output_type": "execute_result"
    }
   ],
   "source": [
    "from api.baseline.dcph import DeepCoxPH as DCPH\n",
    "\n",
    "model = DCPH(layers=[100, 100])\n",
    "# The fit method is called to train the model\n",
    "model.fit(x_train, t_train, e_train, iters=100, learning_rate=1e-4)"
   ],
   "metadata": {
    "collapsed": false,
    "ExecuteTime": {
     "end_time": "2024-07-05T06:01:30.380308Z",
     "start_time": "2024-07-05T06:01:29.728337Z"
    }
   },
   "id": "af4e0a5740ddc4e7",
   "execution_count": 9
  },
  {
   "cell_type": "code",
   "outputs": [
    {
     "data": {
      "text/plain": "0.6552086066649173"
     },
     "execution_count": 10,
     "metadata": {},
     "output_type": "execute_result"
    }
   ],
   "source": [
    "import torch\n",
    "from sksurv.metrics import concordance_index_censored\n",
    "\n",
    "concordance_index_censored(\n",
    "    e_test != 0, \n",
    "    t_test, \n",
    "    model.forward(torch.from_numpy(x_test).float()).detach().cpu().numpy().flatten()\n",
    ")[0]"
   ],
   "metadata": {
    "collapsed": false,
    "ExecuteTime": {
     "end_time": "2024-07-05T06:01:30.400119Z",
     "start_time": "2024-07-05T06:01:30.383105Z"
    }
   },
   "id": "76f0c5b0f4f2ff1c",
   "execution_count": 10
  },
  {
   "cell_type": "code",
   "outputs": [],
   "source": [
    "# out_risk = model.predict_risk(x_test, times)\n",
    "# out_survival = model.predict_survival(x_test, times)"
   ],
   "metadata": {
    "collapsed": false,
    "ExecuteTime": {
     "end_time": "2024-07-05T06:01:30.405669Z",
     "start_time": "2024-07-05T06:01:30.402362Z"
    }
   },
   "id": "3a56125c2988daa0",
   "execution_count": 11
  },
  {
   "cell_type": "code",
   "outputs": [],
   "source": [
    "# from sksurv.metrics import concordance_index_ipcw, brier_score, cumulative_dynamic_auc\n",
    "# \n",
    "# cis, brs = [], []\n",
    "# \n",
    "# et_train = np.array([(e_train[i], t_train[i]) for i in range(len(e_train))], dtype = [('e', bool), ('t', float)])\n",
    "# et_test = np.array([(e_test[i], t_test[i]) for i in range(len(e_test))], dtype = [('e', bool), ('t', float)])\n",
    "# et_val = np.array([(e_val[i], t_val[i]) for i in range(len(e_val))], dtype = [('e', bool), ('t', float)])\n",
    "# \n",
    "# for i, _ in enumerate(times):\n",
    "#     cis.append(concordance_index_ipcw(et_train, et_test, out_risk[:, i], times[i])[0])\n",
    "#     \n",
    "# brs.append(brier_score(et_train, et_test, out_survival, times)[1])\n",
    "# \n",
    "# roc_auc = []\n",
    "# for i, _ in enumerate(times):\n",
    "#     roc_auc.append(cumulative_dynamic_auc(et_train, et_test, out_risk[:, i], times[i])[0])\n",
    "#     \n",
    "# for horizon in enumerate(horizons):\n",
    "#     print(f\"For {horizon[1]} quantile,\")\n",
    "#     print(\"TD Concordance Index:\", cis[horizon[0]])\n",
    "#     print(\"Brier Score:\", brs[0][horizon[0]])\n",
    "#     print(\"ROC AUC \", roc_auc[horizon[0]][0], \"\\n\")"
   ],
   "metadata": {
    "collapsed": false,
    "ExecuteTime": {
     "end_time": "2024-07-05T06:01:30.410669Z",
     "start_time": "2024-07-05T06:01:30.407690Z"
    }
   },
   "id": "558a105ba74f71cb",
   "execution_count": 12
  }
 ],
 "metadata": {
  "kernelspec": {
   "display_name": "Python 3",
   "language": "python",
   "name": "python3"
  },
  "language_info": {
   "codemirror_mode": {
    "name": "ipython",
    "version": 2
   },
   "file_extension": ".py",
   "mimetype": "text/x-python",
   "name": "python",
   "nbconvert_exporter": "python",
   "pygments_lexer": "ipython2",
   "version": "2.7.6"
  }
 },
 "nbformat": 4,
 "nbformat_minor": 5
}
