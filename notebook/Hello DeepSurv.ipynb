{
 "cells": [
  {
   "cell_type": "code",
   "outputs": [],
   "source": [
    "import numpy as np\n",
    "from api.auton import datasets, preprocessing"
   ],
   "metadata": {
    "collapsed": false,
    "ExecuteTime": {
     "end_time": "2024-07-03T07:41:52.371289Z",
     "start_time": "2024-07-03T07:41:45.398981Z"
    }
   },
   "id": "59e9853bde330ed8",
   "execution_count": 1
  },
  {
   "cell_type": "code",
   "outputs": [
    {
     "data": {
      "text/plain": "         sex            dzgroup             dzclass      income   race  \\\n0       male        Lung Cancer              Cancer    $11-$25k  other   \n1     female          Cirrhosis  COPD/CHF/Cirrhosis    $11-$25k  white   \n2     female          Cirrhosis  COPD/CHF/Cirrhosis  under $11k  white   \n3     female        Lung Cancer              Cancer  under $11k  white   \n4     female  ARF/MOSF w/Sepsis            ARF/MOSF         NaN  white   \n...      ...                ...                 ...         ...    ...   \n9100    male  ARF/MOSF w/Sepsis            ARF/MOSF         NaN  white   \n9101  female               Coma                Coma         NaN  white   \n9102    male  ARF/MOSF w/Sepsis            ARF/MOSF         NaN  white   \n9103    male       MOSF w/Malig            ARF/MOSF         NaN  white   \n9104  female  ARF/MOSF w/Sepsis            ARF/MOSF    $11-$25k  white   \n\n              ca       age  num.co  meanbp       wblc  ...       alb  \\\n0     metastatic  62.84998       0    97.0   6.000000  ...  1.799805   \n1             no  60.33899       2    43.0  17.097656  ...       NaN   \n2             no  52.74698       2    70.0   8.500000  ...       NaN   \n3     metastatic  42.38498       2    75.0   9.099609  ...       NaN   \n4             no  79.88495       1    59.0  13.500000  ...       NaN   \n...          ...       ...     ...     ...        ...  ...       ...   \n9100          no  66.07300       1   109.0   7.399414  ...  3.699707   \n9101          no  55.15399       1    43.0        NaN  ...       NaN   \n9102          no  70.38196       1   111.0   8.398438  ...       NaN   \n9103         yes  47.01999       1    99.0   7.599609  ...  1.199951   \n9104          no  81.53894       1    75.0   8.599609  ...  4.500000   \n\n          bili      crea    sod        ph  glucose   bun   urine  adlp  adls  \n0     0.199982  1.199951  141.0  7.459961      NaN   NaN     NaN   7.0   7.0  \n1          NaN  5.500000  132.0  7.250000      NaN   NaN     NaN   NaN   1.0  \n2     2.199707  2.000000  134.0  7.459961      NaN   NaN     NaN   1.0   0.0  \n3          NaN  0.799927  139.0       NaN      NaN   NaN     NaN   0.0   0.0  \n4          NaN  0.799927  143.0  7.509766      NaN   NaN     NaN   NaN   2.0  \n...        ...       ...    ...       ...      ...   ...     ...   ...   ...  \n9100  0.399963  1.099854  131.0  7.459961    188.0  21.0     NaN   NaN   0.0  \n9101       NaN  5.899414  135.0  7.289062    190.0  49.0     0.0   NaN   0.0  \n9102  0.399963  2.699707  139.0  7.379883    189.0  60.0  3900.0   NaN   NaN  \n9103  0.399963  3.500000  135.0  7.469727    246.0  55.0     NaN   NaN   0.0  \n9104  0.599976  1.199951  137.0  7.289062    187.0  15.0     NaN   0.0   NaN  \n\n[9105 rows x 24 columns]",
      "text/html": "<div>\n<style scoped>\n    .dataframe tbody tr th:only-of-type {\n        vertical-align: middle;\n    }\n\n    .dataframe tbody tr th {\n        vertical-align: top;\n    }\n\n    .dataframe thead th {\n        text-align: right;\n    }\n</style>\n<table border=\"1\" class=\"dataframe\">\n  <thead>\n    <tr style=\"text-align: right;\">\n      <th></th>\n      <th>sex</th>\n      <th>dzgroup</th>\n      <th>dzclass</th>\n      <th>income</th>\n      <th>race</th>\n      <th>ca</th>\n      <th>age</th>\n      <th>num.co</th>\n      <th>meanbp</th>\n      <th>wblc</th>\n      <th>...</th>\n      <th>alb</th>\n      <th>bili</th>\n      <th>crea</th>\n      <th>sod</th>\n      <th>ph</th>\n      <th>glucose</th>\n      <th>bun</th>\n      <th>urine</th>\n      <th>adlp</th>\n      <th>adls</th>\n    </tr>\n  </thead>\n  <tbody>\n    <tr>\n      <th>0</th>\n      <td>male</td>\n      <td>Lung Cancer</td>\n      <td>Cancer</td>\n      <td>$11-$25k</td>\n      <td>other</td>\n      <td>metastatic</td>\n      <td>62.84998</td>\n      <td>0</td>\n      <td>97.0</td>\n      <td>6.000000</td>\n      <td>...</td>\n      <td>1.799805</td>\n      <td>0.199982</td>\n      <td>1.199951</td>\n      <td>141.0</td>\n      <td>7.459961</td>\n      <td>NaN</td>\n      <td>NaN</td>\n      <td>NaN</td>\n      <td>7.0</td>\n      <td>7.0</td>\n    </tr>\n    <tr>\n      <th>1</th>\n      <td>female</td>\n      <td>Cirrhosis</td>\n      <td>COPD/CHF/Cirrhosis</td>\n      <td>$11-$25k</td>\n      <td>white</td>\n      <td>no</td>\n      <td>60.33899</td>\n      <td>2</td>\n      <td>43.0</td>\n      <td>17.097656</td>\n      <td>...</td>\n      <td>NaN</td>\n      <td>NaN</td>\n      <td>5.500000</td>\n      <td>132.0</td>\n      <td>7.250000</td>\n      <td>NaN</td>\n      <td>NaN</td>\n      <td>NaN</td>\n      <td>NaN</td>\n      <td>1.0</td>\n    </tr>\n    <tr>\n      <th>2</th>\n      <td>female</td>\n      <td>Cirrhosis</td>\n      <td>COPD/CHF/Cirrhosis</td>\n      <td>under $11k</td>\n      <td>white</td>\n      <td>no</td>\n      <td>52.74698</td>\n      <td>2</td>\n      <td>70.0</td>\n      <td>8.500000</td>\n      <td>...</td>\n      <td>NaN</td>\n      <td>2.199707</td>\n      <td>2.000000</td>\n      <td>134.0</td>\n      <td>7.459961</td>\n      <td>NaN</td>\n      <td>NaN</td>\n      <td>NaN</td>\n      <td>1.0</td>\n      <td>0.0</td>\n    </tr>\n    <tr>\n      <th>3</th>\n      <td>female</td>\n      <td>Lung Cancer</td>\n      <td>Cancer</td>\n      <td>under $11k</td>\n      <td>white</td>\n      <td>metastatic</td>\n      <td>42.38498</td>\n      <td>2</td>\n      <td>75.0</td>\n      <td>9.099609</td>\n      <td>...</td>\n      <td>NaN</td>\n      <td>NaN</td>\n      <td>0.799927</td>\n      <td>139.0</td>\n      <td>NaN</td>\n      <td>NaN</td>\n      <td>NaN</td>\n      <td>NaN</td>\n      <td>0.0</td>\n      <td>0.0</td>\n    </tr>\n    <tr>\n      <th>4</th>\n      <td>female</td>\n      <td>ARF/MOSF w/Sepsis</td>\n      <td>ARF/MOSF</td>\n      <td>NaN</td>\n      <td>white</td>\n      <td>no</td>\n      <td>79.88495</td>\n      <td>1</td>\n      <td>59.0</td>\n      <td>13.500000</td>\n      <td>...</td>\n      <td>NaN</td>\n      <td>NaN</td>\n      <td>0.799927</td>\n      <td>143.0</td>\n      <td>7.509766</td>\n      <td>NaN</td>\n      <td>NaN</td>\n      <td>NaN</td>\n      <td>NaN</td>\n      <td>2.0</td>\n    </tr>\n    <tr>\n      <th>...</th>\n      <td>...</td>\n      <td>...</td>\n      <td>...</td>\n      <td>...</td>\n      <td>...</td>\n      <td>...</td>\n      <td>...</td>\n      <td>...</td>\n      <td>...</td>\n      <td>...</td>\n      <td>...</td>\n      <td>...</td>\n      <td>...</td>\n      <td>...</td>\n      <td>...</td>\n      <td>...</td>\n      <td>...</td>\n      <td>...</td>\n      <td>...</td>\n      <td>...</td>\n      <td>...</td>\n    </tr>\n    <tr>\n      <th>9100</th>\n      <td>male</td>\n      <td>ARF/MOSF w/Sepsis</td>\n      <td>ARF/MOSF</td>\n      <td>NaN</td>\n      <td>white</td>\n      <td>no</td>\n      <td>66.07300</td>\n      <td>1</td>\n      <td>109.0</td>\n      <td>7.399414</td>\n      <td>...</td>\n      <td>3.699707</td>\n      <td>0.399963</td>\n      <td>1.099854</td>\n      <td>131.0</td>\n      <td>7.459961</td>\n      <td>188.0</td>\n      <td>21.0</td>\n      <td>NaN</td>\n      <td>NaN</td>\n      <td>0.0</td>\n    </tr>\n    <tr>\n      <th>9101</th>\n      <td>female</td>\n      <td>Coma</td>\n      <td>Coma</td>\n      <td>NaN</td>\n      <td>white</td>\n      <td>no</td>\n      <td>55.15399</td>\n      <td>1</td>\n      <td>43.0</td>\n      <td>NaN</td>\n      <td>...</td>\n      <td>NaN</td>\n      <td>NaN</td>\n      <td>5.899414</td>\n      <td>135.0</td>\n      <td>7.289062</td>\n      <td>190.0</td>\n      <td>49.0</td>\n      <td>0.0</td>\n      <td>NaN</td>\n      <td>0.0</td>\n    </tr>\n    <tr>\n      <th>9102</th>\n      <td>male</td>\n      <td>ARF/MOSF w/Sepsis</td>\n      <td>ARF/MOSF</td>\n      <td>NaN</td>\n      <td>white</td>\n      <td>no</td>\n      <td>70.38196</td>\n      <td>1</td>\n      <td>111.0</td>\n      <td>8.398438</td>\n      <td>...</td>\n      <td>NaN</td>\n      <td>0.399963</td>\n      <td>2.699707</td>\n      <td>139.0</td>\n      <td>7.379883</td>\n      <td>189.0</td>\n      <td>60.0</td>\n      <td>3900.0</td>\n      <td>NaN</td>\n      <td>NaN</td>\n    </tr>\n    <tr>\n      <th>9103</th>\n      <td>male</td>\n      <td>MOSF w/Malig</td>\n      <td>ARF/MOSF</td>\n      <td>NaN</td>\n      <td>white</td>\n      <td>yes</td>\n      <td>47.01999</td>\n      <td>1</td>\n      <td>99.0</td>\n      <td>7.599609</td>\n      <td>...</td>\n      <td>1.199951</td>\n      <td>0.399963</td>\n      <td>3.500000</td>\n      <td>135.0</td>\n      <td>7.469727</td>\n      <td>246.0</td>\n      <td>55.0</td>\n      <td>NaN</td>\n      <td>NaN</td>\n      <td>0.0</td>\n    </tr>\n    <tr>\n      <th>9104</th>\n      <td>female</td>\n      <td>ARF/MOSF w/Sepsis</td>\n      <td>ARF/MOSF</td>\n      <td>$11-$25k</td>\n      <td>white</td>\n      <td>no</td>\n      <td>81.53894</td>\n      <td>1</td>\n      <td>75.0</td>\n      <td>8.599609</td>\n      <td>...</td>\n      <td>4.500000</td>\n      <td>0.599976</td>\n      <td>1.199951</td>\n      <td>137.0</td>\n      <td>7.289062</td>\n      <td>187.0</td>\n      <td>15.0</td>\n      <td>NaN</td>\n      <td>0.0</td>\n      <td>NaN</td>\n    </tr>\n  </tbody>\n</table>\n<p>9105 rows × 24 columns</p>\n</div>"
     },
     "execution_count": 2,
     "metadata": {},
     "output_type": "execute_result"
    }
   ],
   "source": [
    "# Load the SUPPORT Dataset\n",
    "outcomes, features = datasets.load_dataset(dataset='SUPPORT')\n",
    "features"
   ],
   "metadata": {
    "collapsed": false,
    "ExecuteTime": {
     "end_time": "2024-07-03T07:41:52.563254Z",
     "start_time": "2024-07-03T07:41:52.375346Z"
    }
   },
   "id": "db660e37816bfd9e",
   "execution_count": 2
  },
  {
   "cell_type": "code",
   "outputs": [
    {
     "data": {
      "text/plain": "           age    num.co    meanbp          wblc       hrt      resp  \\\n0     0.012772 -1.390013  0.449837 -6.931821e-01 -0.892283 -0.138967   \n1    -0.148262  0.097711 -1.500702  5.187096e-01  0.470382  1.114591   \n2    -0.635153  0.097711 -0.525432 -4.201759e-01 -0.290175  0.487812   \n3    -1.299688  0.097711 -0.344827 -3.546971e-01 -0.290175  0.905665   \n4     1.105258 -0.646151 -0.922764  1.258366e-01  0.470382 -0.347893   \n...        ...       ...       ...           ...       ...       ...   \n9100  0.219471 -0.646151  0.883291 -5.403626e-01  0.216863 -0.138967   \n9101 -0.480786 -0.646151 -1.500702  1.939826e-16 -3.078884 -1.601451   \n9102  0.495813 -0.646151  0.955533 -4.312668e-01 -0.448624  0.069960   \n9103 -1.002436 -0.646151  0.522080 -5.185008e-01  0.407002  0.069960   \n9104  1.211332 -0.646151 -0.344827 -4.092983e-01 -0.892283  0.069960   \n\n          temp          pafi           alb          bili  ...  dzclass_Coma  \\\n0    -0.881504  1.569019e+00 -1.655686e+00 -5.238337e-01  ...             0   \n1    -2.005013 -1.495658e+00 -6.389701e-16  9.880260e-17  ...             0   \n2     0.235766 -8.319880e-02 -6.389701e-16 -7.892740e-02  ...             0   \n3    -1.680444 -3.003564e-16 -6.389701e-16  9.880260e-17  ...             0   \n4     0.635237 -6.997670e-01 -6.389701e-16  9.880260e-17  ...             0   \n...        ...           ...           ...           ...  ...           ...   \n9100 -1.124933  4.276908e-01  1.077955e+00 -4.793410e-01  ...             0   \n9101  1.190748 -2.222321e-01 -6.389701e-16  9.880260e-17  ...             1   \n9102 -0.325992 -6.290945e-01 -6.389701e-16 -4.793410e-01  ...             0   \n9103 -0.563174  1.997678e+00 -2.518775e+00 -4.793410e-01  ...             0   \n9104 -0.725463 -9.640862e-02  2.229443e+00 -4.348415e-01  ...             0   \n\n      income_$25-$50k  income_>$50k  income_under $11k  race_black  \\\n0                   0             0                  0           0   \n1                   0             0                  0           0   \n2                   0             0                  1           0   \n3                   0             0                  1           0   \n4                   0             0                  0           0   \n...               ...           ...                ...         ...   \n9100                0             0                  0           0   \n9101                0             0                  0           0   \n9102                0             0                  0           0   \n9103                0             0                  0           0   \n9104                0             0                  0           0   \n\n      race_hispanic  race_other  race_white  ca_no  ca_yes  \n0                 0           1           0      0       0  \n1                 0           0           1      1       0  \n2                 0           0           1      1       0  \n3                 0           0           1      0       0  \n4                 0           0           1      1       0  \n...             ...         ...         ...    ...     ...  \n9100              0           0           1      1       0  \n9101              0           0           1      1       0  \n9102              0           0           1      1       0  \n9103              0           0           1      0       1  \n9104              0           0           1      1       0  \n\n[9105 rows x 38 columns]",
      "text/html": "<div>\n<style scoped>\n    .dataframe tbody tr th:only-of-type {\n        vertical-align: middle;\n    }\n\n    .dataframe tbody tr th {\n        vertical-align: top;\n    }\n\n    .dataframe thead th {\n        text-align: right;\n    }\n</style>\n<table border=\"1\" class=\"dataframe\">\n  <thead>\n    <tr style=\"text-align: right;\">\n      <th></th>\n      <th>age</th>\n      <th>num.co</th>\n      <th>meanbp</th>\n      <th>wblc</th>\n      <th>hrt</th>\n      <th>resp</th>\n      <th>temp</th>\n      <th>pafi</th>\n      <th>alb</th>\n      <th>bili</th>\n      <th>...</th>\n      <th>dzclass_Coma</th>\n      <th>income_$25-$50k</th>\n      <th>income_&gt;$50k</th>\n      <th>income_under $11k</th>\n      <th>race_black</th>\n      <th>race_hispanic</th>\n      <th>race_other</th>\n      <th>race_white</th>\n      <th>ca_no</th>\n      <th>ca_yes</th>\n    </tr>\n  </thead>\n  <tbody>\n    <tr>\n      <th>0</th>\n      <td>0.012772</td>\n      <td>-1.390013</td>\n      <td>0.449837</td>\n      <td>-6.931821e-01</td>\n      <td>-0.892283</td>\n      <td>-0.138967</td>\n      <td>-0.881504</td>\n      <td>1.569019e+00</td>\n      <td>-1.655686e+00</td>\n      <td>-5.238337e-01</td>\n      <td>...</td>\n      <td>0</td>\n      <td>0</td>\n      <td>0</td>\n      <td>0</td>\n      <td>0</td>\n      <td>0</td>\n      <td>1</td>\n      <td>0</td>\n      <td>0</td>\n      <td>0</td>\n    </tr>\n    <tr>\n      <th>1</th>\n      <td>-0.148262</td>\n      <td>0.097711</td>\n      <td>-1.500702</td>\n      <td>5.187096e-01</td>\n      <td>0.470382</td>\n      <td>1.114591</td>\n      <td>-2.005013</td>\n      <td>-1.495658e+00</td>\n      <td>-6.389701e-16</td>\n      <td>9.880260e-17</td>\n      <td>...</td>\n      <td>0</td>\n      <td>0</td>\n      <td>0</td>\n      <td>0</td>\n      <td>0</td>\n      <td>0</td>\n      <td>0</td>\n      <td>1</td>\n      <td>1</td>\n      <td>0</td>\n    </tr>\n    <tr>\n      <th>2</th>\n      <td>-0.635153</td>\n      <td>0.097711</td>\n      <td>-0.525432</td>\n      <td>-4.201759e-01</td>\n      <td>-0.290175</td>\n      <td>0.487812</td>\n      <td>0.235766</td>\n      <td>-8.319880e-02</td>\n      <td>-6.389701e-16</td>\n      <td>-7.892740e-02</td>\n      <td>...</td>\n      <td>0</td>\n      <td>0</td>\n      <td>0</td>\n      <td>1</td>\n      <td>0</td>\n      <td>0</td>\n      <td>0</td>\n      <td>1</td>\n      <td>1</td>\n      <td>0</td>\n    </tr>\n    <tr>\n      <th>3</th>\n      <td>-1.299688</td>\n      <td>0.097711</td>\n      <td>-0.344827</td>\n      <td>-3.546971e-01</td>\n      <td>-0.290175</td>\n      <td>0.905665</td>\n      <td>-1.680444</td>\n      <td>-3.003564e-16</td>\n      <td>-6.389701e-16</td>\n      <td>9.880260e-17</td>\n      <td>...</td>\n      <td>0</td>\n      <td>0</td>\n      <td>0</td>\n      <td>1</td>\n      <td>0</td>\n      <td>0</td>\n      <td>0</td>\n      <td>1</td>\n      <td>0</td>\n      <td>0</td>\n    </tr>\n    <tr>\n      <th>4</th>\n      <td>1.105258</td>\n      <td>-0.646151</td>\n      <td>-0.922764</td>\n      <td>1.258366e-01</td>\n      <td>0.470382</td>\n      <td>-0.347893</td>\n      <td>0.635237</td>\n      <td>-6.997670e-01</td>\n      <td>-6.389701e-16</td>\n      <td>9.880260e-17</td>\n      <td>...</td>\n      <td>0</td>\n      <td>0</td>\n      <td>0</td>\n      <td>0</td>\n      <td>0</td>\n      <td>0</td>\n      <td>0</td>\n      <td>1</td>\n      <td>1</td>\n      <td>0</td>\n    </tr>\n    <tr>\n      <th>...</th>\n      <td>...</td>\n      <td>...</td>\n      <td>...</td>\n      <td>...</td>\n      <td>...</td>\n      <td>...</td>\n      <td>...</td>\n      <td>...</td>\n      <td>...</td>\n      <td>...</td>\n      <td>...</td>\n      <td>...</td>\n      <td>...</td>\n      <td>...</td>\n      <td>...</td>\n      <td>...</td>\n      <td>...</td>\n      <td>...</td>\n      <td>...</td>\n      <td>...</td>\n      <td>...</td>\n    </tr>\n    <tr>\n      <th>9100</th>\n      <td>0.219471</td>\n      <td>-0.646151</td>\n      <td>0.883291</td>\n      <td>-5.403626e-01</td>\n      <td>0.216863</td>\n      <td>-0.138967</td>\n      <td>-1.124933</td>\n      <td>4.276908e-01</td>\n      <td>1.077955e+00</td>\n      <td>-4.793410e-01</td>\n      <td>...</td>\n      <td>0</td>\n      <td>0</td>\n      <td>0</td>\n      <td>0</td>\n      <td>0</td>\n      <td>0</td>\n      <td>0</td>\n      <td>1</td>\n      <td>1</td>\n      <td>0</td>\n    </tr>\n    <tr>\n      <th>9101</th>\n      <td>-0.480786</td>\n      <td>-0.646151</td>\n      <td>-1.500702</td>\n      <td>1.939826e-16</td>\n      <td>-3.078884</td>\n      <td>-1.601451</td>\n      <td>1.190748</td>\n      <td>-2.222321e-01</td>\n      <td>-6.389701e-16</td>\n      <td>9.880260e-17</td>\n      <td>...</td>\n      <td>1</td>\n      <td>0</td>\n      <td>0</td>\n      <td>0</td>\n      <td>0</td>\n      <td>0</td>\n      <td>0</td>\n      <td>1</td>\n      <td>1</td>\n      <td>0</td>\n    </tr>\n    <tr>\n      <th>9102</th>\n      <td>0.495813</td>\n      <td>-0.646151</td>\n      <td>0.955533</td>\n      <td>-4.312668e-01</td>\n      <td>-0.448624</td>\n      <td>0.069960</td>\n      <td>-0.325992</td>\n      <td>-6.290945e-01</td>\n      <td>-6.389701e-16</td>\n      <td>-4.793410e-01</td>\n      <td>...</td>\n      <td>0</td>\n      <td>0</td>\n      <td>0</td>\n      <td>0</td>\n      <td>0</td>\n      <td>0</td>\n      <td>0</td>\n      <td>1</td>\n      <td>1</td>\n      <td>0</td>\n    </tr>\n    <tr>\n      <th>9103</th>\n      <td>-1.002436</td>\n      <td>-0.646151</td>\n      <td>0.522080</td>\n      <td>-5.185008e-01</td>\n      <td>0.407002</td>\n      <td>0.069960</td>\n      <td>-0.563174</td>\n      <td>1.997678e+00</td>\n      <td>-2.518775e+00</td>\n      <td>-4.793410e-01</td>\n      <td>...</td>\n      <td>0</td>\n      <td>0</td>\n      <td>0</td>\n      <td>0</td>\n      <td>0</td>\n      <td>0</td>\n      <td>0</td>\n      <td>1</td>\n      <td>0</td>\n      <td>1</td>\n    </tr>\n    <tr>\n      <th>9104</th>\n      <td>1.211332</td>\n      <td>-0.646151</td>\n      <td>-0.344827</td>\n      <td>-4.092983e-01</td>\n      <td>-0.892283</td>\n      <td>0.069960</td>\n      <td>-0.725463</td>\n      <td>-9.640862e-02</td>\n      <td>2.229443e+00</td>\n      <td>-4.348415e-01</td>\n      <td>...</td>\n      <td>0</td>\n      <td>0</td>\n      <td>0</td>\n      <td>0</td>\n      <td>0</td>\n      <td>0</td>\n      <td>0</td>\n      <td>1</td>\n      <td>1</td>\n      <td>0</td>\n    </tr>\n  </tbody>\n</table>\n<p>9105 rows × 38 columns</p>\n</div>"
     },
     "execution_count": 3,
     "metadata": {},
     "output_type": "execute_result"
    }
   ],
   "source": [
    "cat_feats = ['sex', 'dzgroup', 'dzclass', 'income', 'race', 'ca']\n",
    "num_feats = ['age', 'num.co', 'meanbp', 'wblc', 'hrt', 'resp', 'temp', 'pafi', 'alb', 'bili', 'crea', \n",
    "             'sod', 'ph', 'glucose', 'bun', 'urine', 'adlp', 'adls']\n",
    "\n",
    "features = preprocessing.Preprocessor().fit_transform(features, cat_feats=cat_feats, num_feats=num_feats)\n",
    "features"
   ],
   "metadata": {
    "collapsed": false,
    "ExecuteTime": {
     "end_time": "2024-07-03T07:41:52.689045Z",
     "start_time": "2024-07-03T07:41:52.565909Z"
    }
   },
   "id": "fd4a88838b4cf0bc",
   "execution_count": 3
  },
  {
   "cell_type": "code",
   "outputs": [],
   "source": [
    "horizons = [0.25, 0.5, 0.75]\n",
    "times = np.quantile(outcomes.time[outcomes.event==1], horizons).tolist()"
   ],
   "metadata": {
    "collapsed": false,
    "ExecuteTime": {
     "end_time": "2024-07-03T07:41:52.701529Z",
     "start_time": "2024-07-03T07:41:52.695975Z"
    }
   },
   "id": "11546ae217cafa0",
   "execution_count": 4
  },
  {
   "cell_type": "code",
   "outputs": [],
   "source": [
    "x, t, e = features.values, outcomes.time.values, outcomes.event.values\n",
    "\n",
    "n = len(x)\n",
    "\n",
    "tr_size = int(n * 0.70)\n",
    "vl_size = int(n * 0.10)\n",
    "te_size = int(n * 0.20)\n",
    "\n",
    "x_train, x_test, x_val = x[:tr_size], x[-te_size:], x[tr_size:tr_size+vl_size]\n",
    "t_train, t_test, t_val = t[:tr_size], t[-te_size:], t[tr_size:tr_size+vl_size]\n",
    "e_train, e_test, e_val = e[:tr_size], e[-te_size:], e[tr_size:tr_size+vl_size]"
   ],
   "metadata": {
    "collapsed": false,
    "ExecuteTime": {
     "end_time": "2024-07-03T07:41:52.713941Z",
     "start_time": "2024-07-03T07:41:52.705423Z"
    }
   },
   "id": "57f0e5c8df17f608",
   "execution_count": 5
  },
  {
   "cell_type": "code",
   "outputs": [
    {
     "data": {
      "text/plain": "array([[ 0.01277233, -1.39001299,  0.44983742, ...,  0.        ,\n         0.        ,  0.        ],\n       [-0.14826234,  0.09771103, -1.50070191, ...,  1.        ,\n         1.        ,  0.        ],\n       [-0.63515269,  0.09771103, -0.52543225, ...,  1.        ,\n         1.        ,  0.        ],\n       ...,\n       [ 0.2831526 ,  0.09771103,  1.64183368, ...,  1.        ,\n         1.        ,  0.        ],\n       [-1.61893671, -0.64615098, -0.09197906, ...,  1.        ,\n         1.        ,  0.        ],\n       [ 0.97443018, -0.64615098, -0.52543225, ...,  1.        ,\n         0.        ,  1.        ]])"
     },
     "execution_count": 6,
     "metadata": {},
     "output_type": "execute_result"
    }
   ],
   "source": [
    "x_train"
   ],
   "metadata": {
    "collapsed": false,
    "ExecuteTime": {
     "end_time": "2024-07-03T07:41:52.731685Z",
     "start_time": "2024-07-03T07:41:52.720273Z"
    }
   },
   "id": "87e5158010887d01",
   "execution_count": 6
  },
  {
   "cell_type": "code",
   "outputs": [
    {
     "name": "stderr",
     "output_type": "stream",
     "text": [
      " 36%|███▌      | 36/100 [00:05<00:09,  7.01it/s]\n"
     ]
    },
    {
     "data": {
      "text/plain": "<api.baseline.dcph.DeepCoxPH at 0x7f8c2c6e8c10>"
     },
     "execution_count": 7,
     "metadata": {},
     "output_type": "execute_result"
    }
   ],
   "source": [
    "from api.baseline.dcph import DeepCoxPH as DCPH\n",
    "\n",
    "model = DCPH(layers=[100, 100])\n",
    "# The fit method is called to train the model\n",
    "model.fit(x_train, t_train, e_train, iters=100, learning_rate=1e-4)"
   ],
   "metadata": {
    "collapsed": false,
    "ExecuteTime": {
     "end_time": "2024-07-03T07:41:57.972541Z",
     "start_time": "2024-07-03T07:41:52.734340Z"
    }
   },
   "id": "af4e0a5740ddc4e7",
   "execution_count": 7
  },
  {
   "cell_type": "code",
   "outputs": [],
   "source": [
    "out_risk = model.predict_risk(x_test, times)\n",
    "out_survival = model.predict_survival(x_test, times)"
   ],
   "metadata": {
    "collapsed": false,
    "ExecuteTime": {
     "end_time": "2024-07-03T07:42:53.687470Z",
     "start_time": "2024-07-03T07:42:53.299377Z"
    }
   },
   "id": "3a56125c2988daa0",
   "execution_count": 8
  },
  {
   "cell_type": "code",
   "outputs": [
    {
     "name": "stdout",
     "output_type": "stream",
     "text": [
      "For 0.25 quantile,\n",
      "TD Concordance Index: 0.6871125850308045\n",
      "Brier Score: 0.11852560144040286\n",
      "ROC AUC  0.6929427260575138 \n",
      "\n",
      "For 0.5 quantile,\n",
      "TD Concordance Index: 0.6668494980969097\n",
      "Brier Score: 0.1945685815300131\n",
      "ROC AUC  0.6911765567508028 \n",
      "\n",
      "For 0.75 quantile,\n",
      "TD Concordance Index: 0.666284172533929\n",
      "Brier Score: 0.22174071861308745\n",
      "ROC AUC  0.7140449506270067 \n"
     ]
    }
   ],
   "source": [
    "from sksurv.metrics import concordance_index_ipcw, brier_score, cumulative_dynamic_auc\n",
    "\n",
    "cis, brs = [], []\n",
    "\n",
    "et_train = np.array([(e_train[i], t_train[i]) for i in range(len(e_train))], dtype = [('e', bool), ('t', float)])\n",
    "et_test = np.array([(e_test[i], t_test[i]) for i in range(len(e_test))], dtype = [('e', bool), ('t', float)])\n",
    "et_val = np.array([(e_val[i], t_val[i]) for i in range(len(e_val))], dtype = [('e', bool), ('t', float)])\n",
    "\n",
    "for i, _ in enumerate(times):\n",
    "    cis.append(concordance_index_ipcw(et_train, et_test, out_risk[:, i], times[i])[0])\n",
    "    \n",
    "brs.append(brier_score(et_train, et_test, out_survival, times)[1])\n",
    "\n",
    "roc_auc = []\n",
    "for i, _ in enumerate(times):\n",
    "    roc_auc.append(cumulative_dynamic_auc(et_train, et_test, out_risk[:, i], times[i])[0])\n",
    "    \n",
    "for horizon in enumerate(horizons):\n",
    "    print(f\"For {horizon[1]} quantile,\")\n",
    "    print(\"TD Concordance Index:\", cis[horizon[0]])\n",
    "    print(\"Brier Score:\", brs[0][horizon[0]])\n",
    "    print(\"ROC AUC \", roc_auc[horizon[0]][0], \"\\n\")"
   ],
   "metadata": {
    "collapsed": false,
    "ExecuteTime": {
     "end_time": "2024-07-03T07:43:59.875302Z",
     "start_time": "2024-07-03T07:43:59.669790Z"
    }
   },
   "id": "558a105ba74f71cb",
   "execution_count": 11
  }
 ],
 "metadata": {
  "kernelspec": {
   "display_name": "Python 3",
   "language": "python",
   "name": "python3"
  },
  "language_info": {
   "codemirror_mode": {
    "name": "ipython",
    "version": 2
   },
   "file_extension": ".py",
   "mimetype": "text/x-python",
   "name": "python",
   "nbconvert_exporter": "python",
   "pygments_lexer": "ipython2",
   "version": "2.7.6"
  }
 },
 "nbformat": 4,
 "nbformat_minor": 5
}
