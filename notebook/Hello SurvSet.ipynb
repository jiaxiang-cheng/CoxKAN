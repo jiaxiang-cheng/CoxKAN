{
 "cells": [
  {
   "cell_type": "code",
   "execution_count": 1,
   "id": "initial_id",
   "metadata": {
    "collapsed": true,
    "ExecuteTime": {
     "end_time": "2024-07-03T03:27:43.232378Z",
     "start_time": "2024-07-03T03:27:41.425383Z"
    }
   },
   "outputs": [],
   "source": [
    "from api.survset.data import SurvLoader"
   ]
  },
  {
   "cell_type": "code",
   "outputs": [
    {
     "data": {
      "text/plain": "         ds  is_td      n  n_fac  n_ohe  n_num\n0    hdfail  False  52422      5     87      1\n1    stagec  False    146      4     15      3\n2   veteran  False    137      3      5      3\n3       vdv  False     78      0      0   4705\n4  AML_Bull  False    116      0      0   6283",
      "text/html": "<div>\n<style scoped>\n    .dataframe tbody tr th:only-of-type {\n        vertical-align: middle;\n    }\n\n    .dataframe tbody tr th {\n        vertical-align: top;\n    }\n\n    .dataframe thead th {\n        text-align: right;\n    }\n</style>\n<table border=\"1\" class=\"dataframe\">\n  <thead>\n    <tr style=\"text-align: right;\">\n      <th></th>\n      <th>ds</th>\n      <th>is_td</th>\n      <th>n</th>\n      <th>n_fac</th>\n      <th>n_ohe</th>\n      <th>n_num</th>\n    </tr>\n  </thead>\n  <tbody>\n    <tr>\n      <th>0</th>\n      <td>hdfail</td>\n      <td>False</td>\n      <td>52422</td>\n      <td>5</td>\n      <td>87</td>\n      <td>1</td>\n    </tr>\n    <tr>\n      <th>1</th>\n      <td>stagec</td>\n      <td>False</td>\n      <td>146</td>\n      <td>4</td>\n      <td>15</td>\n      <td>3</td>\n    </tr>\n    <tr>\n      <th>2</th>\n      <td>veteran</td>\n      <td>False</td>\n      <td>137</td>\n      <td>3</td>\n      <td>5</td>\n      <td>3</td>\n    </tr>\n    <tr>\n      <th>3</th>\n      <td>vdv</td>\n      <td>False</td>\n      <td>78</td>\n      <td>0</td>\n      <td>0</td>\n      <td>4705</td>\n    </tr>\n    <tr>\n      <th>4</th>\n      <td>AML_Bull</td>\n      <td>False</td>\n      <td>116</td>\n      <td>0</td>\n      <td>0</td>\n      <td>6283</td>\n    </tr>\n  </tbody>\n</table>\n</div>"
     },
     "execution_count": 2,
     "metadata": {},
     "output_type": "execute_result"
    }
   ],
   "source": [
    "loader = SurvLoader()\n",
    "# List of available datasets and meta-info\n",
    "loader.df_ds.head()"
   ],
   "metadata": {
    "collapsed": false,
    "ExecuteTime": {
     "end_time": "2024-07-03T03:27:43.251959Z",
     "start_time": "2024-07-03T03:27:43.234644Z"
    }
   },
   "id": "6be244cc13fe900b",
   "execution_count": 2
  },
  {
   "cell_type": "code",
   "outputs": [
    {
     "data": {
      "text/plain": "   pid  event  time  num_age  num_kappa  num_lambda  num_flc_grp  \\\n0    0      1    85       97       5.70       4.860           10   \n1    1      1  1281       92       0.87       0.683            1   \n2    2      1    69       94       4.36       3.850           10   \n3    3      1   115       92       2.42       2.220            9   \n4    4      1  1039       93       1.32       1.690            6   \n\n   num_creatinine  num_sample_yr fac_sex  fac_chapter fac_sample_yr fac_mgus  \n0             1.7           1997       F  Circulatory          1997        N  \n1             0.9           2000       F    Neoplasms          2000        N  \n2             1.4           1997       F  Circulatory          1997        N  \n3             1.0           1996       F  Circulatory          1996        N  \n4             1.1           1996       F  Circulatory          1996        N  ",
      "text/html": "<div>\n<style scoped>\n    .dataframe tbody tr th:only-of-type {\n        vertical-align: middle;\n    }\n\n    .dataframe tbody tr th {\n        vertical-align: top;\n    }\n\n    .dataframe thead th {\n        text-align: right;\n    }\n</style>\n<table border=\"1\" class=\"dataframe\">\n  <thead>\n    <tr style=\"text-align: right;\">\n      <th></th>\n      <th>pid</th>\n      <th>event</th>\n      <th>time</th>\n      <th>num_age</th>\n      <th>num_kappa</th>\n      <th>num_lambda</th>\n      <th>num_flc_grp</th>\n      <th>num_creatinine</th>\n      <th>num_sample_yr</th>\n      <th>fac_sex</th>\n      <th>fac_chapter</th>\n      <th>fac_sample_yr</th>\n      <th>fac_mgus</th>\n    </tr>\n  </thead>\n  <tbody>\n    <tr>\n      <th>0</th>\n      <td>0</td>\n      <td>1</td>\n      <td>85</td>\n      <td>97</td>\n      <td>5.70</td>\n      <td>4.860</td>\n      <td>10</td>\n      <td>1.7</td>\n      <td>1997</td>\n      <td>F</td>\n      <td>Circulatory</td>\n      <td>1997</td>\n      <td>N</td>\n    </tr>\n    <tr>\n      <th>1</th>\n      <td>1</td>\n      <td>1</td>\n      <td>1281</td>\n      <td>92</td>\n      <td>0.87</td>\n      <td>0.683</td>\n      <td>1</td>\n      <td>0.9</td>\n      <td>2000</td>\n      <td>F</td>\n      <td>Neoplasms</td>\n      <td>2000</td>\n      <td>N</td>\n    </tr>\n    <tr>\n      <th>2</th>\n      <td>2</td>\n      <td>1</td>\n      <td>69</td>\n      <td>94</td>\n      <td>4.36</td>\n      <td>3.850</td>\n      <td>10</td>\n      <td>1.4</td>\n      <td>1997</td>\n      <td>F</td>\n      <td>Circulatory</td>\n      <td>1997</td>\n      <td>N</td>\n    </tr>\n    <tr>\n      <th>3</th>\n      <td>3</td>\n      <td>1</td>\n      <td>115</td>\n      <td>92</td>\n      <td>2.42</td>\n      <td>2.220</td>\n      <td>9</td>\n      <td>1.0</td>\n      <td>1996</td>\n      <td>F</td>\n      <td>Circulatory</td>\n      <td>1996</td>\n      <td>N</td>\n    </tr>\n    <tr>\n      <th>4</th>\n      <td>4</td>\n      <td>1</td>\n      <td>1039</td>\n      <td>93</td>\n      <td>1.32</td>\n      <td>1.690</td>\n      <td>6</td>\n      <td>1.1</td>\n      <td>1996</td>\n      <td>F</td>\n      <td>Circulatory</td>\n      <td>1996</td>\n      <td>N</td>\n    </tr>\n  </tbody>\n</table>\n</div>"
     },
     "execution_count": 3,
     "metadata": {},
     "output_type": "execute_result"
    }
   ],
   "source": [
    "# Load dataset and its reference\n",
    "df, ref = loader.load_dataset(ds_name='flchain').values()\n",
    "df.head()"
   ],
   "metadata": {
    "collapsed": false,
    "ExecuteTime": {
     "end_time": "2024-07-03T03:27:43.291146Z",
     "start_time": "2024-07-03T03:27:43.253872Z"
    }
   },
   "id": "5eeda39fd95f48dd",
   "execution_count": 3
  }
 ],
 "metadata": {
  "kernelspec": {
   "display_name": "Python 3",
   "language": "python",
   "name": "python3"
  },
  "language_info": {
   "codemirror_mode": {
    "name": "ipython",
    "version": 2
   },
   "file_extension": ".py",
   "mimetype": "text/x-python",
   "name": "python",
   "nbconvert_exporter": "python",
   "pygments_lexer": "ipython2",
   "version": "2.7.6"
  }
 },
 "nbformat": 4,
 "nbformat_minor": 5
}
