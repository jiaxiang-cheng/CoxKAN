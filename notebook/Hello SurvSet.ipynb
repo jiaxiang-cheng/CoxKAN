{
 "cells": [
  {
   "cell_type": "code",
   "execution_count": 1,
   "id": "initial_id",
   "metadata": {
    "collapsed": true,
    "ExecuteTime": {
     "end_time": "2024-07-12T08:43:39.290613Z",
     "start_time": "2024-07-12T08:43:39.282829Z"
    }
   },
   "outputs": [],
   "source": [
    "from api.survset.data import SurvLoader"
   ]
  },
  {
   "cell_type": "code",
   "outputs": [
    {
     "data": {
      "text/plain": "          ds  is_td      n  n_fac  n_ohe  n_num\n0     hdfail  False  52422      5     87      1\n1     stagec  False    146      4     15      3\n2    veteran  False    137      3      5      3\n3        vdv  False     78      0      0   4705\n4   AML_Bull  False    116      0      0   6283\n..       ...    ...    ...    ...    ...    ...\n71  prostate  False    502      6     16      9\n72   flchain  False   7874      4     26      6\n73     grace  False   1000      2      2      3\n74   gse3143  False    158      1      3   8660\n75    scania  False   1931      4      7      1\n\n[76 rows x 6 columns]",
      "text/html": "<div>\n<style scoped>\n    .dataframe tbody tr th:only-of-type {\n        vertical-align: middle;\n    }\n\n    .dataframe tbody tr th {\n        vertical-align: top;\n    }\n\n    .dataframe thead th {\n        text-align: right;\n    }\n</style>\n<table border=\"1\" class=\"dataframe\">\n  <thead>\n    <tr style=\"text-align: right;\">\n      <th></th>\n      <th>ds</th>\n      <th>is_td</th>\n      <th>n</th>\n      <th>n_fac</th>\n      <th>n_ohe</th>\n      <th>n_num</th>\n    </tr>\n  </thead>\n  <tbody>\n    <tr>\n      <th>0</th>\n      <td>hdfail</td>\n      <td>False</td>\n      <td>52422</td>\n      <td>5</td>\n      <td>87</td>\n      <td>1</td>\n    </tr>\n    <tr>\n      <th>1</th>\n      <td>stagec</td>\n      <td>False</td>\n      <td>146</td>\n      <td>4</td>\n      <td>15</td>\n      <td>3</td>\n    </tr>\n    <tr>\n      <th>2</th>\n      <td>veteran</td>\n      <td>False</td>\n      <td>137</td>\n      <td>3</td>\n      <td>5</td>\n      <td>3</td>\n    </tr>\n    <tr>\n      <th>3</th>\n      <td>vdv</td>\n      <td>False</td>\n      <td>78</td>\n      <td>0</td>\n      <td>0</td>\n      <td>4705</td>\n    </tr>\n    <tr>\n      <th>4</th>\n      <td>AML_Bull</td>\n      <td>False</td>\n      <td>116</td>\n      <td>0</td>\n      <td>0</td>\n      <td>6283</td>\n    </tr>\n    <tr>\n      <th>...</th>\n      <td>...</td>\n      <td>...</td>\n      <td>...</td>\n      <td>...</td>\n      <td>...</td>\n      <td>...</td>\n    </tr>\n    <tr>\n      <th>71</th>\n      <td>prostate</td>\n      <td>False</td>\n      <td>502</td>\n      <td>6</td>\n      <td>16</td>\n      <td>9</td>\n    </tr>\n    <tr>\n      <th>72</th>\n      <td>flchain</td>\n      <td>False</td>\n      <td>7874</td>\n      <td>4</td>\n      <td>26</td>\n      <td>6</td>\n    </tr>\n    <tr>\n      <th>73</th>\n      <td>grace</td>\n      <td>False</td>\n      <td>1000</td>\n      <td>2</td>\n      <td>2</td>\n      <td>3</td>\n    </tr>\n    <tr>\n      <th>74</th>\n      <td>gse3143</td>\n      <td>False</td>\n      <td>158</td>\n      <td>1</td>\n      <td>3</td>\n      <td>8660</td>\n    </tr>\n    <tr>\n      <th>75</th>\n      <td>scania</td>\n      <td>False</td>\n      <td>1931</td>\n      <td>4</td>\n      <td>7</td>\n      <td>1</td>\n    </tr>\n  </tbody>\n</table>\n<p>76 rows × 6 columns</p>\n</div>"
     },
     "execution_count": 2,
     "metadata": {},
     "output_type": "execute_result"
    }
   ],
   "source": [
    "loader = SurvLoader()\n",
    "# List of available datasets and meta-info\n",
    "loader.df_ds"
   ],
   "metadata": {
    "collapsed": false,
    "ExecuteTime": {
     "end_time": "2024-07-12T08:43:39.309865Z",
     "start_time": "2024-07-12T08:43:39.291944Z"
    }
   },
   "id": "6be244cc13fe900b",
   "execution_count": 2
  },
  {
   "cell_type": "code",
   "outputs": [
    {
     "data": {
      "text/plain": "   pid  event   time  num_wmi  num_age fac_sex  fac_chf fac_diabetes   fac_vf\n0    0      1  6.237      1.9   66.114       M   absent       absent   absent\n1    1      1  0.858      2.0   67.668       F  present       absent   absent\n2    2      0  6.154      1.8   42.243       F   absent      present   absent\n3    3      1  0.036      1.4   77.579       M  present      present  present\n4    4      1  4.609      1.6   51.863       F   absent       absent   absent",
      "text/html": "<div>\n<style scoped>\n    .dataframe tbody tr th:only-of-type {\n        vertical-align: middle;\n    }\n\n    .dataframe tbody tr th {\n        vertical-align: top;\n    }\n\n    .dataframe thead th {\n        text-align: right;\n    }\n</style>\n<table border=\"1\" class=\"dataframe\">\n  <thead>\n    <tr style=\"text-align: right;\">\n      <th></th>\n      <th>pid</th>\n      <th>event</th>\n      <th>time</th>\n      <th>num_wmi</th>\n      <th>num_age</th>\n      <th>fac_sex</th>\n      <th>fac_chf</th>\n      <th>fac_diabetes</th>\n      <th>fac_vf</th>\n    </tr>\n  </thead>\n  <tbody>\n    <tr>\n      <th>0</th>\n      <td>0</td>\n      <td>1</td>\n      <td>6.237</td>\n      <td>1.9</td>\n      <td>66.114</td>\n      <td>M</td>\n      <td>absent</td>\n      <td>absent</td>\n      <td>absent</td>\n    </tr>\n    <tr>\n      <th>1</th>\n      <td>1</td>\n      <td>1</td>\n      <td>0.858</td>\n      <td>2.0</td>\n      <td>67.668</td>\n      <td>F</td>\n      <td>present</td>\n      <td>absent</td>\n      <td>absent</td>\n    </tr>\n    <tr>\n      <th>2</th>\n      <td>2</td>\n      <td>0</td>\n      <td>6.154</td>\n      <td>1.8</td>\n      <td>42.243</td>\n      <td>F</td>\n      <td>absent</td>\n      <td>present</td>\n      <td>absent</td>\n    </tr>\n    <tr>\n      <th>3</th>\n      <td>3</td>\n      <td>1</td>\n      <td>0.036</td>\n      <td>1.4</td>\n      <td>77.579</td>\n      <td>M</td>\n      <td>present</td>\n      <td>present</td>\n      <td>present</td>\n    </tr>\n    <tr>\n      <th>4</th>\n      <td>4</td>\n      <td>1</td>\n      <td>4.609</td>\n      <td>1.6</td>\n      <td>51.863</td>\n      <td>F</td>\n      <td>absent</td>\n      <td>absent</td>\n      <td>absent</td>\n    </tr>\n  </tbody>\n</table>\n</div>"
     },
     "execution_count": 8,
     "metadata": {},
     "output_type": "execute_result"
    }
   ],
   "source": [
    "# Load dataset and its reference\n",
    "df, ref = loader.load_dataset(ds_name='TRACE').values()\n",
    "df.head()"
   ],
   "metadata": {
    "collapsed": false,
    "ExecuteTime": {
     "end_time": "2024-07-12T09:03:39.798079Z",
     "start_time": "2024-07-12T09:03:39.747178Z"
    }
   },
   "id": "5eeda39fd95f48dd",
   "execution_count": 8
  },
  {
   "cell_type": "code",
   "outputs": [
    {
     "data": {
      "text/plain": "'https://rdrr.io/cran/timereg/man/TRACE.html'"
     },
     "execution_count": 11,
     "metadata": {},
     "output_type": "execute_result"
    }
   ],
   "source": [
    "ref"
   ],
   "metadata": {
    "collapsed": false,
    "ExecuteTime": {
     "end_time": "2024-07-12T09:04:40.903118Z",
     "start_time": "2024-07-12T09:04:40.898293Z"
    }
   },
   "id": "ad641769935e7e3d",
   "execution_count": 11
  },
  {
   "cell_type": "code",
   "outputs": [
    {
     "data": {
      "text/plain": "       num_wmi   num_age  fac_sex_M  fac_chf_present  fac_diabetes_present  \\\n0     1.217257 -0.077030          1                0                     0   \n1     1.459727  0.058826          0                1                     0   \n2     0.974787 -2.163907          0                0                     1   \n3     0.004906  0.925276          1                1                     1   \n4     0.489847 -1.322896          0                0                     0   \n...        ...       ...        ...              ...                   ...   \n1873 -0.964975 -1.432175          0                1                     1   \n1874  0.489847  1.128535          1                1                     0   \n1875 -0.480034 -1.531226          0                0                     0   \n1876 -0.964975  0.756550          0                1                     0   \n1877  0.004906 -0.077030          1                0                     0   \n\n      fac_vf_present  \n0                  0  \n1                  0  \n2                  0  \n3                  1  \n4                  0  \n...              ...  \n1873               0  \n1874               0  \n1875               0  \n1876               0  \n1877               0  \n\n[1878 rows x 6 columns]",
      "text/html": "<div>\n<style scoped>\n    .dataframe tbody tr th:only-of-type {\n        vertical-align: middle;\n    }\n\n    .dataframe tbody tr th {\n        vertical-align: top;\n    }\n\n    .dataframe thead th {\n        text-align: right;\n    }\n</style>\n<table border=\"1\" class=\"dataframe\">\n  <thead>\n    <tr style=\"text-align: right;\">\n      <th></th>\n      <th>num_wmi</th>\n      <th>num_age</th>\n      <th>fac_sex_M</th>\n      <th>fac_chf_present</th>\n      <th>fac_diabetes_present</th>\n      <th>fac_vf_present</th>\n    </tr>\n  </thead>\n  <tbody>\n    <tr>\n      <th>0</th>\n      <td>1.217257</td>\n      <td>-0.077030</td>\n      <td>1</td>\n      <td>0</td>\n      <td>0</td>\n      <td>0</td>\n    </tr>\n    <tr>\n      <th>1</th>\n      <td>1.459727</td>\n      <td>0.058826</td>\n      <td>0</td>\n      <td>1</td>\n      <td>0</td>\n      <td>0</td>\n    </tr>\n    <tr>\n      <th>2</th>\n      <td>0.974787</td>\n      <td>-2.163907</td>\n      <td>0</td>\n      <td>0</td>\n      <td>1</td>\n      <td>0</td>\n    </tr>\n    <tr>\n      <th>3</th>\n      <td>0.004906</td>\n      <td>0.925276</td>\n      <td>1</td>\n      <td>1</td>\n      <td>1</td>\n      <td>1</td>\n    </tr>\n    <tr>\n      <th>4</th>\n      <td>0.489847</td>\n      <td>-1.322896</td>\n      <td>0</td>\n      <td>0</td>\n      <td>0</td>\n      <td>0</td>\n    </tr>\n    <tr>\n      <th>...</th>\n      <td>...</td>\n      <td>...</td>\n      <td>...</td>\n      <td>...</td>\n      <td>...</td>\n      <td>...</td>\n    </tr>\n    <tr>\n      <th>1873</th>\n      <td>-0.964975</td>\n      <td>-1.432175</td>\n      <td>0</td>\n      <td>1</td>\n      <td>1</td>\n      <td>0</td>\n    </tr>\n    <tr>\n      <th>1874</th>\n      <td>0.489847</td>\n      <td>1.128535</td>\n      <td>1</td>\n      <td>1</td>\n      <td>0</td>\n      <td>0</td>\n    </tr>\n    <tr>\n      <th>1875</th>\n      <td>-0.480034</td>\n      <td>-1.531226</td>\n      <td>0</td>\n      <td>0</td>\n      <td>0</td>\n      <td>0</td>\n    </tr>\n    <tr>\n      <th>1876</th>\n      <td>-0.964975</td>\n      <td>0.756550</td>\n      <td>0</td>\n      <td>1</td>\n      <td>0</td>\n      <td>0</td>\n    </tr>\n    <tr>\n      <th>1877</th>\n      <td>0.004906</td>\n      <td>-0.077030</td>\n      <td>1</td>\n      <td>0</td>\n      <td>0</td>\n      <td>0</td>\n    </tr>\n  </tbody>\n</table>\n<p>1878 rows × 6 columns</p>\n</div>"
     },
     "execution_count": 9,
     "metadata": {},
     "output_type": "execute_result"
    }
   ],
   "source": [
    "from api.auton import preprocessing\n",
    "\n",
    "# collect numerical and categorical features\n",
    "cat_feats, num_feats = [], []\n",
    "for i in df.columns:\n",
    "    if i.split('_')[0] == 'num':\n",
    "        num_feats.append(i)\n",
    "    if i.split('_')[0] == 'fac':\n",
    "        cat_feats.append(i)\n",
    "\n",
    "features = preprocessing.Preprocessor().fit_transform(\n",
    "    df[num_feats + cat_feats], cat_feats=cat_feats, num_feats=num_feats)\n",
    "features"
   ],
   "metadata": {
    "collapsed": false,
    "ExecuteTime": {
     "end_time": "2024-07-12T09:03:42.470277Z",
     "start_time": "2024-07-12T09:03:42.430791Z"
    }
   },
   "id": "f0afcf4221f601e1",
   "execution_count": 9
  },
  {
   "cell_type": "code",
   "outputs": [
    {
     "data": {
      "text/plain": "            0         1    2    3    4    5       0.1\n0   -0.237564 -0.161218  0.0  0.0  0.0  0.0 -0.875724\n1    0.974787  1.710510  1.0  1.0  0.0  0.0  0.841702\n2   -0.964975 -0.958604  1.0  1.0  0.0  1.0  0.210399\n3   -1.692385 -0.097662  0.0  1.0  0.0  0.0  0.668173\n4    1.217257  0.608455  0.0  1.0  0.0  0.0  0.163143\n..        ...       ...  ...  ...  ...  ...       ...\n370  1.217257  0.453104  1.0  1.0  0.0  0.0 -0.074250\n371 -1.692385  0.244338  0.0  0.0  0.0  0.0  0.322409\n372  1.217257 -2.713273  1.0  0.0  0.0  0.0 -2.047113\n373 -0.237564  0.291546  1.0  1.0  0.0  0.0 -0.006358\n374 -0.480034 -1.552032  0.0  1.0  0.0  1.0 -0.248730\n\n[375 rows x 7 columns]",
      "text/html": "<div>\n<style scoped>\n    .dataframe tbody tr th:only-of-type {\n        vertical-align: middle;\n    }\n\n    .dataframe tbody tr th {\n        vertical-align: top;\n    }\n\n    .dataframe thead th {\n        text-align: right;\n    }\n</style>\n<table border=\"1\" class=\"dataframe\">\n  <thead>\n    <tr style=\"text-align: right;\">\n      <th></th>\n      <th>0</th>\n      <th>1</th>\n      <th>2</th>\n      <th>3</th>\n      <th>4</th>\n      <th>5</th>\n      <th>0.1</th>\n    </tr>\n  </thead>\n  <tbody>\n    <tr>\n      <th>0</th>\n      <td>-0.237564</td>\n      <td>-0.161218</td>\n      <td>0.0</td>\n      <td>0.0</td>\n      <td>0.0</td>\n      <td>0.0</td>\n      <td>-0.875724</td>\n    </tr>\n    <tr>\n      <th>1</th>\n      <td>0.974787</td>\n      <td>1.710510</td>\n      <td>1.0</td>\n      <td>1.0</td>\n      <td>0.0</td>\n      <td>0.0</td>\n      <td>0.841702</td>\n    </tr>\n    <tr>\n      <th>2</th>\n      <td>-0.964975</td>\n      <td>-0.958604</td>\n      <td>1.0</td>\n      <td>1.0</td>\n      <td>0.0</td>\n      <td>1.0</td>\n      <td>0.210399</td>\n    </tr>\n    <tr>\n      <th>3</th>\n      <td>-1.692385</td>\n      <td>-0.097662</td>\n      <td>0.0</td>\n      <td>1.0</td>\n      <td>0.0</td>\n      <td>0.0</td>\n      <td>0.668173</td>\n    </tr>\n    <tr>\n      <th>4</th>\n      <td>1.217257</td>\n      <td>0.608455</td>\n      <td>0.0</td>\n      <td>1.0</td>\n      <td>0.0</td>\n      <td>0.0</td>\n      <td>0.163143</td>\n    </tr>\n    <tr>\n      <th>...</th>\n      <td>...</td>\n      <td>...</td>\n      <td>...</td>\n      <td>...</td>\n      <td>...</td>\n      <td>...</td>\n      <td>...</td>\n    </tr>\n    <tr>\n      <th>370</th>\n      <td>1.217257</td>\n      <td>0.453104</td>\n      <td>1.0</td>\n      <td>1.0</td>\n      <td>0.0</td>\n      <td>0.0</td>\n      <td>-0.074250</td>\n    </tr>\n    <tr>\n      <th>371</th>\n      <td>-1.692385</td>\n      <td>0.244338</td>\n      <td>0.0</td>\n      <td>0.0</td>\n      <td>0.0</td>\n      <td>0.0</td>\n      <td>0.322409</td>\n    </tr>\n    <tr>\n      <th>372</th>\n      <td>1.217257</td>\n      <td>-2.713273</td>\n      <td>1.0</td>\n      <td>0.0</td>\n      <td>0.0</td>\n      <td>0.0</td>\n      <td>-2.047113</td>\n    </tr>\n    <tr>\n      <th>373</th>\n      <td>-0.237564</td>\n      <td>0.291546</td>\n      <td>1.0</td>\n      <td>1.0</td>\n      <td>0.0</td>\n      <td>0.0</td>\n      <td>-0.006358</td>\n    </tr>\n    <tr>\n      <th>374</th>\n      <td>-0.480034</td>\n      <td>-1.552032</td>\n      <td>0.0</td>\n      <td>1.0</td>\n      <td>0.0</td>\n      <td>1.0</td>\n      <td>-0.248730</td>\n    </tr>\n  </tbody>\n</table>\n<p>375 rows × 7 columns</p>\n</div>"
     },
     "execution_count": 10,
     "metadata": {},
     "output_type": "execute_result"
    }
   ],
   "source": [
    "import pandas as pd\n",
    "\n",
    "pd.read_csv('../results/pred_coxkan_TRACE_0.csv', index_col=[0])"
   ],
   "metadata": {
    "collapsed": false,
    "ExecuteTime": {
     "end_time": "2024-07-12T09:04:20.258300Z",
     "start_time": "2024-07-12T09:04:20.236600Z"
    }
   },
   "id": "5f48149862b61785",
   "execution_count": 10
  }
 ],
 "metadata": {
  "kernelspec": {
   "display_name": "Python 3",
   "language": "python",
   "name": "python3"
  },
  "language_info": {
   "codemirror_mode": {
    "name": "ipython",
    "version": 2
   },
   "file_extension": ".py",
   "mimetype": "text/x-python",
   "name": "python",
   "nbconvert_exporter": "python",
   "pygments_lexer": "ipython2",
   "version": "2.7.6"
  }
 },
 "nbformat": 4,
 "nbformat_minor": 5
}
