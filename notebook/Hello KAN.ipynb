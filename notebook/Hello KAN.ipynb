{
 "cells": [
  {
   "cell_type": "markdown",
   "id": "134e7f9d",
   "metadata": {},
   "source": [
    "# Hello, KAN!"
   ]
  },
  {
   "cell_type": "markdown",
   "id": "59cf5cd0",
   "metadata": {},
   "source": [
    "### Kolmogorov-Arnold representation theorem"
   ]
  },
  {
   "cell_type": "markdown",
   "id": "f88e5321",
   "metadata": {},
   "source": [
    "Kolmogorov-Arnold representation theorem states that if $f$ is a multivariate continuous function\n",
    "on a bounded domain, then it can be written as a finite composition of continuous functions of a\n",
    "single variable and the binary operation of addition. More specifically, for a smooth $f : [0,1]^n \\to \\mathbb{R}$,\n",
    "\n",
    "\n",
    "$$f(x) = f(x_1,...,x_n)=\\sum_{q=1}^{2n+1}\\Phi_q(\\sum_{p=1}^n \\phi_{q,p}(x_p))$$\n",
    "\n",
    "where $\\phi_{q,p}:[0,1]\\to\\mathbb{R}$ and $\\Phi_q:\\mathbb{R}\\to\\mathbb{R}$. In a sense, they showed that the only true multivariate function is addition, since every other function can be written using univariate functions and sum. However, this 2-Layer width-$(2n+1)$ Kolmogorov-Arnold representation may not be smooth due to its limited expressive power. We augment its expressive power by generalizing it to arbitrary depths and widths."
   ]
  },
  {
   "cell_type": "markdown",
   "id": "ebd8766a",
   "metadata": {},
   "source": [
    "### Kolmogorov-Arnold Network (KAN)"
   ]
  },
  {
   "cell_type": "markdown",
   "id": "2cf3b1ee",
   "metadata": {},
   "source": [
    "The Kolmogorov-Arnold representation can be written in matrix form\n",
    "\n",
    "$$f(x)={\\bf \\Phi}_{\\rm out}\\circ{\\bf \\Phi}_{\\rm in}\\circ {\\bf x}$$\n",
    "\n",
    "where \n",
    "\n",
    "$${\\bf \\Phi}_{\\rm in}= \\begin{pmatrix} \\phi_{1,1}(\\cdot) & \\cdots & \\phi_{1,n}(\\cdot) \\\\ \\vdots & & \\vdots \\\\ \\phi_{2n+1,1}(\\cdot) & \\cdots & \\phi_{2n+1,n}(\\cdot) \\end{pmatrix},\\quad {\\bf \\Phi}_{\\rm out}=\\begin{pmatrix} \\Phi_1(\\cdot) & \\cdots & \\Phi_{2n+1}(\\cdot)\\end{pmatrix}$$"
   ]
  },
  {
   "cell_type": "markdown",
   "id": "f6521452",
   "metadata": {},
   "source": [
    "We notice that both ${\\bf \\Phi}_{\\rm in}$ and ${\\bf \\Phi}_{\\rm out}$ are special cases of the following function matrix ${\\bf \\Phi}$ (with $n_{\\rm in}$ inputs, and $n_{\\rm out}$ outputs), we call a Kolmogorov-Arnold layer:\n",
    "\n",
    "$${\\bf \\Phi}= \\begin{pmatrix} \\phi_{1,1}(\\cdot) & \\cdots & \\phi_{1,n_{\\rm in}}(\\cdot) \\\\ \\vdots & & \\vdots \\\\ \\phi_{n_{\\rm out},1}(\\cdot) & \\cdots & \\phi_{n_{\\rm out},n_{\\rm in}}(\\cdot) \\end{pmatrix}$$\n",
    "\n",
    "${\\bf \\Phi}_{\\rm in}$ corresponds to $n_{\\rm in}=n, n_{\\rm out}=2n+1$, and ${\\bf \\Phi}_{\\rm out}$ corresponds to $n_{\\rm in}=2n+1, n_{\\rm out}=1$."
   ]
  },
  {
   "cell_type": "markdown",
   "id": "1b410498",
   "metadata": {},
   "source": [
    "After defining the layer, we can construct a Kolmogorov-Arnold network simply by stacking layers! Let's say we have $L$ layers, with the $l^{\\rm th}$ layer ${\\bf \\Phi}_l$ have shape $(n_{l+1}, n_{l})$. Then the whole network is\n",
    "\n",
    "$${\\rm KAN}({\\bf x})={\\bf \\Phi}_{L-1}\\circ\\cdots \\circ{\\bf \\Phi}_1\\circ{\\bf \\Phi}_0\\circ {\\bf x}$$"
   ]
  },
  {
   "cell_type": "markdown",
   "id": "54bbde9a",
   "metadata": {},
   "source": [
    "In constrast, a Multi-Layer Perceptron is interleaved by linear layers ${\\bf W}_l$ and nonlinearities $\\sigma$:\n",
    "\n",
    "$${\\rm MLP}({\\bf x})={\\bf W}_{L-1}\\circ\\sigma\\circ\\cdots\\circ {\\bf W}_1\\circ\\sigma\\circ {\\bf W}_0\\circ {\\bf x}$$"
   ]
  },
  {
   "cell_type": "markdown",
   "id": "1c5f7795",
   "metadata": {},
   "source": [
    "A KAN can be easily visualized. (1) A KAN is simply stack of KAN layers. (2) Each KAN layer can be visualized as a fully-connected layer, with a 1D function placed on each edge. Let's see an example below."
   ]
  },
  {
   "cell_type": "markdown",
   "id": "adcb5f75",
   "metadata": {},
   "source": [
    "### Get started with KANs"
   ]
  },
  {
   "cell_type": "markdown",
   "id": "2571d531",
   "metadata": {},
   "source": [
    "Initialize KAN"
   ]
  },
  {
   "cell_type": "code",
   "execution_count": 1,
   "id": "2075ef56",
   "metadata": {
    "ExecuteTime": {
     "end_time": "2024-07-03T04:21:44.496781Z",
     "start_time": "2024-07-03T04:21:39.558809Z"
    }
   },
   "outputs": [],
   "source": [
    "from api.kan import *\n",
    "# create a KAN: 2D inputs, 1D output, and 5 hidden neurons. cubic spline (k=3), 5 grid intervals (grid=5).\n",
    "model = KAN(width=[2,1,1], grid=5, k=3, seed=0)"
   ]
  },
  {
   "cell_type": "markdown",
   "id": "3d72e076",
   "metadata": {},
   "source": [
    "Create dataset"
   ]
  },
  {
   "cell_type": "code",
   "execution_count": 2,
   "id": "46717e8b",
   "metadata": {
    "ExecuteTime": {
     "end_time": "2024-07-03T04:21:44.509610Z",
     "start_time": "2024-07-03T04:21:44.499127Z"
    }
   },
   "outputs": [
    {
     "data": {
      "text/plain": "(torch.Size([1000, 2]), torch.Size([1000, 1]))"
     },
     "execution_count": 2,
     "metadata": {},
     "output_type": "execute_result"
    }
   ],
   "source": [
    "# create dataset f(x1,x2) = exp(sin(pi*x1)+x2^2)\n",
    "f = lambda x: torch.exp(torch.sin(torch.pi*x[:,[0]]) + x[:,[1]]**2)\n",
    "dataset = create_dataset(f, n_var=2)\n",
    "dataset['train_input'].shape, dataset['train_label'].shape"
   ]
  },
  {
   "cell_type": "markdown",
   "id": "8c6add1d",
   "metadata": {},
   "source": [
    "Plot KAN at initialization"
   ]
  },
  {
   "cell_type": "code",
   "execution_count": 3,
   "id": "ac76f858",
   "metadata": {
    "ExecuteTime": {
     "end_time": "2024-07-03T04:21:45.220709Z",
     "start_time": "2024-07-03T04:21:44.511345Z"
    }
   },
   "outputs": [
    {
     "data": {
      "text/plain": "<Figure size 500x400 with 4 Axes>",
      "image/png": "[encoded data removed]"
     },
     "metadata": {},
     "output_type": "display_data"
    }
   ],
   "source": [
    "# plot KAN at initialization\n",
    "model(dataset['train_input'])\n",
    "model.plot(beta=100)"
   ]
  },
  {
   "cell_type": "markdown",
   "id": "ddf67e30",
   "metadata": {},
   "source": [
    "Train KAN with sparsity regularization"
   ]
  },
  {
   "cell_type": "code",
   "execution_count": 4,
   "id": "97111d75",
   "metadata": {
    "ExecuteTime": {
     "end_time": "2024-07-03T04:21:49.084315Z",
     "start_time": "2024-07-03T04:21:45.224068Z"
    }
   },
   "outputs": [
    {
     "name": "stderr",
     "output_type": "stream",
     "text": [
      "train loss: 8.67e-02 | test loss: 9.06e-02 | reg: 3.95e+00 : 100%|██| 20/20 [00:03<00:00,  5.22it/s]\n"
     ]
    }
   ],
   "source": [
    "# train the model\n",
    "model.train()\n",
    "model.fit(dataset, opt=\"LBFGS\", steps=20, lamb=0.01, lamb_entropy=10.);"
   ]
  },
  {
   "cell_type": "markdown",
   "id": "2f30c3ab",
   "metadata": {},
   "source": [
    "Plot trained KAN"
   ]
  },
  {
   "cell_type": "code",
   "execution_count": 5,
   "id": "3f95fcdd",
   "metadata": {
    "ExecuteTime": {
     "end_time": "2024-07-03T04:21:49.569902Z",
     "start_time": "2024-07-03T04:21:49.086377Z"
    }
   },
   "outputs": [
    {
     "data": {
      "text/plain": "<Figure size 500x400 with 4 Axes>",
      "image/png": "[encoded data removed]"
     },
     "metadata": {},
     "output_type": "display_data"
    }
   ],
   "source": [
    "model.plot()"
   ]
  },
  {
   "cell_type": "markdown",
   "id": "61d537b7",
   "metadata": {},
   "source": [
    "Prune KAN and replot (keep the original shape)"
   ]
  },
  {
   "cell_type": "code",
   "execution_count": 6,
   "id": "1269a698",
   "metadata": {
    "ExecuteTime": {
     "end_time": "2024-07-03T04:21:50.043666Z",
     "start_time": "2024-07-03T04:21:49.571411Z"
    }
   },
   "outputs": [
    {
     "data": {
      "text/plain": "<Figure size 500x400 with 4 Axes>",
      "image/png": "[encoded data removed]"
     },
     "metadata": {},
     "output_type": "display_data"
    }
   ],
   "source": [
    "model.prune()\n",
    "model.plot(mask=True)"
   ]
  },
  {
   "cell_type": "markdown",
   "id": "576856cf",
   "metadata": {},
   "source": [
    "Prune KAN and replot (get a smaller shape)"
   ]
  },
  {
   "cell_type": "code",
   "execution_count": 7,
   "id": "7fe6fb12",
   "metadata": {
    "ExecuteTime": {
     "end_time": "2024-07-03T04:21:50.545700Z",
     "start_time": "2024-07-03T04:21:50.045016Z"
    }
   },
   "outputs": [
    {
     "data": {
      "text/plain": "<Figure size 500x400 with 4 Axes>",
      "image/png": "[encoded data removed]"
     },
     "metadata": {},
     "output_type": "display_data"
    }
   ],
   "source": [
    "model = model.prune()\n",
    "model(dataset['train_input'])\n",
    "model.plot()"
   ]
  },
  {
   "cell_type": "markdown",
   "id": "bd08ad99",
   "metadata": {},
   "source": [
    "Continue training and replot"
   ]
  },
  {
   "cell_type": "code",
   "execution_count": 8,
   "id": "18a2db11",
   "metadata": {
    "ExecuteTime": {
     "end_time": "2024-07-03T04:21:57.853486Z",
     "start_time": "2024-07-03T04:21:50.547302Z"
    }
   },
   "outputs": [
    {
     "name": "stderr",
     "output_type": "stream",
     "text": [
      "train loss: 7.53e-03 | test loss: 7.32e-03 | reg: 3.10e+00 : 100%|██| 50/50 [00:07<00:00,  6.87it/s]\n"
     ]
    },
    {
     "data": {
      "text/plain": "{'train_loss': [array(0.0811099, dtype=float32),\n  array(0.07450311, dtype=float32),\n  array(0.06729199, dtype=float32),\n  array(0.06522514, dtype=float32),\n  array(0.06334377, dtype=float32),\n  array(0.06176461, dtype=float32),\n  array(0.05759067, dtype=float32),\n  array(0.04939342, dtype=float32),\n  array(0.04097341, dtype=float32),\n  array(0.03361095, dtype=float32),\n  array(0.02907059, dtype=float32),\n  array(0.02676962, dtype=float32),\n  array(0.02468647, dtype=float32),\n  array(0.02381356, dtype=float32),\n  array(0.02185657, dtype=float32),\n  array(0.01972642, dtype=float32),\n  array(0.01857206, dtype=float32),\n  array(0.0174407, dtype=float32),\n  array(0.01714787, dtype=float32),\n  array(0.01579168, dtype=float32),\n  array(0.01483948, dtype=float32),\n  array(0.01450307, dtype=float32),\n  array(0.01409328, dtype=float32),\n  array(0.01381311, dtype=float32),\n  array(0.01370675, dtype=float32),\n  array(0.01347509, dtype=float32),\n  array(0.01336745, dtype=float32),\n  array(0.01308452, dtype=float32),\n  array(0.01281635, dtype=float32),\n  array(0.01270731, dtype=float32),\n  array(0.01202803, dtype=float32),\n  array(0.0110899, dtype=float32),\n  array(0.01049236, dtype=float32),\n  array(0.01024452, dtype=float32),\n  array(0.00936329, dtype=float32),\n  array(0.00902023, dtype=float32),\n  array(0.00887001, dtype=float32),\n  array(0.00846521, dtype=float32),\n  array(0.00798995, dtype=float32),\n  array(0.00787659, dtype=float32),\n  array(0.00773562, dtype=float32),\n  array(0.00769474, dtype=float32),\n  array(0.0076281, dtype=float32),\n  array(0.00759941, dtype=float32),\n  array(0.00757809, dtype=float32),\n  array(0.00756177, dtype=float32),\n  array(0.00755132, dtype=float32),\n  array(0.00754471, dtype=float32),\n  array(0.00753763, dtype=float32),\n  array(0.00753142, dtype=float32)],\n 'test_loss': [array(0.08425295, dtype=float32),\n  array(0.07742067, dtype=float32),\n  array(0.07087534, dtype=float32),\n  array(0.06867164, dtype=float32),\n  array(0.06607857, dtype=float32),\n  array(0.06368595, dtype=float32),\n  array(0.05908932, dtype=float32),\n  array(0.05056465, dtype=float32),\n  array(0.04346117, dtype=float32),\n  array(0.03424786, dtype=float32),\n  array(0.0288909, dtype=float32),\n  array(0.02714706, dtype=float32),\n  array(0.02490158, dtype=float32),\n  array(0.0241448, dtype=float32),\n  array(0.02277946, dtype=float32),\n  array(0.02068014, dtype=float32),\n  array(0.01972015, dtype=float32),\n  array(0.01833617, dtype=float32),\n  array(0.01803944, dtype=float32),\n  array(0.01685069, dtype=float32),\n  array(0.01594006, dtype=float32),\n  array(0.01552184, dtype=float32),\n  array(0.01502186, dtype=float32),\n  array(0.01455423, dtype=float32),\n  array(0.01440322, dtype=float32),\n  array(0.01404017, dtype=float32),\n  array(0.0139337, dtype=float32),\n  array(0.01354598, dtype=float32),\n  array(0.01315191, dtype=float32),\n  array(0.01293838, dtype=float32),\n  array(0.01210994, dtype=float32),\n  array(0.01142204, dtype=float32),\n  array(0.01087425, dtype=float32),\n  array(0.01048934, dtype=float32),\n  array(0.00959806, dtype=float32),\n  array(0.00920528, dtype=float32),\n  array(0.00902461, dtype=float32),\n  array(0.00857073, dtype=float32),\n  array(0.00780938, dtype=float32),\n  array(0.00776781, dtype=float32),\n  array(0.00765633, dtype=float32),\n  array(0.00753915, dtype=float32),\n  array(0.00744942, dtype=float32),\n  array(0.00743061, dtype=float32),\n  array(0.00737043, dtype=float32),\n  array(0.00738202, dtype=float32),\n  array(0.0073671, dtype=float32),\n  array(0.0073551, dtype=float32),\n  array(0.00732069, dtype=float32),\n  array(0.00731914, dtype=float32)],\n 'reg': [array(2.9766502, dtype=float32),\n  array(3.0114703, dtype=float32),\n  array(3.0240993, dtype=float32),\n  array(3.0332484, dtype=float32),\n  array(3.0350347, dtype=float32),\n  array(2.8426938, dtype=float32),\n  array(2.824438, dtype=float32),\n  array(2.8151712, dtype=float32),\n  array(2.7613785, dtype=float32),\n  array(2.748855, dtype=float32),\n  array(2.9223394, dtype=float32),\n  array(2.9313083, dtype=float32),\n  array(2.921092, dtype=float32),\n  array(2.9287653, dtype=float32),\n  array(2.9318757, dtype=float32),\n  array(3.0638077, dtype=float32),\n  array(3.0705729, dtype=float32),\n  array(3.0843444, dtype=float32),\n  array(3.0820189, dtype=float32),\n  array(3.0810218, dtype=float32),\n  array(2.973068, dtype=float32),\n  array(2.9782615, dtype=float32),\n  array(2.9800003, dtype=float32),\n  array(2.9848156, dtype=float32),\n  array(2.9860792, dtype=float32),\n  array(2.957285, dtype=float32),\n  array(2.9565651, dtype=float32),\n  array(2.959035, dtype=float32),\n  array(2.9626997, dtype=float32),\n  array(2.963896, dtype=float32),\n  array(2.9723883, dtype=float32),\n  array(2.9646287, dtype=float32),\n  array(2.958994, dtype=float32),\n  array(2.9579287, dtype=float32),\n  array(2.9556923, dtype=float32),\n  array(3.0852182, dtype=float32),\n  array(3.0854263, dtype=float32),\n  array(3.0856519, dtype=float32),\n  array(3.089104, dtype=float32),\n  array(3.0900269, dtype=float32),\n  array(3.0931144, dtype=float32),\n  array(3.0945797, dtype=float32),\n  array(3.0965457, dtype=float32),\n  array(3.0963824, dtype=float32),\n  array(3.0966673, dtype=float32),\n  array(3.0966566, dtype=float32),\n  array(3.0974743, dtype=float32),\n  array(3.097662, dtype=float32),\n  array(3.0982213, dtype=float32),\n  array(3.0978067, dtype=float32)]}"
     },
     "execution_count": 8,
     "metadata": {},
     "output_type": "execute_result"
    }
   ],
   "source": [
    "model.fit(dataset, opt=\"LBFGS\", steps=50)"
   ]
  },
  {
   "cell_type": "code",
   "execution_count": 9,
   "id": "af27aba7",
   "metadata": {
    "ExecuteTime": {
     "end_time": "2024-07-03T04:21:58.316964Z",
     "start_time": "2024-07-03T04:21:57.855043Z"
    }
   },
   "outputs": [
    {
     "data": {
      "text/plain": "<Figure size 500x400 with 4 Axes>",
      "image/png": "[encoded data removed]"
     },
     "metadata": {},
     "output_type": "display_data"
    }
   ],
   "source": [
    "model.plot()"
   ]
  },
  {
   "cell_type": "markdown",
   "id": "cf35d505",
   "metadata": {},
   "source": [
    "Automatically or manually set activation functions to be symbolic"
   ]
  },
  {
   "cell_type": "code",
   "execution_count": 10,
   "id": "b3c0642b",
   "metadata": {
    "ExecuteTime": {
     "end_time": "2024-07-03T04:22:06.084956Z",
     "start_time": "2024-07-03T04:21:58.320959Z"
    }
   },
   "outputs": [
    {
     "name": "stdout",
     "output_type": "stream",
     "text": [
      "fixing (0,0,0) with sin, r2=0.9999783039093018\n",
      "fixing (0,1,0) with x^2, r2=0.9999980330467224\n",
      "fixing (1,0,0) with exp, r2=0.9999995827674866\n"
     ]
    }
   ],
   "source": [
    "mode = \"auto\" # \"manual\"\n",
    "\n",
    "if mode == \"manual\":\n",
    "    # manual mode\n",
    "    model.fix_symbolic(0,0,0,'sin')\n",
    "    model.fix_symbolic(0,1,0,'x^2')\n",
    "    model.fix_symbolic(1,0,0,'exp')\n",
    "elif mode == \"auto\":\n",
    "    # automatic mode\n",
    "    lib = ['x','x^2','x^3','x^4','exp','log','sqrt','tanh','sin','abs']\n",
    "    model.auto_symbolic(lib=lib)"
   ]
  },
  {
   "cell_type": "markdown",
   "id": "821ba616",
   "metadata": {},
   "source": [
    "Continue training to almost machine precision"
   ]
  },
  {
   "cell_type": "code",
   "execution_count": 11,
   "id": "c0800415",
   "metadata": {
    "ExecuteTime": {
     "end_time": "2024-07-03T04:22:07.526266Z",
     "start_time": "2024-07-03T04:22:06.087060Z"
    }
   },
   "outputs": [
    {
     "name": "stderr",
     "output_type": "stream",
     "text": [
      "train loss: 1.69e-03 | test loss: 1.65e-03 | reg: 3.10e+00 : 100%|██| 50/50 [00:01<00:00, 35.37it/s]\n"
     ]
    },
    {
     "data": {
      "text/plain": "{'train_loss': [array(0.00169162, dtype=float32),\n  array(0.00169162, dtype=float32),\n  array(0.00169162, dtype=float32),\n  array(0.00169162, dtype=float32),\n  array(0.00169162, dtype=float32),\n  array(0.00169162, dtype=float32),\n  array(0.00169162, dtype=float32),\n  array(0.00169162, dtype=float32),\n  array(0.00169162, dtype=float32),\n  array(0.00169162, dtype=float32),\n  array(0.00169162, dtype=float32),\n  array(0.00169162, dtype=float32),\n  array(0.00169162, dtype=float32),\n  array(0.00169162, dtype=float32),\n  array(0.00169162, dtype=float32),\n  array(0.00169162, dtype=float32),\n  array(0.00169162, dtype=float32),\n  array(0.00169162, dtype=float32),\n  array(0.00169162, dtype=float32),\n  array(0.00169162, dtype=float32),\n  array(0.00169162, dtype=float32),\n  array(0.00169162, dtype=float32),\n  array(0.00169162, dtype=float32),\n  array(0.00169162, dtype=float32),\n  array(0.00169162, dtype=float32),\n  array(0.00169162, dtype=float32),\n  array(0.00169162, dtype=float32),\n  array(0.00169162, dtype=float32),\n  array(0.00169162, dtype=float32),\n  array(0.00169162, dtype=float32),\n  array(0.00169162, dtype=float32),\n  array(0.00169162, dtype=float32),\n  array(0.00169162, dtype=float32),\n  array(0.00169162, dtype=float32),\n  array(0.00169162, dtype=float32),\n  array(0.00169162, dtype=float32),\n  array(0.00169162, dtype=float32),\n  array(0.00169162, dtype=float32),\n  array(0.00169162, dtype=float32),\n  array(0.00169162, dtype=float32),\n  array(0.00169162, dtype=float32),\n  array(0.00169162, dtype=float32),\n  array(0.00169162, dtype=float32),\n  array(0.00169162, dtype=float32),\n  array(0.00169162, dtype=float32),\n  array(0.00169162, dtype=float32),\n  array(0.00169162, dtype=float32),\n  array(0.00169162, dtype=float32),\n  array(0.00169162, dtype=float32),\n  array(0.00169162, dtype=float32)],\n 'test_loss': [array(0.00164904, dtype=float32),\n  array(0.00164904, dtype=float32),\n  array(0.00164904, dtype=float32),\n  array(0.00164904, dtype=float32),\n  array(0.00164904, dtype=float32),\n  array(0.00164904, dtype=float32),\n  array(0.00164904, dtype=float32),\n  array(0.00164904, dtype=float32),\n  array(0.00164904, dtype=float32),\n  array(0.00164904, dtype=float32),\n  array(0.00164904, dtype=float32),\n  array(0.00164904, dtype=float32),\n  array(0.00164904, dtype=float32),\n  array(0.00164904, dtype=float32),\n  array(0.00164904, dtype=float32),\n  array(0.00164904, dtype=float32),\n  array(0.00164904, dtype=float32),\n  array(0.00164904, dtype=float32),\n  array(0.00164904, dtype=float32),\n  array(0.00164904, dtype=float32),\n  array(0.00164904, dtype=float32),\n  array(0.00164904, dtype=float32),\n  array(0.00164904, dtype=float32),\n  array(0.00164904, dtype=float32),\n  array(0.00164904, dtype=float32),\n  array(0.00164904, dtype=float32),\n  array(0.00164904, dtype=float32),\n  array(0.00164904, dtype=float32),\n  array(0.00164904, dtype=float32),\n  array(0.00164904, dtype=float32),\n  array(0.00164904, dtype=float32),\n  array(0.00164904, dtype=float32),\n  array(0.00164904, dtype=float32),\n  array(0.00164904, dtype=float32),\n  array(0.00164904, dtype=float32),\n  array(0.00164904, dtype=float32),\n  array(0.00164904, dtype=float32),\n  array(0.00164904, dtype=float32),\n  array(0.00164904, dtype=float32),\n  array(0.00164904, dtype=float32),\n  array(0.00164904, dtype=float32),\n  array(0.00164904, dtype=float32),\n  array(0.00164904, dtype=float32),\n  array(0.00164904, dtype=float32),\n  array(0.00164904, dtype=float32),\n  array(0.00164904, dtype=float32),\n  array(0.00164904, dtype=float32),\n  array(0.00164904, dtype=float32),\n  array(0.00164904, dtype=float32),\n  array(0.00164904, dtype=float32)],\n 'reg': [array(3.0990458, dtype=float32),\n  array(3.0990458, dtype=float32),\n  array(3.0990458, dtype=float32),\n  array(3.0990458, dtype=float32),\n  array(3.0990458, dtype=float32),\n  array(3.098392, dtype=float32),\n  array(3.0983915, dtype=float32),\n  array(3.098392, dtype=float32),\n  array(3.098392, dtype=float32),\n  array(3.098392, dtype=float32),\n  array(3.098392, dtype=float32),\n  array(3.098392, dtype=float32),\n  array(3.098392, dtype=float32),\n  array(3.098392, dtype=float32),\n  array(3.098392, dtype=float32),\n  array(3.098392, dtype=float32),\n  array(3.098392, dtype=float32),\n  array(3.098392, dtype=float32),\n  array(3.098392, dtype=float32),\n  array(3.098392, dtype=float32),\n  array(3.098392, dtype=float32),\n  array(3.098392, dtype=float32),\n  array(3.098392, dtype=float32),\n  array(3.098392, dtype=float32),\n  array(3.098392, dtype=float32),\n  array(3.098392, dtype=float32),\n  array(3.098392, dtype=float32),\n  array(3.098392, dtype=float32),\n  array(3.098392, dtype=float32),\n  array(3.098392, dtype=float32),\n  array(3.098392, dtype=float32),\n  array(3.098392, dtype=float32),\n  array(3.098392, dtype=float32),\n  array(3.098392, dtype=float32),\n  array(3.098392, dtype=float32),\n  array(3.098392, dtype=float32),\n  array(3.098392, dtype=float32),\n  array(3.0983922, dtype=float32),\n  array(3.098392, dtype=float32),\n  array(3.098392, dtype=float32),\n  array(3.098392, dtype=float32),\n  array(3.098392, dtype=float32),\n  array(3.098392, dtype=float32),\n  array(3.098392, dtype=float32),\n  array(3.098392, dtype=float32),\n  array(3.098392, dtype=float32),\n  array(3.098392, dtype=float32),\n  array(3.098392, dtype=float32),\n  array(3.098392, dtype=float32),\n  array(3.098392, dtype=float32)]}"
     },
     "execution_count": 11,
     "metadata": {},
     "output_type": "execute_result"
    }
   ],
   "source": [
    "model.fit(dataset, opt=\"LBFGS\", steps=50)"
   ]
  },
  {
   "cell_type": "markdown",
   "id": "e39da499",
   "metadata": {},
   "source": [
    "Obtain the symbolic formula"
   ]
  },
  {
   "cell_type": "code",
   "execution_count": 12,
   "id": "bf44f7e0",
   "metadata": {
    "ExecuteTime": {
     "end_time": "2024-07-03T04:22:07.763968Z",
     "start_time": "2024-07-03T04:22:07.527674Z"
    }
   },
   "outputs": [
    {
     "data": {
      "text/plain": "1.0*exp(1.0*x_2**2 + 1.0*sin(3.14*x_1))",
      "text/latex": "$\\displaystyle 1.0 e^{1.0 x_{2}^{2} + 1.0 \\sin{\\left(3.14 x_{1} \\right)}}$"
     },
     "execution_count": 12,
     "metadata": {},
     "output_type": "execute_result"
    }
   ],
   "source": [
    "model.symbolic_formula()[0][0]"
   ]
  }
 ],
 "metadata": {
  "kernelspec": {
   "display_name": "Python 3 (ipykernel)",
   "language": "python",
   "name": "python3"
  },
  "language_info": {
   "codemirror_mode": {
    "name": "ipython",
    "version": 3
   },
   "file_extension": ".py",
   "mimetype": "text/x-python",
   "name": "python",
   "nbconvert_exporter": "python",
   "pygments_lexer": "ipython3",
   "version": "3.9.7"
  }
 },
 "nbformat": 4,
 "nbformat_minor": 5
}
