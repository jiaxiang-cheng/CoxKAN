{
 "cells": [
  {
   "cell_type": "markdown",
   "id": "134e7f9d",
   "metadata": {},
   "source": [
    "# Hello, KAN!"
   ]
  },
  {
   "cell_type": "markdown",
   "id": "59cf5cd0",
   "metadata": {},
   "source": [
    "### Kolmogorov-Arnold representation theorem"
   ]
  },
  {
   "cell_type": "markdown",
   "id": "f88e5321",
   "metadata": {},
   "source": [
    "Kolmogorov-Arnold representation theorem states that if $f$ is a multivariate continuous function\n",
    "on a bounded domain, then it can be written as a finite composition of continuous functions of a\n",
    "single variable and the binary operation of addition. More specifically, for a smooth $f : [0,1]^n \\to \\mathbb{R}$,\n",
    "\n",
    "\n",
    "$$f(x) = f(x_1,...,x_n)=\\sum_{q=1}^{2n+1}\\Phi_q(\\sum_{p=1}^n \\phi_{q,p}(x_p))$$\n",
    "\n",
    "where $\\phi_{q,p}:[0,1]\\to\\mathbb{R}$ and $\\Phi_q:\\mathbb{R}\\to\\mathbb{R}$. In a sense, they showed that the only true multivariate function is addition, since every other function can be written using univariate functions and sum. However, this 2-Layer width-$(2n+1)$ Kolmogorov-Arnold representation may not be smooth due to its limited expressive power. We augment its expressive power by generalizing it to arbitrary depths and widths."
   ]
  },
  {
   "cell_type": "markdown",
   "id": "ebd8766a",
   "metadata": {},
   "source": [
    "### Kolmogorov-Arnold Network (KAN)"
   ]
  },
  {
   "cell_type": "markdown",
   "id": "2cf3b1ee",
   "metadata": {},
   "source": [
    "The Kolmogorov-Arnold representation can be written in matrix form\n",
    "\n",
    "$$f(x)={\\bf \\Phi}_{\\rm out}\\circ{\\bf \\Phi}_{\\rm in}\\circ {\\bf x}$$\n",
    "\n",
    "where \n",
    "\n",
    "$${\\bf \\Phi}_{\\rm in}= \\begin{pmatrix} \\phi_{1,1}(\\cdot) & \\cdots & \\phi_{1,n}(\\cdot) \\\\ \\vdots & & \\vdots \\\\ \\phi_{2n+1,1}(\\cdot) & \\cdots & \\phi_{2n+1,n}(\\cdot) \\end{pmatrix},\\quad {\\bf \\Phi}_{\\rm out}=\\begin{pmatrix} \\Phi_1(\\cdot) & \\cdots & \\Phi_{2n+1}(\\cdot)\\end{pmatrix}$$"
   ]
  },
  {
   "cell_type": "markdown",
   "id": "f6521452",
   "metadata": {},
   "source": [
    "We notice that both ${\\bf \\Phi}_{\\rm in}$ and ${\\bf \\Phi}_{\\rm out}$ are special cases of the following function matrix ${\\bf \\Phi}$ (with $n_{\\rm in}$ inputs, and $n_{\\rm out}$ outputs), we call a Kolmogorov-Arnold layer:\n",
    "\n",
    "$${\\bf \\Phi}= \\begin{pmatrix} \\phi_{1,1}(\\cdot) & \\cdots & \\phi_{1,n_{\\rm in}}(\\cdot) \\\\ \\vdots & & \\vdots \\\\ \\phi_{n_{\\rm out},1}(\\cdot) & \\cdots & \\phi_{n_{\\rm out},n_{\\rm in}}(\\cdot) \\end{pmatrix}$$\n",
    "\n",
    "${\\bf \\Phi}_{\\rm in}$ corresponds to $n_{\\rm in}=n, n_{\\rm out}=2n+1$, and ${\\bf \\Phi}_{\\rm out}$ corresponds to $n_{\\rm in}=2n+1, n_{\\rm out}=1$."
   ]
  },
  {
   "cell_type": "markdown",
   "id": "1b410498",
   "metadata": {},
   "source": [
    "After defining the layer, we can construct a Kolmogorov-Arnold network simply by stacking layers! Let's say we have $L$ layers, with the $l^{\\rm th}$ layer ${\\bf \\Phi}_l$ have shape $(n_{l+1}, n_{l})$. Then the whole network is\n",
    "\n",
    "$${\\rm KAN}({\\bf x})={\\bf \\Phi}_{L-1}\\circ\\cdots \\circ{\\bf \\Phi}_1\\circ{\\bf \\Phi}_0\\circ {\\bf x}$$"
   ]
  },
  {
   "cell_type": "markdown",
   "id": "54bbde9a",
   "metadata": {},
   "source": [
    "In constrast, a Multi-Layer Perceptron is interleaved by linear layers ${\\bf W}_l$ and nonlinearities $\\sigma$:\n",
    "\n",
    "$${\\rm MLP}({\\bf x})={\\bf W}_{L-1}\\circ\\sigma\\circ\\cdots\\circ {\\bf W}_1\\circ\\sigma\\circ {\\bf W}_0\\circ {\\bf x}$$"
   ]
  },
  {
   "cell_type": "markdown",
   "id": "1c5f7795",
   "metadata": {},
   "source": [
    "A KAN can be easily visualized. (1) A KAN is simply stack of KAN layers. (2) Each KAN layer can be visualized as a fully-connected layer, with a 1D function placed on each edge. Let's see an example below."
   ]
  },
  {
   "cell_type": "markdown",
   "id": "adcb5f75",
   "metadata": {},
   "source": [
    "### Get started with KANs"
   ]
  },
  {
   "cell_type": "markdown",
   "id": "2571d531",
   "metadata": {},
   "source": [
    "Initialize KAN"
   ]
  },
  {
   "cell_type": "code",
   "execution_count": 1,
   "id": "2075ef56",
   "metadata": {
    "ExecuteTime": {
     "end_time": "2024-07-03T08:14:21.209587Z",
     "start_time": "2024-07-03T08:14:15.368125Z"
    }
   },
   "outputs": [],
   "source": [
    "from api.kan import *\n",
    "# create a KAN: 2D inputs, 1D output, and 5 hidden neurons. cubic spline (k=3), 5 grid intervals (grid=5).\n",
    "model = KAN(width=[2,1], grid=5, k=3, seed=0)\n",
    "# model = KAN(width=[2,1,1], grid=5, k=3, seed=0)"
   ]
  },
  {
   "cell_type": "markdown",
   "id": "3d72e076",
   "metadata": {},
   "source": [
    "Create dataset"
   ]
  },
  {
   "cell_type": "code",
   "execution_count": 2,
   "id": "46717e8b",
   "metadata": {
    "ExecuteTime": {
     "end_time": "2024-07-03T08:14:21.225250Z",
     "start_time": "2024-07-03T08:14:21.213532Z"
    }
   },
   "outputs": [
    {
     "data": {
      "text/plain": "(torch.Size([1000, 2]), torch.Size([1000, 1]))"
     },
     "execution_count": 2,
     "metadata": {},
     "output_type": "execute_result"
    }
   ],
   "source": [
    "from api.kan.utils import create_dataset\n",
    "import math\n",
    "\n",
    "# create dataset f(x1,x2) = exp(sin(pi*x1)+x2^2)\n",
    "# f = lambda x: torch.exp(torch.sin(torch.pi*x[:,[0]]) + x[:,[1]]**2)\n",
    "# f = lambda x: x[:,[0]] + x[:,[1]] * 2  # Linear experiment\n",
    "f = lambda x: math.log(5) * torch.exp(-(x[:,[0]] ** 2 + x[:,[1]] ** 2) / (2 * 0.5 ** 2))  # Linear experiment\n",
    "dataset = create_dataset(f, n_var=2)\n",
    "dataset['train_input'].shape, dataset['train_label'].shape"
   ]
  },
  {
   "cell_type": "markdown",
   "id": "8c6add1d",
   "metadata": {},
   "source": [
    "Plot KAN at initialization"
   ]
  },
  {
   "cell_type": "code",
   "execution_count": 3,
   "id": "ac76f858",
   "metadata": {
    "ExecuteTime": {
     "end_time": "2024-07-03T08:14:21.621413Z",
     "start_time": "2024-07-03T08:14:21.227055Z"
    }
   },
   "outputs": [
    {
     "data": {
      "text/plain": "<Figure size 500x200 with 3 Axes>",
      "image/png": "[encoded data removed]"
     },
     "metadata": {},
     "output_type": "display_data"
    }
   ],
   "source": [
    "# plot KAN at initialization\n",
    "model(dataset['train_input'])\n",
    "model.plot(beta=100)"
   ]
  },
  {
   "cell_type": "markdown",
   "id": "ddf67e30",
   "metadata": {},
   "source": [
    "Train KAN with sparsity regularization"
   ]
  },
  {
   "cell_type": "code",
   "execution_count": 4,
   "id": "97111d75",
   "metadata": {
    "ExecuteTime": {
     "end_time": "2024-07-03T08:14:24.178735Z",
     "start_time": "2024-07-03T08:14:21.622850Z"
    }
   },
   "outputs": [
    {
     "name": "stderr",
     "output_type": "stream",
     "text": [
      "train loss: 1.42e-01 | test loss: 1.46e-01 | reg: 4.89e+00 : 100%|██| 20/20 [00:02<00:00,  7.92it/s]\n"
     ]
    }
   ],
   "source": [
    "# train the model\n",
    "model.train()\n",
    "model.fit(dataset, opt=\"LBFGS\", steps=20, lamb=0.01, lamb_entropy=10.);"
   ]
  },
  {
   "cell_type": "markdown",
   "id": "2f30c3ab",
   "metadata": {},
   "source": [
    "Plot trained KAN"
   ]
  },
  {
   "cell_type": "code",
   "execution_count": 5,
   "id": "3f95fcdd",
   "metadata": {
    "ExecuteTime": {
     "end_time": "2024-07-03T08:14:24.643472Z",
     "start_time": "2024-07-03T08:14:24.184471Z"
    }
   },
   "outputs": [
    {
     "data": {
      "text/plain": "<Figure size 500x200 with 3 Axes>",
      "image/png": "[encoded data removed]"
     },
     "metadata": {},
     "output_type": "display_data"
    }
   ],
   "source": [
    "model.plot()"
   ]
  },
  {
   "cell_type": "markdown",
   "id": "61d537b7",
   "metadata": {},
   "source": [
    "Prune KAN and replot (keep the original shape)"
   ]
  },
  {
   "cell_type": "code",
   "execution_count": 6,
   "id": "1269a698",
   "metadata": {
    "ExecuteTime": {
     "end_time": "2024-07-03T08:14:25.052499Z",
     "start_time": "2024-07-03T08:14:24.645086Z"
    }
   },
   "outputs": [
    {
     "data": {
      "text/plain": "<Figure size 500x200 with 3 Axes>",
      "image/png": "[encoded data removed]"
     },
     "metadata": {},
     "output_type": "display_data"
    }
   ],
   "source": [
    "model.prune()\n",
    "model.plot(mask=True)"
   ]
  },
  {
   "cell_type": "markdown",
   "id": "576856cf",
   "metadata": {},
   "source": [
    "Prune KAN and replot (get a smaller shape)"
   ]
  },
  {
   "cell_type": "code",
   "execution_count": 7,
   "id": "7fe6fb12",
   "metadata": {
    "ExecuteTime": {
     "end_time": "2024-07-03T08:14:25.515180Z",
     "start_time": "2024-07-03T08:14:25.053871Z"
    }
   },
   "outputs": [
    {
     "data": {
      "text/plain": "<Figure size 500x200 with 3 Axes>",
      "image/png": "[encoded data removed]"
     },
     "metadata": {},
     "output_type": "display_data"
    }
   ],
   "source": [
    "model = model.prune()\n",
    "model(dataset['train_input'])\n",
    "model.plot()"
   ]
  },
  {
   "cell_type": "markdown",
   "id": "bd08ad99",
   "metadata": {},
   "source": [
    "Continue training and replot"
   ]
  },
  {
   "cell_type": "code",
   "execution_count": 8,
   "id": "18a2db11",
   "metadata": {
    "ExecuteTime": {
     "end_time": "2024-07-03T08:14:28.061470Z",
     "start_time": "2024-07-03T08:14:25.518080Z"
    }
   },
   "outputs": [
    {
     "name": "stderr",
     "output_type": "stream",
     "text": [
      "train loss: 1.34e-01 | test loss: 1.37e-01 | reg: 2.77e+00 : 100%|██| 50/50 [00:02<00:00, 19.89it/s]\n"
     ]
    },
    {
     "data": {
      "text/plain": "{'train_loss': [array(0.13440852, dtype=float32),\n  array(0.13438533, dtype=float32),\n  array(0.1343167, dtype=float32),\n  array(0.13428868, dtype=float32),\n  array(0.13427587, dtype=float32),\n  array(0.13426945, dtype=float32),\n  array(0.13426946, dtype=float32),\n  array(0.13426945, dtype=float32),\n  array(0.13426946, dtype=float32),\n  array(0.13426946, dtype=float32),\n  array(0.13426946, dtype=float32),\n  array(0.13426942, dtype=float32),\n  array(0.13426936, dtype=float32),\n  array(0.13426933, dtype=float32),\n  array(0.13426934, dtype=float32),\n  array(0.13426934, dtype=float32),\n  array(0.13426934, dtype=float32),\n  array(0.13426933, dtype=float32),\n  array(0.13426934, dtype=float32),\n  array(0.13426927, dtype=float32),\n  array(0.13426909, dtype=float32),\n  array(0.13426904, dtype=float32),\n  array(0.13426904, dtype=float32),\n  array(0.13426904, dtype=float32),\n  array(0.13426904, dtype=float32),\n  array(0.13426906, dtype=float32),\n  array(0.13426906, dtype=float32),\n  array(0.13426906, dtype=float32),\n  array(0.13426901, dtype=float32),\n  array(0.13426898, dtype=float32),\n  array(0.13426897, dtype=float32),\n  array(0.13426898, dtype=float32),\n  array(0.13426898, dtype=float32),\n  array(0.13426898, dtype=float32),\n  array(0.13426895, dtype=float32),\n  array(0.13426895, dtype=float32),\n  array(0.13426894, dtype=float32),\n  array(0.13426894, dtype=float32),\n  array(0.13426894, dtype=float32),\n  array(0.13426894, dtype=float32),\n  array(0.13426895, dtype=float32),\n  array(0.13426894, dtype=float32),\n  array(0.13426894, dtype=float32),\n  array(0.13426894, dtype=float32),\n  array(0.13426892, dtype=float32),\n  array(0.13426892, dtype=float32),\n  array(0.13426892, dtype=float32),\n  array(0.13426892, dtype=float32),\n  array(0.13426892, dtype=float32),\n  array(0.13426892, dtype=float32)],\n 'test_loss': [array(0.13719049, dtype=float32),\n  array(0.13745198, dtype=float32),\n  array(0.1371924, dtype=float32),\n  array(0.13716725, dtype=float32),\n  array(0.13707457, dtype=float32),\n  array(0.13697426, dtype=float32),\n  array(0.13697428, dtype=float32),\n  array(0.13697428, dtype=float32),\n  array(0.13697498, dtype=float32),\n  array(0.13697535, dtype=float32),\n  array(0.13697557, dtype=float32),\n  array(0.1369735, dtype=float32),\n  array(0.13696142, dtype=float32),\n  array(0.13696425, dtype=float32),\n  array(0.13696425, dtype=float32),\n  array(0.13696577, dtype=float32),\n  array(0.13696578, dtype=float32),\n  array(0.13697, dtype=float32),\n  array(0.13697039, dtype=float32),\n  array(0.13696429, dtype=float32),\n  array(0.13697995, dtype=float32),\n  array(0.13697904, dtype=float32),\n  array(0.13697904, dtype=float32),\n  array(0.13697904, dtype=float32),\n  array(0.13697904, dtype=float32),\n  array(0.13697965, dtype=float32),\n  array(0.13697992, dtype=float32),\n  array(0.13698024, dtype=float32),\n  array(0.1369811, dtype=float32),\n  array(0.13697883, dtype=float32),\n  array(0.13697885, dtype=float32),\n  array(0.13697885, dtype=float32),\n  array(0.13697885, dtype=float32),\n  array(0.13697885, dtype=float32),\n  array(0.13698474, dtype=float32),\n  array(0.13698612, dtype=float32),\n  array(0.13698594, dtype=float32),\n  array(0.1369842, dtype=float32),\n  array(0.13698387, dtype=float32),\n  array(0.13698381, dtype=float32),\n  array(0.13698404, dtype=float32),\n  array(0.13698542, dtype=float32),\n  array(0.13698542, dtype=float32),\n  array(0.1369854, dtype=float32),\n  array(0.1369854, dtype=float32),\n  array(0.13698436, dtype=float32),\n  array(0.13698687, dtype=float32),\n  array(0.13698688, dtype=float32),\n  array(0.13698687, dtype=float32),\n  array(0.13698703, dtype=float32)],\n 'reg': [array(2.7672627, dtype=float32),\n  array(2.767942, dtype=float32),\n  array(2.776864, dtype=float32),\n  array(2.775014, dtype=float32),\n  array(2.770913, dtype=float32),\n  array(2.7693849, dtype=float32),\n  array(2.7693849, dtype=float32),\n  array(2.7693849, dtype=float32),\n  array(2.769384, dtype=float32),\n  array(2.7693992, dtype=float32),\n  array(2.7694364, dtype=float32),\n  array(2.7695649, dtype=float32),\n  array(2.7697005, dtype=float32),\n  array(2.769729, dtype=float32),\n  array(2.769729, dtype=float32),\n  array(2.7697668, dtype=float32),\n  array(2.7697668, dtype=float32),\n  array(2.7697744, dtype=float32),\n  array(2.7697828, dtype=float32),\n  array(2.7699919, dtype=float32),\n  array(2.7700295, dtype=float32),\n  array(2.7700493, dtype=float32),\n  array(2.7700493, dtype=float32),\n  array(2.7700496, dtype=float32),\n  array(2.7700493, dtype=float32),\n  array(2.7700608, dtype=float32),\n  array(2.7700644, dtype=float32),\n  array(2.7700748, dtype=float32),\n  array(2.7702374, dtype=float32),\n  array(2.7703185, dtype=float32),\n  array(2.7703185, dtype=float32),\n  array(2.7703185, dtype=float32),\n  array(2.7703185, dtype=float32),\n  array(2.7703185, dtype=float32),\n  array(2.770333, dtype=float32),\n  array(2.77034, dtype=float32),\n  array(2.7703717, dtype=float32),\n  array(2.770399, dtype=float32),\n  array(2.7704077, dtype=float32),\n  array(2.7704124, dtype=float32),\n  array(2.7704084, dtype=float32),\n  array(2.7704065, dtype=float32),\n  array(2.7704065, dtype=float32),\n  array(2.770404, dtype=float32),\n  array(2.770404, dtype=float32),\n  array(2.77041, dtype=float32),\n  array(2.7703753, dtype=float32),\n  array(2.7703753, dtype=float32),\n  array(2.7703753, dtype=float32),\n  array(2.7703743, dtype=float32)]}"
     },
     "execution_count": 8,
     "metadata": {},
     "output_type": "execute_result"
    }
   ],
   "source": [
    "model.fit(dataset, opt=\"LBFGS\", steps=50)"
   ]
  },
  {
   "cell_type": "code",
   "execution_count": 9,
   "id": "af27aba7",
   "metadata": {
    "ExecuteTime": {
     "end_time": "2024-07-03T08:14:28.490421Z",
     "start_time": "2024-07-03T08:14:28.063607Z"
    }
   },
   "outputs": [
    {
     "data": {
      "text/plain": "<Figure size 500x200 with 3 Axes>",
      "image/png": "[encoded data removed]"
     },
     "metadata": {},
     "output_type": "display_data"
    }
   ],
   "source": [
    "model.plot()"
   ]
  },
  {
   "cell_type": "markdown",
   "id": "cf35d505",
   "metadata": {},
   "source": [
    "Automatically or manually set activation functions to be symbolic"
   ]
  },
  {
   "cell_type": "code",
   "execution_count": 10,
   "id": "b3c0642b",
   "metadata": {
    "ExecuteTime": {
     "end_time": "2024-07-03T08:14:35.359157Z",
     "start_time": "2024-07-03T08:14:28.492244Z"
    }
   },
   "outputs": [
    {
     "name": "stdout",
     "output_type": "stream",
     "text": [
      "fixing (0,0,0) with sin, r2=0.9987451434135437\n",
      "fixing (0,1,0) with sin, r2=0.9965924620628357\n"
     ]
    }
   ],
   "source": [
    "mode = \"auto\" # \"manual\"\n",
    "\n",
    "if mode == \"manual\":\n",
    "    # manual mode\n",
    "    model.fix_symbolic(0,0,0,'sin')\n",
    "    model.fix_symbolic(0,1,0,'x^2')\n",
    "    model.fix_symbolic(1,0,0,'exp')\n",
    "elif mode == \"auto\":\n",
    "    # automatic mode\n",
    "    lib = ['x','x^2','x^3','x^4','exp','log','sqrt','tanh','sin','abs']\n",
    "    model.auto_symbolic(lib=lib)"
   ]
  },
  {
   "cell_type": "markdown",
   "id": "821ba616",
   "metadata": {},
   "source": [
    "Continue training to almost machine precision"
   ]
  },
  {
   "cell_type": "code",
   "execution_count": 11,
   "id": "c0800415",
   "metadata": {
    "ExecuteTime": {
     "end_time": "2024-07-03T08:14:36.916098Z",
     "start_time": "2024-07-03T08:14:35.361657Z"
    }
   },
   "outputs": [
    {
     "name": "stderr",
     "output_type": "stream",
     "text": [
      "train loss: 1.36e-01 | test loss: 1.35e-01 | reg: 2.77e+00 : 100%|██| 50/50 [00:01<00:00, 32.88it/s]\n"
     ]
    },
    {
     "data": {
      "text/plain": "{'train_loss': [array(0.13553666, dtype=float32),\n  array(0.13553666, dtype=float32),\n  array(0.13553666, dtype=float32),\n  array(0.13553666, dtype=float32),\n  array(0.13553666, dtype=float32),\n  array(0.13553666, dtype=float32),\n  array(0.13553666, dtype=float32),\n  array(0.13553666, dtype=float32),\n  array(0.13553666, dtype=float32),\n  array(0.13553666, dtype=float32),\n  array(0.13553666, dtype=float32),\n  array(0.13553666, dtype=float32),\n  array(0.13553666, dtype=float32),\n  array(0.13553666, dtype=float32),\n  array(0.13553666, dtype=float32),\n  array(0.13553666, dtype=float32),\n  array(0.13553666, dtype=float32),\n  array(0.13553667, dtype=float32),\n  array(0.13553667, dtype=float32),\n  array(0.13553666, dtype=float32),\n  array(0.13553666, dtype=float32),\n  array(0.13553667, dtype=float32),\n  array(0.13553666, dtype=float32),\n  array(0.13553666, dtype=float32),\n  array(0.13553667, dtype=float32),\n  array(0.13553666, dtype=float32),\n  array(0.13553666, dtype=float32),\n  array(0.13553666, dtype=float32),\n  array(0.13553666, dtype=float32),\n  array(0.13553666, dtype=float32),\n  array(0.13553666, dtype=float32),\n  array(0.13553666, dtype=float32),\n  array(0.13553666, dtype=float32),\n  array(0.13553666, dtype=float32),\n  array(0.13553666, dtype=float32),\n  array(0.13553666, dtype=float32),\n  array(0.13553666, dtype=float32),\n  array(0.13553666, dtype=float32),\n  array(0.13553666, dtype=float32),\n  array(0.13553667, dtype=float32),\n  array(0.13553666, dtype=float32),\n  array(0.13553667, dtype=float32),\n  array(0.13553666, dtype=float32),\n  array(0.13553666, dtype=float32),\n  array(0.13553666, dtype=float32),\n  array(0.13553666, dtype=float32),\n  array(0.13553666, dtype=float32),\n  array(0.13553666, dtype=float32),\n  array(0.13553666, dtype=float32),\n  array(0.13553666, dtype=float32)],\n 'test_loss': [array(0.13463008, dtype=float32),\n  array(0.13463008, dtype=float32),\n  array(0.1346301, dtype=float32),\n  array(0.13463008, dtype=float32),\n  array(0.1346301, dtype=float32),\n  array(0.13463008, dtype=float32),\n  array(0.13463008, dtype=float32),\n  array(0.13463007, dtype=float32),\n  array(0.13463007, dtype=float32),\n  array(0.13463008, dtype=float32),\n  array(0.13463008, dtype=float32),\n  array(0.13463008, dtype=float32),\n  array(0.13463008, dtype=float32),\n  array(0.13463008, dtype=float32),\n  array(0.13463008, dtype=float32),\n  array(0.13463008, dtype=float32),\n  array(0.13463008, dtype=float32),\n  array(0.13463034, dtype=float32),\n  array(0.13463034, dtype=float32),\n  array(0.13463034, dtype=float32),\n  array(0.1346304, dtype=float32),\n  array(0.13463064, dtype=float32),\n  array(0.13463111, dtype=float32),\n  array(0.13463108, dtype=float32),\n  array(0.13463095, dtype=float32),\n  array(0.13463084, dtype=float32),\n  array(0.13463081, dtype=float32),\n  array(0.13463087, dtype=float32),\n  array(0.13463086, dtype=float32),\n  array(0.13463087, dtype=float32),\n  array(0.13463086, dtype=float32),\n  array(0.13463086, dtype=float32),\n  array(0.13463086, dtype=float32),\n  array(0.13463086, dtype=float32),\n  array(0.13463086, dtype=float32),\n  array(0.13463084, dtype=float32),\n  array(0.13463084, dtype=float32),\n  array(0.13463084, dtype=float32),\n  array(0.13463086, dtype=float32),\n  array(0.13463084, dtype=float32),\n  array(0.13463083, dtype=float32),\n  array(0.13463083, dtype=float32),\n  array(0.13463083, dtype=float32),\n  array(0.13463083, dtype=float32),\n  array(0.13463083, dtype=float32),\n  array(0.13463083, dtype=float32),\n  array(0.13463083, dtype=float32),\n  array(0.13463083, dtype=float32),\n  array(0.13463084, dtype=float32),\n  array(0.13463083, dtype=float32)],\n 'reg': [array(2.7713242, dtype=float32),\n  array(2.7713242, dtype=float32),\n  array(2.7713242, dtype=float32),\n  array(2.7713242, dtype=float32),\n  array(2.7713242, dtype=float32),\n  array(2.7713242, dtype=float32),\n  array(2.771324, dtype=float32),\n  array(2.7713242, dtype=float32),\n  array(2.771324, dtype=float32),\n  array(2.7713242, dtype=float32),\n  array(2.7713242, dtype=float32),\n  array(2.7713242, dtype=float32),\n  array(2.7713242, dtype=float32),\n  array(2.7713242, dtype=float32),\n  array(2.7713242, dtype=float32),\n  array(2.7713242, dtype=float32),\n  array(2.7713242, dtype=float32),\n  array(2.7713256, dtype=float32),\n  array(2.7713256, dtype=float32),\n  array(2.7713256, dtype=float32),\n  array(2.7713335, dtype=float32),\n  array(2.7713351, dtype=float32),\n  array(2.7713308, dtype=float32),\n  array(2.7713294, dtype=float32),\n  array(2.7713256, dtype=float32),\n  array(2.7713258, dtype=float32),\n  array(2.771327, dtype=float32),\n  array(2.7713308, dtype=float32),\n  array(2.7713308, dtype=float32),\n  array(2.7713308, dtype=float32),\n  array(2.7713308, dtype=float32),\n  array(2.7713308, dtype=float32),\n  array(2.7713308, dtype=float32),\n  array(2.7713308, dtype=float32),\n  array(2.7713308, dtype=float32),\n  array(2.7713284, dtype=float32),\n  array(2.7713284, dtype=float32),\n  array(2.7713284, dtype=float32),\n  array(2.7713284, dtype=float32),\n  array(2.7713284, dtype=float32),\n  array(2.7713284, dtype=float32),\n  array(2.7713284, dtype=float32),\n  array(2.7713284, dtype=float32),\n  array(2.7713284, dtype=float32),\n  array(2.7713284, dtype=float32),\n  array(2.7713284, dtype=float32),\n  array(2.7713284, dtype=float32),\n  array(2.7713284, dtype=float32),\n  array(2.7713284, dtype=float32),\n  array(2.7713284, dtype=float32)]}"
     },
     "execution_count": 11,
     "metadata": {},
     "output_type": "execute_result"
    }
   ],
   "source": [
    "model.fit(dataset, opt=\"LBFGS\", steps=50)"
   ]
  },
  {
   "cell_type": "markdown",
   "id": "e39da499",
   "metadata": {},
   "source": [
    "Obtain the symbolic formula"
   ]
  },
  {
   "cell_type": "code",
   "execution_count": 12,
   "id": "bf44f7e0",
   "metadata": {
    "ExecuteTime": {
     "end_time": "2024-07-03T08:14:37.018593Z",
     "start_time": "2024-07-03T08:14:36.917973Z"
    }
   },
   "outputs": [
    {
     "data": {
      "text/plain": "-0.42*sin(2.98*x_1 - 1.58) + 0.39*sin(3.06*x_2 + 1.58) + 0.55",
      "text/latex": "$\\displaystyle - 0.42 \\sin{\\left(2.98 x_{1} - 1.58 \\right)} + 0.39 \\sin{\\left(3.06 x_{2} + 1.58 \\right)} + 0.55$"
     },
     "execution_count": 12,
     "metadata": {},
     "output_type": "execute_result"
    }
   ],
   "source": [
    "model.symbolic_formula()[0][0]"
   ]
  }
 ],
 "metadata": {
  "kernelspec": {
   "display_name": "Python 3 (ipykernel)",
   "language": "python",
   "name": "python3"
  },
  "language_info": {
   "codemirror_mode": {
    "name": "ipython",
    "version": 3
   },
   "file_extension": ".py",
   "mimetype": "text/x-python",
   "name": "python",
   "nbconvert_exporter": "python",
   "pygments_lexer": "ipython3",
   "version": "3.9.7"
  }
 },
 "nbformat": 4,
 "nbformat_minor": 5
}
