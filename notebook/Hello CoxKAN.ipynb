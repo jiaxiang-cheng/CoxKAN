{
 "cells": [
  {
   "cell_type": "code",
   "outputs": [],
   "source": [
    "import numpy as np\n",
    "from sksurv.metrics import concordance_index_censored\n",
    "\n",
    "from api.coxkan import *\n",
    "from api.auton import datasets, preprocessing"
   ],
   "metadata": {
    "collapsed": false,
    "ExecuteTime": {
     "end_time": "2024-07-05T07:55:31.316273Z",
     "start_time": "2024-07-05T07:55:23.743713Z"
    }
   },
   "id": "bbbdeb5956efa3a6",
   "execution_count": 1
  },
  {
   "cell_type": "code",
   "outputs": [
    {
     "data": {
      "text/plain": "          ds  is_td      n  n_fac  n_ohe  n_num\n0     hdfail  False  52422      5     87      1\n1     stagec  False    146      4     15      3\n2    veteran  False    137      3      5      3\n3        vdv  False     78      0      0   4705\n4   AML_Bull  False    116      0      0   6283\n..       ...    ...    ...    ...    ...    ...\n71  prostate  False    502      6     16      9\n72   flchain  False   7874      4     26      6\n73     grace  False   1000      2      2      3\n74   gse3143  False    158      1      3   8660\n75    scania  False   1931      4      7      1\n\n[76 rows x 6 columns]",
      "text/html": "<div>\n<style scoped>\n    .dataframe tbody tr th:only-of-type {\n        vertical-align: middle;\n    }\n\n    .dataframe tbody tr th {\n        vertical-align: top;\n    }\n\n    .dataframe thead th {\n        text-align: right;\n    }\n</style>\n<table border=\"1\" class=\"dataframe\">\n  <thead>\n    <tr style=\"text-align: right;\">\n      <th></th>\n      <th>ds</th>\n      <th>is_td</th>\n      <th>n</th>\n      <th>n_fac</th>\n      <th>n_ohe</th>\n      <th>n_num</th>\n    </tr>\n  </thead>\n  <tbody>\n    <tr>\n      <th>0</th>\n      <td>hdfail</td>\n      <td>False</td>\n      <td>52422</td>\n      <td>5</td>\n      <td>87</td>\n      <td>1</td>\n    </tr>\n    <tr>\n      <th>1</th>\n      <td>stagec</td>\n      <td>False</td>\n      <td>146</td>\n      <td>4</td>\n      <td>15</td>\n      <td>3</td>\n    </tr>\n    <tr>\n      <th>2</th>\n      <td>veteran</td>\n      <td>False</td>\n      <td>137</td>\n      <td>3</td>\n      <td>5</td>\n      <td>3</td>\n    </tr>\n    <tr>\n      <th>3</th>\n      <td>vdv</td>\n      <td>False</td>\n      <td>78</td>\n      <td>0</td>\n      <td>0</td>\n      <td>4705</td>\n    </tr>\n    <tr>\n      <th>4</th>\n      <td>AML_Bull</td>\n      <td>False</td>\n      <td>116</td>\n      <td>0</td>\n      <td>0</td>\n      <td>6283</td>\n    </tr>\n    <tr>\n      <th>...</th>\n      <td>...</td>\n      <td>...</td>\n      <td>...</td>\n      <td>...</td>\n      <td>...</td>\n      <td>...</td>\n    </tr>\n    <tr>\n      <th>71</th>\n      <td>prostate</td>\n      <td>False</td>\n      <td>502</td>\n      <td>6</td>\n      <td>16</td>\n      <td>9</td>\n    </tr>\n    <tr>\n      <th>72</th>\n      <td>flchain</td>\n      <td>False</td>\n      <td>7874</td>\n      <td>4</td>\n      <td>26</td>\n      <td>6</td>\n    </tr>\n    <tr>\n      <th>73</th>\n      <td>grace</td>\n      <td>False</td>\n      <td>1000</td>\n      <td>2</td>\n      <td>2</td>\n      <td>3</td>\n    </tr>\n    <tr>\n      <th>74</th>\n      <td>gse3143</td>\n      <td>False</td>\n      <td>158</td>\n      <td>1</td>\n      <td>3</td>\n      <td>8660</td>\n    </tr>\n    <tr>\n      <th>75</th>\n      <td>scania</td>\n      <td>False</td>\n      <td>1931</td>\n      <td>4</td>\n      <td>7</td>\n      <td>1</td>\n    </tr>\n  </tbody>\n</table>\n<p>76 rows × 6 columns</p>\n</div>"
     },
     "execution_count": 2,
     "metadata": {},
     "output_type": "execute_result"
    }
   ],
   "source": [
    "from api.survset.data import SurvLoader\n",
    "\n",
    "loader = SurvLoader()\n",
    "# List of available datasets and meta-info\n",
    "loader.df_ds"
   ],
   "metadata": {
    "collapsed": false,
    "ExecuteTime": {
     "end_time": "2024-07-05T07:55:31.345243Z",
     "start_time": "2024-07-05T07:55:31.318547Z"
    }
   },
   "id": "af834127de33e07d",
   "execution_count": 2
  },
  {
   "cell_type": "code",
   "outputs": [
    {
     "data": {
      "text/plain": "     pid  event  time  num_age  num_tsize  num_pnodes  num_progrec  \\\n0      0      1  1814       70         21           3           48   \n1      1      1  2018       56         12           7           61   \n2      2      1   712       58         35           9           52   \n3      3      1  1807       59         17           4           60   \n4      4      1   772       73         35           1           26   \n..   ...    ...   ...      ...        ...         ...          ...   \n681  681      0   721       49         30           3            1   \n682  682      0   186       53         25          17            0   \n683  683      1   769       51         25           5           43   \n684  684      1   727       52         23           3           15   \n685  685      1  1701       55         23           9          116   \n\n     num_estrec fac_horTh fac_menostat fac_tgrade  \n0            66        no         Post         II  \n1            77       yes         Post         II  \n2           271       yes         Post         II  \n3            29       yes         Post         II  \n4            65        no         Post         II  \n..          ...       ...          ...        ...  \n681          84        no          Pre        III  \n682           0       yes         Post        III  \n683           0        no          Pre        III  \n684          34        no         Post         II  \n685          15        no         Post         II  \n\n[686 rows x 11 columns]",
      "text/html": "<div>\n<style scoped>\n    .dataframe tbody tr th:only-of-type {\n        vertical-align: middle;\n    }\n\n    .dataframe tbody tr th {\n        vertical-align: top;\n    }\n\n    .dataframe thead th {\n        text-align: right;\n    }\n</style>\n<table border=\"1\" class=\"dataframe\">\n  <thead>\n    <tr style=\"text-align: right;\">\n      <th></th>\n      <th>pid</th>\n      <th>event</th>\n      <th>time</th>\n      <th>num_age</th>\n      <th>num_tsize</th>\n      <th>num_pnodes</th>\n      <th>num_progrec</th>\n      <th>num_estrec</th>\n      <th>fac_horTh</th>\n      <th>fac_menostat</th>\n      <th>fac_tgrade</th>\n    </tr>\n  </thead>\n  <tbody>\n    <tr>\n      <th>0</th>\n      <td>0</td>\n      <td>1</td>\n      <td>1814</td>\n      <td>70</td>\n      <td>21</td>\n      <td>3</td>\n      <td>48</td>\n      <td>66</td>\n      <td>no</td>\n      <td>Post</td>\n      <td>II</td>\n    </tr>\n    <tr>\n      <th>1</th>\n      <td>1</td>\n      <td>1</td>\n      <td>2018</td>\n      <td>56</td>\n      <td>12</td>\n      <td>7</td>\n      <td>61</td>\n      <td>77</td>\n      <td>yes</td>\n      <td>Post</td>\n      <td>II</td>\n    </tr>\n    <tr>\n      <th>2</th>\n      <td>2</td>\n      <td>1</td>\n      <td>712</td>\n      <td>58</td>\n      <td>35</td>\n      <td>9</td>\n      <td>52</td>\n      <td>271</td>\n      <td>yes</td>\n      <td>Post</td>\n      <td>II</td>\n    </tr>\n    <tr>\n      <th>3</th>\n      <td>3</td>\n      <td>1</td>\n      <td>1807</td>\n      <td>59</td>\n      <td>17</td>\n      <td>4</td>\n      <td>60</td>\n      <td>29</td>\n      <td>yes</td>\n      <td>Post</td>\n      <td>II</td>\n    </tr>\n    <tr>\n      <th>4</th>\n      <td>4</td>\n      <td>1</td>\n      <td>772</td>\n      <td>73</td>\n      <td>35</td>\n      <td>1</td>\n      <td>26</td>\n      <td>65</td>\n      <td>no</td>\n      <td>Post</td>\n      <td>II</td>\n    </tr>\n    <tr>\n      <th>...</th>\n      <td>...</td>\n      <td>...</td>\n      <td>...</td>\n      <td>...</td>\n      <td>...</td>\n      <td>...</td>\n      <td>...</td>\n      <td>...</td>\n      <td>...</td>\n      <td>...</td>\n      <td>...</td>\n    </tr>\n    <tr>\n      <th>681</th>\n      <td>681</td>\n      <td>0</td>\n      <td>721</td>\n      <td>49</td>\n      <td>30</td>\n      <td>3</td>\n      <td>1</td>\n      <td>84</td>\n      <td>no</td>\n      <td>Pre</td>\n      <td>III</td>\n    </tr>\n    <tr>\n      <th>682</th>\n      <td>682</td>\n      <td>0</td>\n      <td>186</td>\n      <td>53</td>\n      <td>25</td>\n      <td>17</td>\n      <td>0</td>\n      <td>0</td>\n      <td>yes</td>\n      <td>Post</td>\n      <td>III</td>\n    </tr>\n    <tr>\n      <th>683</th>\n      <td>683</td>\n      <td>1</td>\n      <td>769</td>\n      <td>51</td>\n      <td>25</td>\n      <td>5</td>\n      <td>43</td>\n      <td>0</td>\n      <td>no</td>\n      <td>Pre</td>\n      <td>III</td>\n    </tr>\n    <tr>\n      <th>684</th>\n      <td>684</td>\n      <td>1</td>\n      <td>727</td>\n      <td>52</td>\n      <td>23</td>\n      <td>3</td>\n      <td>15</td>\n      <td>34</td>\n      <td>no</td>\n      <td>Post</td>\n      <td>II</td>\n    </tr>\n    <tr>\n      <th>685</th>\n      <td>685</td>\n      <td>1</td>\n      <td>1701</td>\n      <td>55</td>\n      <td>23</td>\n      <td>9</td>\n      <td>116</td>\n      <td>15</td>\n      <td>no</td>\n      <td>Post</td>\n      <td>II</td>\n    </tr>\n  </tbody>\n</table>\n<p>686 rows × 11 columns</p>\n</div>"
     },
     "execution_count": 3,
     "metadata": {},
     "output_type": "execute_result"
    }
   ],
   "source": [
    "# Load dataset and its reference\n",
    "df, ref = loader.load_dataset(ds_name='GBSG2').values()\n",
    "# support2, \n",
    "df"
   ],
   "metadata": {
    "collapsed": false,
    "ExecuteTime": {
     "end_time": "2024-07-05T07:55:31.366869Z",
     "start_time": "2024-07-05T07:55:31.346940Z"
    }
   },
   "id": "1b67c4f668a7acb8",
   "execution_count": 3
  },
  {
   "cell_type": "code",
   "outputs": [],
   "source": [
    "cat_feats, num_feats = [], []\n",
    "for i in df.columns:\n",
    "    if i.split('_')[0] == 'num':\n",
    "        num_feats.append(i)\n",
    "    if i.split('_')[0] == 'fac':\n",
    "        cat_feats.append(i)"
   ],
   "metadata": {
    "collapsed": false,
    "ExecuteTime": {
     "end_time": "2024-07-05T07:55:31.375330Z",
     "start_time": "2024-07-05T07:55:31.371078Z"
    }
   },
   "id": "56141907766d4a3",
   "execution_count": 4
  },
  {
   "cell_type": "code",
   "outputs": [
    {
     "data": {
      "text/plain": "      num_age  num_tsize  num_pnodes  num_progrec  num_estrec  fac_horTh_yes  \\\n0    1.675756  -0.583058   -0.367396    -0.306630   -0.197762              0   \n1    0.291448  -1.213055    0.363666    -0.242332   -0.125854              1   \n2    0.489207   0.396937    0.729197    -0.286846    1.142349              1   \n3    0.588086  -0.863056   -0.184630    -0.247278   -0.439636              1   \n4    1.972393   0.396937   -0.732927    -0.415441   -0.204300              0   \n..        ...        ...         ...          ...         ...            ...   \n681 -0.400705   0.046939   -0.367396    -0.539091   -0.080094              0   \n682 -0.005189  -0.303060    2.191322    -0.544037   -0.629213              1   \n683 -0.202947  -0.303060   -0.001865    -0.331360   -0.629213              0   \n684 -0.104068  -0.443059   -0.367396    -0.469847   -0.406951              0   \n685  0.192569  -0.443059    0.729197     0.029698   -0.531156              0   \n\n     fac_menostat_Pre  fac_tgrade_II  fac_tgrade_III  \n0                   0              1               0  \n1                   0              1               0  \n2                   0              1               0  \n3                   0              1               0  \n4                   0              1               0  \n..                ...            ...             ...  \n681                 1              0               1  \n682                 0              0               1  \n683                 1              0               1  \n684                 0              1               0  \n685                 0              1               0  \n\n[686 rows x 9 columns]",
      "text/html": "<div>\n<style scoped>\n    .dataframe tbody tr th:only-of-type {\n        vertical-align: middle;\n    }\n\n    .dataframe tbody tr th {\n        vertical-align: top;\n    }\n\n    .dataframe thead th {\n        text-align: right;\n    }\n</style>\n<table border=\"1\" class=\"dataframe\">\n  <thead>\n    <tr style=\"text-align: right;\">\n      <th></th>\n      <th>num_age</th>\n      <th>num_tsize</th>\n      <th>num_pnodes</th>\n      <th>num_progrec</th>\n      <th>num_estrec</th>\n      <th>fac_horTh_yes</th>\n      <th>fac_menostat_Pre</th>\n      <th>fac_tgrade_II</th>\n      <th>fac_tgrade_III</th>\n    </tr>\n  </thead>\n  <tbody>\n    <tr>\n      <th>0</th>\n      <td>1.675756</td>\n      <td>-0.583058</td>\n      <td>-0.367396</td>\n      <td>-0.306630</td>\n      <td>-0.197762</td>\n      <td>0</td>\n      <td>0</td>\n      <td>1</td>\n      <td>0</td>\n    </tr>\n    <tr>\n      <th>1</th>\n      <td>0.291448</td>\n      <td>-1.213055</td>\n      <td>0.363666</td>\n      <td>-0.242332</td>\n      <td>-0.125854</td>\n      <td>1</td>\n      <td>0</td>\n      <td>1</td>\n      <td>0</td>\n    </tr>\n    <tr>\n      <th>2</th>\n      <td>0.489207</td>\n      <td>0.396937</td>\n      <td>0.729197</td>\n      <td>-0.286846</td>\n      <td>1.142349</td>\n      <td>1</td>\n      <td>0</td>\n      <td>1</td>\n      <td>0</td>\n    </tr>\n    <tr>\n      <th>3</th>\n      <td>0.588086</td>\n      <td>-0.863056</td>\n      <td>-0.184630</td>\n      <td>-0.247278</td>\n      <td>-0.439636</td>\n      <td>1</td>\n      <td>0</td>\n      <td>1</td>\n      <td>0</td>\n    </tr>\n    <tr>\n      <th>4</th>\n      <td>1.972393</td>\n      <td>0.396937</td>\n      <td>-0.732927</td>\n      <td>-0.415441</td>\n      <td>-0.204300</td>\n      <td>0</td>\n      <td>0</td>\n      <td>1</td>\n      <td>0</td>\n    </tr>\n    <tr>\n      <th>...</th>\n      <td>...</td>\n      <td>...</td>\n      <td>...</td>\n      <td>...</td>\n      <td>...</td>\n      <td>...</td>\n      <td>...</td>\n      <td>...</td>\n      <td>...</td>\n    </tr>\n    <tr>\n      <th>681</th>\n      <td>-0.400705</td>\n      <td>0.046939</td>\n      <td>-0.367396</td>\n      <td>-0.539091</td>\n      <td>-0.080094</td>\n      <td>0</td>\n      <td>1</td>\n      <td>0</td>\n      <td>1</td>\n    </tr>\n    <tr>\n      <th>682</th>\n      <td>-0.005189</td>\n      <td>-0.303060</td>\n      <td>2.191322</td>\n      <td>-0.544037</td>\n      <td>-0.629213</td>\n      <td>1</td>\n      <td>0</td>\n      <td>0</td>\n      <td>1</td>\n    </tr>\n    <tr>\n      <th>683</th>\n      <td>-0.202947</td>\n      <td>-0.303060</td>\n      <td>-0.001865</td>\n      <td>-0.331360</td>\n      <td>-0.629213</td>\n      <td>0</td>\n      <td>1</td>\n      <td>0</td>\n      <td>1</td>\n    </tr>\n    <tr>\n      <th>684</th>\n      <td>-0.104068</td>\n      <td>-0.443059</td>\n      <td>-0.367396</td>\n      <td>-0.469847</td>\n      <td>-0.406951</td>\n      <td>0</td>\n      <td>0</td>\n      <td>1</td>\n      <td>0</td>\n    </tr>\n    <tr>\n      <th>685</th>\n      <td>0.192569</td>\n      <td>-0.443059</td>\n      <td>0.729197</td>\n      <td>0.029698</td>\n      <td>-0.531156</td>\n      <td>0</td>\n      <td>0</td>\n      <td>1</td>\n      <td>0</td>\n    </tr>\n  </tbody>\n</table>\n<p>686 rows × 9 columns</p>\n</div>"
     },
     "execution_count": 5,
     "metadata": {},
     "output_type": "execute_result"
    }
   ],
   "source": [
    "features = preprocessing.Preprocessor().fit_transform(\n",
    "    df[num_feats + cat_feats], cat_feats=cat_feats, num_feats=num_feats)\n",
    "features"
   ],
   "metadata": {
    "collapsed": false,
    "ExecuteTime": {
     "end_time": "2024-07-05T07:55:31.416135Z",
     "start_time": "2024-07-05T07:55:31.377429Z"
    }
   },
   "id": "4340bc0acf438eaa",
   "execution_count": 5
  },
  {
   "cell_type": "code",
   "outputs": [
    {
     "data": {
      "text/plain": "array([[ 1.67575586, -0.58305801, -0.36739603, ...,  0.        ,\n         1.        ,  0.        ],\n       [ 0.29144834, -1.21305453,  0.36366612, ...,  0.        ,\n         1.        ,  0.        ],\n       [ 0.48920655,  0.39693659,  0.7291972 , ...,  0.        ,\n         1.        ,  0.        ],\n       ...,\n       [-0.20294721, -0.30305955, -0.00186495, ...,  1.        ,\n         0.        ,  1.        ],\n       [-0.1040681 , -0.44305878, -0.36739603, ...,  0.        ,\n         1.        ,  0.        ],\n       [ 0.19256923, -0.44305878,  0.7291972 , ...,  0.        ,\n         1.        ,  0.        ]])"
     },
     "execution_count": 6,
     "metadata": {},
     "output_type": "execute_result"
    }
   ],
   "source": [
    "x, t, e = features.values, df.time.values, df.event.values\n",
    "# x = x[:,:10]\n",
    "x"
   ],
   "metadata": {
    "collapsed": false,
    "ExecuteTime": {
     "end_time": "2024-07-05T07:55:31.427706Z",
     "start_time": "2024-07-05T07:55:31.417989Z"
    }
   },
   "id": "1819d8c5b43e7f21",
   "execution_count": 6
  },
  {
   "cell_type": "code",
   "outputs": [],
   "source": [
    "# horizons = [0.25, 0.5, 0.75]\n",
    "# times = np.quantile(outcomes.time[outcomes.event==1], horizons).tolist()\n",
    "# times"
   ],
   "metadata": {
    "collapsed": false,
    "ExecuteTime": {
     "end_time": "2024-07-05T07:55:31.435502Z",
     "start_time": "2024-07-05T07:55:31.430684Z"
    }
   },
   "id": "9b9e4531074c740",
   "execution_count": 7
  },
  {
   "cell_type": "code",
   "outputs": [],
   "source": [
    "n = len(x)\n",
    "\n",
    "tr_size = int(n * 0.70)\n",
    "vl_size = int(n * 0.10)\n",
    "te_size = int(n * 0.20)\n",
    "\n",
    "x_train, x_test, x_val = x[:tr_size], x[-te_size:], x[tr_size:tr_size+vl_size]\n",
    "t_train, t_test, t_val = t[:tr_size], t[-te_size:], t[tr_size:tr_size+vl_size]\n",
    "e_train, e_test, e_val = e[:tr_size], e[-te_size:], e[tr_size:tr_size+vl_size]"
   ],
   "metadata": {
    "collapsed": false,
    "ExecuteTime": {
     "end_time": "2024-07-05T07:55:31.442548Z",
     "start_time": "2024-07-05T07:55:31.437203Z"
    }
   },
   "id": "5a38f933f1213bec",
   "execution_count": 8
  },
  {
   "cell_type": "markdown",
   "id": "adcb5f75",
   "metadata": {},
   "source": [
    "### Get started with KANs"
   ]
  },
  {
   "cell_type": "markdown",
   "id": "2571d531",
   "metadata": {},
   "source": [
    "Initialize KAN"
   ]
  },
  {
   "cell_type": "code",
   "execution_count": 9,
   "id": "2075ef56",
   "metadata": {
    "ExecuteTime": {
     "end_time": "2024-07-05T07:55:31.462307Z",
     "start_time": "2024-07-05T07:55:31.444271Z"
    }
   },
   "outputs": [],
   "source": [
    "# create a KAN: 2D inputs, 1D output, and 5 hidden neurons. cubic spline (k=3), 5 grid intervals (grid=5).\n",
    "model = CoxKAN(width=[x_train.shape[1], 1], grid=5, k=3, seed=0)\n",
    "# model = KAN(width=[2,1,1], grid=5, k=3, seed=0)\n",
    "optimizer = 'LBFGS'"
   ]
  },
  {
   "cell_type": "markdown",
   "id": "3d72e076",
   "metadata": {},
   "source": [
    "Create dataset"
   ]
  },
  {
   "cell_type": "code",
   "outputs": [],
   "source": [
    "device='cpu'\n",
    "dataset = {\n",
    "    'train_input': torch.from_numpy(x_train).to(device), \n",
    "    'val_input': torch.from_numpy(x_val).to(device),\n",
    "    'test_input': torch.from_numpy(x_test).to(device),\n",
    "    'train_time': torch.from_numpy(t_train).to(device), \n",
    "    'val_time': torch.from_numpy(t_val).to(device),\n",
    "    'test_time': torch.from_numpy(t_test).to(device),\n",
    "    'train_event': torch.from_numpy(e_train).to(device),\n",
    "    'val_event': torch.from_numpy(e_val).to(device),\n",
    "    'test_event': torch.from_numpy(e_test).to(device)}"
   ],
   "metadata": {
    "collapsed": false,
    "ExecuteTime": {
     "end_time": "2024-07-05T07:55:31.473589Z",
     "start_time": "2024-07-05T07:55:31.468552Z"
    }
   },
   "id": "28f6be68eabf5944",
   "execution_count": 10
  },
  {
   "cell_type": "markdown",
   "id": "8c6add1d",
   "metadata": {},
   "source": [
    "Plot KAN at initialization"
   ]
  },
  {
   "cell_type": "code",
   "outputs": [
    {
     "name": "stdout",
     "output_type": "stream",
     "text": [
      "torch.Size([480, 9])\n",
      "torch.Size([68, 9])\n",
      "torch.Size([137, 9])\n"
     ]
    }
   ],
   "source": [
    "print(dataset['train_input'].shape)\n",
    "print(dataset['val_input'].shape)\n",
    "print(dataset['test_input'].shape)"
   ],
   "metadata": {
    "collapsed": false,
    "ExecuteTime": {
     "end_time": "2024-07-05T07:55:31.480301Z",
     "start_time": "2024-07-05T07:55:31.475678Z"
    }
   },
   "id": "a37f78b79a6145d1",
   "execution_count": 11
  },
  {
   "cell_type": "code",
   "outputs": [
    {
     "data": {
      "text/plain": "<Figure size 1500x600 with 10 Axes>",
      "image/png": "[encoded data removed]"
     },
     "metadata": {},
     "output_type": "display_data"
    }
   ],
   "source": [
    "# plot KAN at initialization\n",
    "model(dataset['train_input'])\n",
    "model.plot(beta=100, scale=1.5)"
   ],
   "metadata": {
    "collapsed": false,
    "ExecuteTime": {
     "end_time": "2024-07-05T07:55:33.770626Z",
     "start_time": "2024-07-05T07:55:31.482394Z"
    }
   },
   "id": "ac76f858",
   "execution_count": 12
  },
  {
   "cell_type": "markdown",
   "id": "ddf67e30",
   "metadata": {},
   "source": [
    "Train KAN with sparsity regularization"
   ]
  },
  {
   "cell_type": "code",
   "execution_count": 13,
   "id": "97111d75",
   "metadata": {
    "ExecuteTime": {
     "end_time": "2024-07-05T07:55:37.458795Z",
     "start_time": "2024-07-05T07:55:33.772336Z"
    }
   },
   "outputs": [
    {
     "name": "stderr",
     "output_type": "stream",
     "text": [
      "train loss: 3.42e+01 | validation loss: 1.09e+01 | reg: 2.89e+01 : 100%|█| 20/20 [00:03<00:00,  5.52"
     ]
    },
    {
     "name": "stdout",
     "output_type": "stream",
     "text": [
      "[[ 9.41701223e-02]\n",
      " [ 1.79257906e-01]\n",
      " [ 6.10257436e-01]\n",
      " [ 1.01774888e-01]\n",
      " [ 6.06589569e-01]\n",
      " [ 2.24092271e+00]\n",
      " [-7.92964075e-01]\n",
      " [-6.73924773e-01]\n",
      " [ 2.94351392e+00]\n",
      " [ 5.05038161e-01]\n",
      " [ 4.94453333e-01]\n",
      " [ 7.93016916e-01]\n",
      " [-2.56232307e-01]\n",
      " [-2.99601546e-01]\n",
      " [-4.61174680e-01]\n",
      " [-5.88193069e-02]\n",
      " [-3.25267680e-01]\n",
      " [-8.83849735e-01]\n",
      " [-1.35389776e+00]\n",
      " [-6.17228356e-01]\n",
      " [ 3.25481715e-01]\n",
      " [-4.61219046e-01]\n",
      " [ 8.26702731e-02]\n",
      " [-6.66296124e-01]\n",
      " [ 1.52356132e+00]\n",
      " [-1.09545236e+00]\n",
      " [ 2.85450836e-01]\n",
      " [-7.17324721e-02]\n",
      " [-2.41072111e-01]\n",
      " [ 1.07572719e+00]\n",
      " [-4.31515116e-01]\n",
      " [ 4.46854545e-01]\n",
      " [-3.30841424e+00]\n",
      " [-1.80475459e-01]\n",
      " [ 5.85396576e-01]\n",
      " [ 1.94456911e-01]\n",
      " [ 1.52802593e+00]\n",
      " [ 3.74476307e-01]\n",
      " [ 2.08418376e-01]\n",
      " [-8.22654869e-01]\n",
      " [ 4.13070387e-01]\n",
      " [-9.73009530e-01]\n",
      " [ 4.13926645e-01]\n",
      " [-4.17884520e-01]\n",
      " [-3.52213865e-01]\n",
      " [-1.43535683e-02]\n",
      " [-3.57106337e-02]\n",
      " [ 1.75052653e+00]\n",
      " [-5.34040141e-01]\n",
      " [ 1.30098543e+00]\n",
      " [-9.37010509e-02]\n",
      " [-5.73939192e-01]\n",
      " [-5.57198451e-01]\n",
      " [-2.05508205e-01]\n",
      " [ 1.67555591e-01]\n",
      " [ 3.34426241e-01]\n",
      " [ 7.97731012e-01]\n",
      " [-1.80930269e+00]\n",
      " [ 1.38704315e+00]\n",
      " [ 3.68051019e-01]\n",
      " [ 1.67470359e+00]\n",
      " [ 2.44999764e-01]\n",
      " [ 2.80576949e-01]\n",
      " [ 7.85583638e-01]\n",
      " [-1.62955954e-01]\n",
      " [-8.75687229e-01]\n",
      " [ 3.04059588e-02]\n",
      " [ 1.22223529e+00]\n",
      " [ 2.02104003e+00]\n",
      " [-1.80810570e-01]\n",
      " [-1.16842163e+00]\n",
      " [-3.36825348e-01]\n",
      " [ 4.21300075e-01]\n",
      " [ 1.60807113e+00]\n",
      " [ 1.29970460e+00]\n",
      " [ 1.17349289e+00]\n",
      " [-4.38777371e-01]\n",
      " [-1.51103770e-01]\n",
      " [ 5.14955675e-01]\n",
      " [-8.94792024e-02]\n",
      " [ 7.25430899e-01]\n",
      " [-8.69914600e-02]\n",
      " [ 1.90926680e-01]\n",
      " [-1.30382417e+00]\n",
      " [-9.40507386e-01]\n",
      " [ 1.46230594e-01]\n",
      " [-3.60521959e-01]\n",
      " [ 4.88176504e-01]\n",
      " [ 1.61533929e+00]\n",
      " [ 2.94928996e-03]\n",
      " [ 1.00931078e+00]\n",
      " [-3.76386550e-01]\n",
      " [-1.43225104e+00]\n",
      " [ 3.38449546e-01]\n",
      " [-5.93967838e-01]\n",
      " [-9.16089808e-01]\n",
      " [ 1.88255043e+00]\n",
      " [ 1.67336655e-02]\n",
      " [-5.12309929e-01]\n",
      " [-7.05211103e-01]\n",
      " [ 1.78217269e+00]\n",
      " [-6.82655987e-02]\n",
      " [-7.38053539e-01]\n",
      " [ 6.99141741e-02]\n",
      " [ 7.35722825e-01]\n",
      " [ 7.63349320e-01]\n",
      " [-1.53687721e+00]\n",
      " [ 1.15916891e+00]\n",
      " [ 5.59674645e-02]\n",
      " [ 5.92953991e-02]\n",
      " [-8.09205590e-01]\n",
      " [-4.17823360e-01]\n",
      " [ 1.04692949e+00]\n",
      " [-7.95887832e-01]\n",
      " [ 6.45420894e-01]\n",
      " [-9.23499342e-01]\n",
      " [-7.85142317e-01]\n",
      " [ 4.75391212e-02]\n",
      " [ 4.19354142e-01]\n",
      " [ 8.72275880e-01]\n",
      " [-4.19406585e-01]\n",
      " [-2.88648772e-01]\n",
      " [-2.90011280e-02]\n",
      " [ 1.62777674e-01]\n",
      " [ 1.97647968e-01]\n",
      " [ 1.52343459e-02]\n",
      " [ 7.43276623e-01]\n",
      " [ 8.39767836e-01]\n",
      " [ 1.54561656e-01]\n",
      " [-2.88401706e-01]\n",
      " [ 1.93502784e-01]\n",
      " [-2.99736838e-01]\n",
      " [-4.41924288e-01]\n",
      " [ 4.23744570e-01]\n",
      " [ 2.24933046e-01]\n",
      " [-1.11566504e-01]\n",
      " [-5.44994656e-01]\n",
      " [-1.13816855e+00]\n",
      " [-4.01265750e-01]\n",
      " [-3.71921665e+00]\n",
      " [ 8.59163643e-01]\n",
      " [ 4.33159754e-01]\n",
      " [-2.92904725e+00]\n",
      " [-1.08291625e+00]\n",
      " [ 1.64363254e+00]\n",
      " [ 1.10057313e+00]\n",
      " [-1.08360092e+00]\n",
      " [-2.35315878e-01]\n",
      " [ 1.26161679e-01]\n",
      " [-1.25133408e+00]\n",
      " [-7.37586698e-02]\n",
      " [-9.10249575e-01]\n",
      " [-1.04118871e+00]\n",
      " [ 7.67494312e-01]\n",
      " [-6.23364219e-01]\n",
      " [ 2.02920168e-01]\n",
      " [-4.61456640e-03]\n",
      " [ 1.62539436e+00]\n",
      " [ 7.23968030e-01]\n",
      " [ 1.05819874e+00]\n",
      " [ 4.11661666e-02]\n",
      " [-6.28982894e-01]\n",
      " [ 6.94548202e-01]\n",
      " [ 1.16788206e+00]\n",
      " [-8.63503051e-01]\n",
      " [ 1.21891621e+00]\n",
      " [ 6.78251571e-01]\n",
      " [ 1.84003454e-01]\n",
      " [ 5.23838076e-01]\n",
      " [ 8.98075328e-01]\n",
      " [ 1.07710865e+00]\n",
      " [ 2.23612209e+00]\n",
      " [ 1.45409883e-01]\n",
      " [-1.40199364e-01]\n",
      " [-1.45993964e+00]\n",
      " [-4.34116468e-01]\n",
      " [-3.52431577e-01]\n",
      " [-2.18456425e+00]\n",
      " [ 8.88338750e-01]\n",
      " [-1.13827136e+00]\n",
      " [-6.33003979e-02]\n",
      " [-2.60842793e-01]\n",
      " [-1.14663223e+00]\n",
      " [-6.49235521e-01]\n",
      " [-2.45317410e-01]\n",
      " [ 9.33192138e-02]\n",
      " [ 6.61753536e-01]\n",
      " [-4.04678801e-01]\n",
      " [ 3.55030100e-01]\n",
      " [ 6.42707075e-01]\n",
      " [-2.36427355e-01]\n",
      " [ 4.28283510e-01]\n",
      " [ 5.75776559e-01]\n",
      " [-5.88723415e-01]\n",
      " [ 8.44047489e-01]\n",
      " [-1.65781558e+00]\n",
      " [ 4.14363297e-01]\n",
      " [-2.25373349e-01]\n",
      " [ 1.02349864e+00]\n",
      " [ 6.85203243e-01]\n",
      " [-1.56061910e-01]\n",
      " [-1.03581319e+00]\n",
      " [-5.48472886e-01]\n",
      " [ 2.81180243e-01]\n",
      " [-3.90961529e-01]\n",
      " [-8.96382835e-02]\n",
      " [ 8.66198418e-01]\n",
      " [-5.41030462e-01]\n",
      " [-6.43846710e-01]\n",
      " [ 3.35289874e+00]\n",
      " [-1.66748874e+00]\n",
      " [-1.71562221e+00]\n",
      " [-6.73905241e-01]\n",
      " [ 6.25555704e-01]\n",
      " [ 6.96075362e-02]\n",
      " [-1.21433974e+00]\n",
      " [-1.88226011e-01]\n",
      " [ 6.32560895e-01]\n",
      " [ 5.75656937e-01]\n",
      " [-4.48316717e-01]\n",
      " [-4.46795686e-01]\n",
      " [-2.47439278e-01]\n",
      " [-1.18849520e+00]\n",
      " [ 5.59983545e-03]\n",
      " [-7.38312384e-01]\n",
      " [-1.11751087e+00]\n",
      " [ 2.11970769e+00]\n",
      " [ 1.14045070e+00]\n",
      " [ 4.93718515e-01]\n",
      " [-4.58229223e-01]\n",
      " [-5.01246497e-01]\n",
      " [-5.09401060e-01]\n",
      " [-6.23881855e-01]\n",
      " [ 1.00552129e+00]\n",
      " [ 1.33231625e-01]\n",
      " [-2.13425726e-01]\n",
      " [ 1.62949635e+00]\n",
      " [ 1.52379099e+00]\n",
      " [ 1.27445405e-01]\n",
      " [-9.41265613e-01]\n",
      " [ 5.19868759e-02]\n",
      " [-9.55134853e-02]\n",
      " [-5.52835062e-01]\n",
      " [ 6.82246883e-01]\n",
      " [-1.44580236e+00]\n",
      " [-1.03342314e-02]\n",
      " [ 9.73023266e-01]\n",
      " [ 7.88674596e-01]\n",
      " [ 4.42791939e-02]\n",
      " [-2.21902303e-01]\n",
      " [-2.15460618e-01]\n",
      " [-8.58277003e-02]\n",
      " [-9.21279004e-01]\n",
      " [ 9.27440691e-01]\n",
      " [-3.90256060e-01]\n",
      " [-1.95560263e-01]\n",
      " [ 8.47561257e-01]\n",
      " [-7.12923684e-01]\n",
      " [ 5.59659957e-02]\n",
      " [ 2.41535772e-01]\n",
      " [ 2.05034341e-01]\n",
      " [ 1.04157802e+00]\n",
      " [-2.71249242e-01]\n",
      " [ 9.62974713e-01]\n",
      " [-2.89301396e-01]\n",
      " [-7.40421202e-01]\n",
      " [ 6.43275978e-01]\n",
      " [ 9.53928725e-01]\n",
      " [ 5.08978561e-01]\n",
      " [-2.68578746e-01]\n",
      " [-7.75956654e-01]\n",
      " [-1.04070117e+00]\n",
      " [-4.39958268e-03]\n",
      " [-7.15467268e-01]\n",
      " [ 3.50996616e-01]\n",
      " [ 6.20783522e-01]\n",
      " [ 2.44303187e-01]\n",
      " [-1.58819686e+00]\n",
      " [-3.38981694e-01]\n",
      " [ 1.15020383e-01]\n",
      " [-5.66201455e-01]\n",
      " [ 8.15196821e-02]\n",
      " [ 3.20895738e-01]\n",
      " [ 1.10391203e+00]\n",
      " [-9.57458325e-01]\n",
      " [-1.79600818e+00]\n",
      " [-4.44195672e-01]\n",
      " [-2.54191549e-01]\n",
      " [-9.04860753e-01]\n",
      " [-4.57672106e-01]\n",
      " [-9.51865700e-01]\n",
      " [-1.33252628e-01]\n",
      " [-1.42408047e+00]\n",
      " [-8.83291384e-01]\n",
      " [-1.38198620e+00]\n",
      " [ 1.93874989e+00]\n",
      " [ 1.57837026e-01]\n",
      " [-1.18696266e+00]\n",
      " [-1.47314996e-02]\n",
      " [-4.51650016e-01]\n",
      " [ 1.02051047e+00]\n",
      " [ 9.04628953e-02]\n",
      " [-1.97431048e-01]\n",
      " [-1.00369359e+00]\n",
      " [ 1.21081848e+00]\n",
      " [ 9.74377596e-02]\n",
      " [-1.07109391e+00]\n",
      " [-1.25564262e-01]\n",
      " [ 1.85431797e+00]\n",
      " [ 4.10289732e-01]\n",
      " [-1.20196591e+00]\n",
      " [-1.09013238e+00]\n",
      " [ 9.16104584e-01]\n",
      " [ 4.99296066e-01]\n",
      " [-6.85869651e-01]\n",
      " [-4.71017809e-01]\n",
      " [-1.23184108e+00]\n",
      " [ 7.68919595e-01]\n",
      " [-2.59994699e+00]\n",
      " [ 3.48588203e-01]\n",
      " [ 2.76648764e-01]\n",
      " [ 2.17709612e-01]\n",
      " [-7.28906138e-01]\n",
      " [-2.28101937e-01]\n",
      " [ 1.84595201e-01]\n",
      " [ 5.06753360e-01]\n",
      " [ 5.22496235e-01]\n",
      " [-3.18355736e-01]\n",
      " [-4.83385092e-02]\n",
      " [-9.34949966e-02]\n",
      " [ 3.40282050e-01]\n",
      " [-2.82092959e-02]\n",
      " [-1.60356280e+00]\n",
      " [-1.76597473e-01]\n",
      " [-1.03173576e-01]\n",
      " [ 8.06923516e-01]\n",
      " [ 3.89455281e-01]\n",
      " [-1.91604570e+00]\n",
      " [ 1.09377943e-01]\n",
      " [ 1.55891871e-02]\n",
      " [-4.40810502e-01]\n",
      " [-1.73622192e-01]\n",
      " [ 8.43271433e-01]\n",
      " [-7.36608114e-01]\n",
      " [ 4.57050995e-01]\n",
      " [ 1.01313875e+00]\n",
      " [ 3.41439367e-01]\n",
      " [-8.67037752e-02]\n",
      " [ 2.97037950e-02]\n",
      " [-3.94928306e-01]\n",
      " [ 1.48534638e+00]\n",
      " [ 3.12075689e-02]\n",
      " [ 2.90646578e-01]\n",
      " [ 6.34179134e-01]\n",
      " [-1.76905229e-01]\n",
      " [ 7.23446175e-01]\n",
      " [-1.87132108e+00]\n",
      " [-1.49182181e+00]\n",
      " [-2.42874609e-01]\n",
      " [ 3.18387213e-01]\n",
      " [ 6.33231693e-01]\n",
      " [ 2.74829990e-01]\n",
      " [-1.38516656e+00]\n",
      " [-2.00172237e-02]\n",
      " [-4.57285509e-01]\n",
      " [ 5.03652619e-01]\n",
      " [-4.45968104e-01]\n",
      " [-8.26280200e-01]\n",
      " [-5.94539332e-01]\n",
      " [-1.71724421e+00]\n",
      " [-1.83758175e-01]\n",
      " [ 5.54896261e-01]\n",
      " [ 1.33410467e+00]\n",
      " [ 3.03122076e-02]\n",
      " [-1.49142858e-01]\n",
      " [-1.30824562e+00]\n",
      " [ 5.19259552e-01]\n",
      " [ 8.40023374e-02]\n",
      " [-1.25708096e-01]\n",
      " [ 6.52633899e-01]\n",
      " [-4.13806598e-01]\n",
      " [ 1.49664708e+00]\n",
      " [-3.46798683e-01]\n",
      " [ 1.70500002e+00]\n",
      " [-1.33354660e+00]\n",
      " [-1.34852812e+00]\n",
      " [-2.40953080e-01]\n",
      " [-1.12905919e+00]\n",
      " [ 6.23909948e-01]\n",
      " [-5.94394878e-01]\n",
      " [ 5.95667649e-01]\n",
      " [ 5.39666329e-02]\n",
      " [ 2.23750393e-01]\n",
      " [-7.27066456e-01]\n",
      " [-2.13485611e-01]\n",
      " [ 9.45258649e-01]\n",
      " [-1.57299948e+00]\n",
      " [-1.50886447e+00]\n",
      " [ 7.97284478e-01]\n",
      " [ 5.40158334e-02]\n",
      " [-1.71270864e-01]\n",
      " [ 1.08289951e-01]\n",
      " [ 3.03539368e-01]\n",
      " [-2.82442419e-01]\n",
      " [-1.89874930e+00]\n",
      " [-1.18862464e-01]\n",
      " [-2.55997332e-01]\n",
      " [-9.85850330e-01]\n",
      " [ 4.85951238e-01]\n",
      " [-6.99772283e-01]\n",
      " [ 1.03920111e-01]\n",
      " [ 9.90530668e-01]\n",
      " [-6.61181546e-01]\n",
      " [-9.26869519e-02]\n",
      " [-9.96719326e-01]\n",
      " [-3.36525991e-01]\n",
      " [ 1.29133007e+00]\n",
      " [ 2.93604472e-01]\n",
      " [-9.48721928e-01]\n",
      " [-1.04179036e+00]\n",
      " [ 6.97408709e-02]\n",
      " [ 3.52821422e-01]\n",
      " [ 3.30281936e-01]\n",
      " [ 1.07893321e+00]\n",
      " [-5.60591681e-02]\n",
      " [-7.47360681e-01]\n",
      " [-4.22603860e-01]\n",
      " [ 5.91202896e-01]\n",
      " [-9.48965526e-02]\n",
      " [-6.20872967e-01]\n",
      " [ 7.10053356e-02]\n",
      " [ 3.16638465e-01]\n",
      " [-9.35605708e-01]\n",
      " [-1.24175581e+00]\n",
      " [-2.48862863e-01]\n",
      " [-1.62737864e-01]\n",
      " [-4.31939926e-01]\n",
      " [ 8.35841553e-01]\n",
      " [ 9.02372145e-01]\n",
      " [ 1.51839278e+00]\n",
      " [ 1.91866812e+00]\n",
      " [ 3.09713431e-01]\n",
      " [ 5.11838679e-01]\n",
      " [-8.23306767e-01]\n",
      " [-4.01300589e-01]\n",
      " [-2.16226638e-01]\n",
      " [ 7.64032843e-01]\n",
      " [-5.83287014e-02]\n",
      " [-3.08949044e-01]\n",
      " [-3.88894146e-01]\n",
      " [-7.02559872e-01]\n",
      " [ 6.97534145e-01]\n",
      " [ 2.16573447e-01]\n",
      " [-1.02992341e+00]\n",
      " [ 1.13062476e+00]\n",
      " [-1.52144247e+00]\n",
      " [-3.97044043e-01]\n",
      " [-1.07198066e+00]\n",
      " [-7.78566592e-01]\n",
      " [-1.06318335e+00]\n",
      " [-1.56517536e+00]\n",
      " [ 7.33240437e-01]\n",
      " [-6.67963278e-01]\n",
      " [ 3.60755232e-01]\n",
      " [ 2.53329045e+00]\n",
      " [ 4.05329336e-01]\n",
      " [-1.03954073e+00]\n",
      " [-7.55451473e-01]\n",
      " [ 7.83574789e-01]\n",
      " [-4.99622982e-01]\n",
      " [-2.32480084e+00]\n",
      " [ 9.01234622e-01]\n",
      " [ 1.07141560e+00]\n",
      " [-1.81247751e+00]\n",
      " [-4.34669884e-01]\n",
      " [ 2.90013488e-01]\n",
      " [ 1.64505901e-01]\n",
      " [-6.30405940e-01]\n",
      " [-1.32669546e+00]\n",
      " [-9.83337879e-01]]\n",
      "[1 1 1 1 1 1 0 0 1 0 1 1 0 0 0 1 1 0 0 1 1 0 0 0 1 1 1 1 0 0 0 0 0 0 1 0 1\n",
      " 0 0 0 0 0 1 0 0 0 0 1 0 1 1 0 1 1 1 1 0 0 0 0 1 0 1 0 0 1 1 1 1 1 1 0 1 1\n",
      " 1 1 0 1 1 1 1 0 1 0 0 0 0 1 1 0 1 0 0 0 1 0 1 1 1 0 1 0 1 0 1 0 0 1 0 0 1\n",
      " 0 1 1 0 0 0 0 1 1 1 1 1 0 1 1 1 1 0 0 1 1 1 1 1 0 0 1 0 0 0 1 0 0 1 1 0 0\n",
      " 0 0 0 0 0 0 0 1 0 1 1 1 1 1 0 1 0 1 1 0 0 1 1 0 1 0 1 0 0 0 1 0 1 0 0 1 1\n",
      " 0 1 0 1 1 0 0 1 1 0 0 0 0 1 1 0 0 0 1 0 0 1 0 0 1 0 0 0 1 1 1 1 1 1 1 1 0\n",
      " 0 1 0 0 1 1 1 0 0 0 1 0 0 0 1 1 1 0 0 0 1 0 0 1 1 1 1 1 0 0 0 1 0 0 1 0 1\n",
      " 1 0 1 0 0 1 0 1 1 1 1 0 0 1 1 0 1 0 0 0 1 0 0 0 0 0 0 0 1 0 0 0 0 0 0 0 1\n",
      " 0 0 0 0 0 0 1 0 1 0 0 0 1 1 0 0 0 0 0 0 0 1 0 0 0 1 0 0 0 0 0 0 1 1 1 1 1\n",
      " 1 1 1 0 0 1 1 0 0 0 1 1 1 0 1 1 0 1 0 1 0 1 0 0 0 1 1 1 0 0 0 0 0 1 0 0 0\n",
      " 1 1 1 1 1 1 1 0 1 1 0 1 0 1 0 1 1 0 0 0 0 1 1 0 1 1 0 1 1 1 1 0 0 0 0 1 1\n",
      " 0 0 0 0 1 0 1 0 1 0 0 0 0 1 1 0 0 0 0 0 0 0 1 1 0 0 0 0 1 1 1 1 1 1 0 1 0\n",
      " 0 0 1 1 1 0 0 1 0 0 1 0 0 0 1 0 0 1 0 0 1 1 0 0 1 0 0 0 1 0 0 1 1 0 0 0] [1814 2018  712 1807  772  448 2172 2161  471 2014  577  184 1840 1842\n",
      " 1821 1371  707 1743 1781  865 1684 1701 1701 1693  379 1105  548 1296\n",
      " 1483 1570 1469 1472 1342 1349 1162 1342  797 1232 1230 1205 1090 1095\n",
      "  449  972  825 2438 2233  286 1861 1080 1521 1693 1528  169  272  731\n",
      " 2059 1853 1854 1645  544 1666  353 1791 1685  191  370  173  242  420\n",
      "  438 1624 1036  359  171  959 1351  486  525  762  175 1195  338 1125\n",
      "  916  972  867  249  281  758  377 1976 2539 2467  876 2132  426  554\n",
      " 1246 1926 1207 1852 1174 1250  530 1502 1364 1170 1729 1642 1218 1358\n",
      "  360  550  857  768  858  770  679 1164  350  578 1460 1434 1763  889\n",
      "  357  547 1722 2372 2030 1002 1280  338  533  168 1169 1675 1862  629\n",
      " 1167  495  967 1720  598  392 1502  229  310 1296  488  942  570 1177\n",
      " 1113  288  723  403 1225  338 1337 1420 2048  600 1765  491  305 1582\n",
      " 1771  960  571  675  285 1472 1279  148 1863 1933  358  734 2372 2563\n",
      " 2372 1989 2015 1956  945 2153  838  113 1833 1722  241 1352 1702 1222\n",
      " 1089 1243  579 1043 2234 2297 2014  518  940  766  251 1959 1897  160\n",
      "  970  892  753  348  275 1329 1193  698  436  552  564 2239 2237  529\n",
      " 1820 1756  515  272  891 1356 1352 1077  675  855  740 2551  754  819\n",
      " 1280 2388 2296 1884 1059  859 1109 1192 1806  500 1589 1463 1826 1231\n",
      " 1117  836 1222  663  722  322 1150  446 1855  238 1838 1826 1093 2051\n",
      "  370  861 1587  552 2353 2471  893 2093 2612  956 1637 2456 2227 1601\n",
      " 1841 2177 2052  973 2156 1499 2030  573 1666 1979 1786 1847 2009 1926\n",
      " 1490  233 1240 1751 1878 1171 1751 1756  714 1505  776 1443 1317  870\n",
      "  859  223 1212 1119  740 1062    8  936  740  632 1760 1013  779  375\n",
      " 1323 1233  986  650  628 1866  491 1918   72 1140  799 1105  548  227\n",
      " 1838 1833  550  426 1834 1604  772 1146  371  883 1735  554  790 1340\n",
      "  490 1557  594  828  594  841  695 2556 1753  417  956 1846 1703 1720\n",
      " 1355 1603  476 1350 1341 2449 2286  456  536  612 2034 1990 2456 2205\n",
      "  544  336 2057  575 2011  537 2217 1814  890 1114  974  296 2320  795\n",
      "  867 1703  670  981 1094  755 1388 1387  535 1653 1904 1868 1767  855\n",
      " 1157 1869 1152 1401  918  745 1283 1481 1807  542 1441 1277 1486  273\n",
      "  177  545 1185  631  995 1088  877  798 2380 1679  498 2138 2175 2271\n",
      "   17  964  540  747  650  410  624 1560  455 1629 1730 1483  687  308\n",
      "  563   46 2144  344  945 1905  855 2370  853  692  475 2195  758  648\n",
      "  761  596  195  473  747 2659 1977 2401 1499 1856  595 2148 2126 1975\n",
      " 1641 1717 1858 2049]\n"
     ]
    },
    {
     "name": "stderr",
     "output_type": "stream",
     "text": [
      "\n"
     ]
    },
    {
     "data": {
      "text/plain": "{'train_loss': [array(34.99639433),\n  array(34.47566806),\n  array(34.25273732),\n  array(34.2232052),\n  array(34.21365872),\n  array(34.20141577),\n  array(34.20183962),\n  array(34.20047596),\n  array(34.20046398),\n  array(34.18983155),\n  array(34.18944788),\n  array(34.18816973),\n  array(34.18754971),\n  array(34.18509078),\n  array(34.18445443),\n  array(34.18450228),\n  array(34.18249747),\n  array(34.18238201),\n  array(34.1820927),\n  array(34.18389071)],\n 'val_loss': [array(10.89046237),\n  array(10.74871953),\n  array(10.82181992),\n  array(10.83473874),\n  array(10.83896054),\n  array(10.86073498),\n  array(10.86068048),\n  array(10.86133808),\n  array(10.86249265),\n  array(10.90419124),\n  array(10.91466039),\n  array(10.91202646),\n  array(10.911587),\n  array(10.91225168),\n  array(10.9129144),\n  array(10.91766272),\n  array(10.91363186),\n  array(10.9136048),\n  array(10.9136044),\n  array(10.91360327)],\n 'reg': [array(24.6711703),\n  array(25.59633253),\n  array(25.96371286),\n  array(26.03626196),\n  array(26.19457206),\n  array(27.94941906),\n  array(27.95615342),\n  array(27.96419022),\n  array(27.97983581),\n  array(28.7367812),\n  array(28.55435455),\n  array(28.91338131),\n  array(28.91603622),\n  array(28.92752531),\n  array(28.92752531),\n  array(28.85186765),\n  array(28.85137143),\n  array(28.85136015),\n  array(28.85112878),\n  array(28.85113129)]}"
     },
     "execution_count": 13,
     "metadata": {},
     "output_type": "execute_result"
    }
   ],
   "source": [
    "# train the model\n",
    "model.train()\n",
    "lr = 0.01\n",
    "model.fit(dataset, opt=optimizer, steps=20, lr=lr, lamb=0.01, lamb_entropy=10., batch=-1)"
   ]
  },
  {
   "cell_type": "markdown",
   "id": "2f30c3ab",
   "metadata": {},
   "source": [
    "Plot trained KAN"
   ]
  },
  {
   "cell_type": "code",
   "execution_count": 14,
   "id": "3f95fcdd",
   "metadata": {
    "ExecuteTime": {
     "end_time": "2024-07-05T07:55:39.225687Z",
     "start_time": "2024-07-05T07:55:37.461214Z"
    }
   },
   "outputs": [
    {
     "data": {
      "text/plain": "<Figure size 1500x600 with 10 Axes>",
      "image/png": "[encoded data removed]"
     },
     "metadata": {},
     "output_type": "display_data"
    }
   ],
   "source": [
    "model.plot(scale=1.5)"
   ]
  },
  {
   "cell_type": "code",
   "outputs": [
    {
     "data": {
      "text/plain": "array([ 1.59453479,  1.58666093, -2.09965495, -0.97433972, -0.78692896,\n        0.82218194,  1.40909377,  0.46591481,  0.64528473, -0.68355058,\n       -0.54428325, -0.6146537 ,  1.47634656,  0.44427296, -0.54802938,\n        0.22406977, -0.71345199,  1.28099726, -0.37849619,  0.24510642,\n       -0.0850456 ,  0.53502973, -0.55466439, -0.53069195,  0.62179658,\n        0.72940668, -0.65820255,  1.11002766,  1.17334503,  0.30093271,\n       -0.42435212,  0.98520272,  1.17828467, -1.58090988, -1.70137509,\n       -0.81667897, -0.54515968, -0.34806299, -0.93843746,  0.56484163,\n        1.01662888,  2.27631987, -1.34635201,  0.19938037,  0.06938458,\n       -0.54367153,  0.06238192, -0.08331391, -0.25111596, -3.39479442,\n        1.89899741,  0.77148066, -0.5913118 , -0.25514505, -0.47630539,\n       -0.80006331,  0.09071453,  0.29611832,  0.55522303, -0.0932441 ,\n        1.85341683,  0.0767518 , -0.16050471, -0.09571396,  0.45622036,\n        0.04218146, -0.5047482 , -0.74738149,  0.32167574, -0.27878608,\n        0.99540701,  1.14935912,  0.57870956, -0.0720663 , -1.53670065,\n        1.12496108,  1.58235155, -1.36506473, -0.40258696, -0.9767217 ,\n       -0.8539729 , -1.98098482,  1.10011204,  0.90563478,  0.79964735,\n       -1.23906582,  2.14861596, -1.37197164, -0.88258919,  0.12475197,\n       -0.4640778 , -0.47814228, -0.31047282, -0.26738537, -1.03565348,\n       -0.34571285, -0.66302285, -0.96468673,  0.33597516, -0.43290802,\n       -1.23708497, -0.56818817, -1.33776856, -0.24598527,  1.1347612 ,\n       -1.40895329,  0.64149925,  0.20298174, -0.01826705, -0.32144166,\n       -0.77278703,  0.15205814, -0.69698886, -0.47899942, -2.34252022,\n       -0.07818522, -0.11680132, -1.04253011, -0.89357024,  1.23318254,\n       -0.49545197,  0.92978185,  0.38182287, -0.59894908, -1.56905925,\n       -0.06937585, -2.04809939,  0.06187659, -0.5687714 , -0.42097057,\n       -0.13995053,  0.59625877,  0.00856739,  1.19579856,  0.36516942,\n        0.07343926,  0.95539201])"
     },
     "execution_count": 15,
     "metadata": {},
     "output_type": "execute_result"
    }
   ],
   "source": [
    "model(dataset['test_input']).detach().cpu().numpy().flatten()"
   ],
   "metadata": {
    "collapsed": false,
    "ExecuteTime": {
     "end_time": "2024-07-05T07:55:39.240765Z",
     "start_time": "2024-07-05T07:55:39.227111Z"
    }
   },
   "id": "e1d9e3698cff2336",
   "execution_count": 15
  },
  {
   "cell_type": "code",
   "outputs": [
    {
     "data": {
      "text/plain": "0.6706901075833115"
     },
     "execution_count": 16,
     "metadata": {},
     "output_type": "execute_result"
    }
   ],
   "source": [
    "concordance_index_censored(\n",
    "    dataset['test_event'] != 0, \n",
    "    dataset['test_time'], \n",
    "    model(dataset['test_input']).detach().cpu().numpy().flatten()\n",
    ")[0]"
   ],
   "metadata": {
    "collapsed": false,
    "ExecuteTime": {
     "end_time": "2024-07-05T07:55:39.255061Z",
     "start_time": "2024-07-05T07:55:39.242823Z"
    }
   },
   "id": "3c91240944648f45",
   "execution_count": 16
  },
  {
   "cell_type": "code",
   "outputs": [],
   "source": [
    "horizons = [0.25, 0.5, 0.75]\n",
    "times = np.quantile(t[e == 1], horizons).tolist()"
   ],
   "metadata": {
    "collapsed": false,
    "ExecuteTime": {
     "end_time": "2024-07-05T07:55:39.262853Z",
     "start_time": "2024-07-05T07:55:39.258354Z"
    }
   },
   "id": "434a35960f42d0c0",
   "execution_count": 17
  },
  {
   "cell_type": "code",
   "outputs": [],
   "source": [
    "out_risk = model.predict_risk(dataset['test_input'], times)\n",
    "out_survival = model.predict_survival(dataset['test_input'], times)"
   ],
   "metadata": {
    "collapsed": false,
    "ExecuteTime": {
     "end_time": "2024-07-05T07:55:39.305682Z",
     "start_time": "2024-07-05T07:55:39.264914Z"
    }
   },
   "id": "89d7fb5c23bdd91e",
   "execution_count": 18
  },
  {
   "cell_type": "code",
   "outputs": [
    {
     "name": "stdout",
     "output_type": "stream",
     "text": [
      "For 0.25 quantile,\n",
      "TD Concordance Index: 0.6368911523043091\n",
      "Brier Score: 0.08316592699632341\n",
      "ROC AUC  0.6409047072105245 \n",
      "\n",
      "For 0.5 quantile,\n",
      "TD Concordance Index: 0.696202347475697\n",
      "Brier Score: 0.11661085275885673\n",
      "ROC AUC  0.7151914309350347 \n",
      "\n",
      "For 0.75 quantile,\n",
      "TD Concordance Index: 0.654097681692015\n",
      "Brier Score: 0.1707358051791148\n",
      "ROC AUC  0.6744045324680228 \n"
     ]
    }
   ],
   "source": [
    "from sksurv.metrics import cumulative_dynamic_auc\n",
    "from sksurv.metrics import brier_score\n",
    "from sksurv.metrics import concordance_index_ipcw\n",
    "\n",
    "et_train = np.array([(e_train[i], t_train[i]) for i in range(len(e_train))], dtype=[('e', bool), ('t', float)])\n",
    "et_test = np.array([(e_test[i], t_test[i]) for i in range(len(e_test))], dtype=[('e', bool), ('t', float)])\n",
    "et_val = np.array([(e_val[i], t_val[i]) for i in range(len(e_val))], dtype=[('e', bool), ('t', float)])\n",
    "\n",
    "cis = []  # Concordance Index\n",
    "for i, _ in enumerate(times):\n",
    "    cis.append(concordance_index_ipcw(et_train, et_test, out_risk[:, i], times[i])[0])\n",
    "\n",
    "# Brier Score\n",
    "brs = [brier_score(et_train, et_test, out_survival, times)[1]]\n",
    "\n",
    "roc_auc = []  # ROC AUC\n",
    "for i, _ in enumerate(times):\n",
    "    roc_auc.append(cumulative_dynamic_auc(et_train, et_test, out_risk[:, i], times[i])[0])\n",
    "\n",
    "for horizon in enumerate(horizons):\n",
    "    print(f\"For {horizon[1]} quantile,\")\n",
    "    print(\"TD Concordance Index:\", cis[horizon[0]])\n",
    "    print(\"Brier Score:\", brs[0][horizon[0]])\n",
    "    print(\"ROC AUC \", roc_auc[horizon[0]][0], \"\\n\")"
   ],
   "metadata": {
    "collapsed": false,
    "ExecuteTime": {
     "end_time": "2024-07-05T07:56:28.160770Z",
     "start_time": "2024-07-05T07:56:28.131486Z"
    }
   },
   "id": "5f6abf442aa3882",
   "execution_count": 39
  },
  {
   "cell_type": "markdown",
   "id": "61d537b7",
   "metadata": {},
   "source": [
    "Prune KAN and replot (keep the original shape)"
   ]
  },
  {
   "cell_type": "code",
   "outputs": [],
   "source": [
    "# model.prune()\n",
    "# model.plot(mask=True, scale=1.5)"
   ],
   "metadata": {
    "collapsed": false,
    "ExecuteTime": {
     "end_time": "2024-07-05T07:55:39.310753Z",
     "start_time": "2024-07-05T07:55:39.307434Z"
    }
   },
   "id": "8506353cacb62d2a",
   "execution_count": 19
  },
  {
   "cell_type": "markdown",
   "id": "576856cf",
   "metadata": {},
   "source": [
    "Prune KAN and replot (get a smaller shape)"
   ]
  },
  {
   "cell_type": "code",
   "execution_count": 20,
   "id": "7fe6fb12",
   "metadata": {
    "ExecuteTime": {
     "end_time": "2024-07-05T07:55:39.315784Z",
     "start_time": "2024-07-05T07:55:39.312504Z"
    }
   },
   "outputs": [],
   "source": [
    "# model = model.prune()\n",
    "# model(dataset['train_input'])\n",
    "# model.plot(scale=1.5)"
   ]
  },
  {
   "cell_type": "markdown",
   "id": "bd08ad99",
   "metadata": {},
   "source": [
    "Continue training and replot"
   ]
  },
  {
   "cell_type": "code",
   "execution_count": 21,
   "id": "18a2db11",
   "metadata": {
    "ExecuteTime": {
     "end_time": "2024-07-05T07:55:39.322532Z",
     "start_time": "2024-07-05T07:55:39.317937Z"
    }
   },
   "outputs": [],
   "source": [
    "# model.fit(dataset, opt=optimizer, lr=lr, steps=50)"
   ]
  },
  {
   "cell_type": "code",
   "execution_count": 22,
   "id": "af27aba7",
   "metadata": {
    "ExecuteTime": {
     "end_time": "2024-07-05T07:55:39.329093Z",
     "start_time": "2024-07-05T07:55:39.325641Z"
    }
   },
   "outputs": [],
   "source": [
    "# model.plot(scale=1.5)"
   ]
  },
  {
   "cell_type": "code",
   "outputs": [],
   "source": [
    "# concordance_index_censored(\n",
    "#     dataset['test_event'] != 0, \n",
    "#     dataset['test_time'], \n",
    "#     model(dataset['test_input']).detach().cpu().numpy().flatten())[0]"
   ],
   "metadata": {
    "collapsed": false,
    "ExecuteTime": {
     "end_time": "2024-07-05T07:55:39.337248Z",
     "start_time": "2024-07-05T07:55:39.333678Z"
    }
   },
   "id": "b6d9b47daee13827",
   "execution_count": 23
  },
  {
   "cell_type": "markdown",
   "id": "cf35d505",
   "metadata": {},
   "source": [
    "Automatically or manually set activation functions to be symbolic"
   ]
  },
  {
   "cell_type": "code",
   "execution_count": 24,
   "id": "b3c0642b",
   "metadata": {
    "ExecuteTime": {
     "end_time": "2024-07-05T07:55:45.210756Z",
     "start_time": "2024-07-05T07:55:39.339512Z"
    }
   },
   "outputs": [
    {
     "name": "stdout",
     "output_type": "stream",
     "text": [
      "fixing (0,0,0) with x^2, r2=0.402348287665364\n",
      "fixing (0,1,0) with x^3, r2=0.8183992182182701\n",
      "fixing (0,2,0) with tanh, r2=0.9986272073242909\n",
      "fixing (0,3,0) with tanh, r2=0.9973472612818406\n",
      "fixing (0,4,0) with x^2, r2=0.8673150878033685\n",
      "fixing (0,5,0) with exp, r2=1.0000000000000013\n",
      "fixing (0,6,0) with exp, r2=1.0000000000000013\n",
      "fixing (0,7,0) with exp, r2=1.0000000000000016\n",
      "fixing (0,8,0) with exp, r2=1.0000000000000016\n"
     ]
    }
   ],
   "source": [
    "mode = \"auto\" # \"manual\"\n",
    "\n",
    "if mode == \"manual\":\n",
    "    # manual mode\n",
    "    model.fix_symbolic(0,0,0,'sin')\n",
    "    model.fix_symbolic(0,1,0,'x^2')\n",
    "    model.fix_symbolic(1,0,0,'exp')\n",
    "elif mode == \"auto\":\n",
    "    # automatic mode\n",
    "    # lib = ['x','x^2','x^3','x^4','exp','log','sqrt','tanh','sin','abs']\n",
    "    lib = ['x','x^2','x^3','x^4','exp','log','sqrt','tanh']\n",
    "    model.auto_symbolic(lib=lib)"
   ]
  },
  {
   "cell_type": "markdown",
   "id": "821ba616",
   "metadata": {},
   "source": [
    "Continue training to almost machine precision"
   ]
  },
  {
   "cell_type": "code",
   "execution_count": 25,
   "id": "c0800415",
   "metadata": {
    "ExecuteTime": {
     "end_time": "2024-07-05T07:55:46.372453Z",
     "start_time": "2024-07-05T07:55:45.213069Z"
    }
   },
   "outputs": [
    {
     "name": "stderr",
     "output_type": "stream",
     "text": [
      "train loss: 3.45e+01 | validation loss: 1.09e+01 | reg: 6.55e+00 : 100%|█| 20/20 [00:01<00:00, 17.76\n"
     ]
    },
    {
     "name": "stdout",
     "output_type": "stream",
     "text": [
      "[[ 7.64937766e-01]\n",
      " [-3.76833096e-01]\n",
      " [ 1.14255849e-01]\n",
      " [-4.13554930e-01]\n",
      " [ 1.14545048e+00]\n",
      " [ 2.07941470e+00]\n",
      " [-1.13043044e+00]\n",
      " [-2.62938882e-01]\n",
      " [ 3.64097913e+00]\n",
      " [ 1.10930503e+00]\n",
      " [ 1.29960183e+00]\n",
      " [ 1.56861865e+00]\n",
      " [-8.44300913e-01]\n",
      " [-2.81627827e-01]\n",
      " [ 9.96363431e-02]\n",
      " [-4.66250286e-01]\n",
      " [-3.28928138e-01]\n",
      " [-5.19247142e-01]\n",
      " [-7.85352999e-01]\n",
      " [-1.26999830e+00]\n",
      " [-2.36309787e-01]\n",
      " [-9.23272589e-01]\n",
      " [ 4.50410542e-01]\n",
      " [ 7.93724271e-03]\n",
      " [ 1.92245384e+00]\n",
      " [-8.47968373e-01]\n",
      " [-2.26776087e-01]\n",
      " [ 2.46673974e-01]\n",
      " [-4.34216019e-01]\n",
      " [ 5.62142629e-01]\n",
      " [ 1.11314092e-01]\n",
      " [ 4.29446035e-01]\n",
      " [-3.73478960e+00]\n",
      " [-7.76951277e-01]\n",
      " [ 1.41552341e-01]\n",
      " [-3.64485016e-01]\n",
      " [ 1.41625349e+00]\n",
      " [ 4.15959995e-01]\n",
      " [-8.16062470e-02]\n",
      " [-1.04297237e+00]\n",
      " [ 8.32551284e-01]\n",
      " [ 1.04872395e+00]\n",
      " [ 7.78209310e-02]\n",
      " [ 2.59026962e-01]\n",
      " [ 1.06656532e-01]\n",
      " [-6.20271770e-01]\n",
      " [ 3.73046728e-01]\n",
      " [ 1.32046513e+00]\n",
      " [-3.17106103e-01]\n",
      " [ 9.43052223e-01]\n",
      " [-5.68005737e-01]\n",
      " [-2.01082331e-01]\n",
      " [-3.15843140e-01]\n",
      " [ 1.34998641e-01]\n",
      " [ 4.24923292e-01]\n",
      " [ 5.22576536e-01]\n",
      " [ 4.22231565e-01]\n",
      " [-1.40807960e+00]\n",
      " [ 8.79076125e-01]\n",
      " [ 1.19013417e+00]\n",
      " [ 1.11280080e+00]\n",
      " [ 1.10544924e-01]\n",
      " [-1.28557501e-01]\n",
      " [ 9.82909028e-01]\n",
      " [-4.91714325e-01]\n",
      " [-3.84983111e-01]\n",
      " [ 2.03655153e-01]\n",
      " [ 6.79392314e-01]\n",
      " [ 1.65621552e+00]\n",
      " [-3.43784587e-01]\n",
      " [-8.02436748e-01]\n",
      " [-2.19738970e-01]\n",
      " [-1.60827078e-01]\n",
      " [ 9.98930330e-01]\n",
      " [ 1.03279146e+00]\n",
      " [ 1.95330575e+00]\n",
      " [-1.60619139e-01]\n",
      " [ 1.13039159e-01]\n",
      " [ 8.32991855e-01]\n",
      " [-6.85356585e-01]\n",
      " [ 5.33696609e-01]\n",
      " [-1.18557977e-01]\n",
      " [ 4.82173745e-01]\n",
      " [-9.69712897e-01]\n",
      " [-5.75253860e-01]\n",
      " [-4.14241441e-01]\n",
      " [ 5.03596491e-02]\n",
      " [ 7.21153401e-01]\n",
      " [ 1.47026627e+00]\n",
      " [ 7.84472293e-02]\n",
      " [ 1.10197149e+00]\n",
      " [-8.55814773e-01]\n",
      " [-1.11554191e+00]\n",
      " [ 3.11773288e-01]\n",
      " [ 7.62014672e-02]\n",
      " [-7.78550559e-01]\n",
      " [ 1.32384038e+00]\n",
      " [ 7.56420375e-01]\n",
      " [-4.32311459e-01]\n",
      " [-5.55166575e-01]\n",
      " [ 1.79041818e+00]\n",
      " [-2.19114330e-02]\n",
      " [-3.94196916e-01]\n",
      " [ 4.24473779e-01]\n",
      " [ 2.65491320e-01]\n",
      " [ 8.02671383e-01]\n",
      " [-1.35234079e+00]\n",
      " [ 6.49369920e-01]\n",
      " [-3.70124859e-01]\n",
      " [-2.23227538e-01]\n",
      " [-5.20070488e-01]\n",
      " [-7.62741439e-01]\n",
      " [ 1.70940917e+00]\n",
      " [-8.71425577e-01]\n",
      " [ 6.25636040e-01]\n",
      " [ 1.50962941e+00]\n",
      " [-6.56967137e-01]\n",
      " [ 5.95920729e-02]\n",
      " [ 7.18015184e-01]\n",
      " [ 5.13460730e-01]\n",
      " [-1.16813462e-01]\n",
      " [ 2.75161502e-02]\n",
      " [-9.39563947e-02]\n",
      " [ 1.94336640e-01]\n",
      " [-2.14097406e-01]\n",
      " [-4.18500156e-01]\n",
      " [ 9.79828468e-01]\n",
      " [ 3.89622439e-01]\n",
      " [-5.25348799e-01]\n",
      " [-8.59795095e-01]\n",
      " [-3.43586809e-01]\n",
      " [-7.20093887e-01]\n",
      " [-6.70388771e-01]\n",
      " [-1.33785517e-01]\n",
      " [ 1.25979845e-01]\n",
      " [ 4.01242397e-01]\n",
      " [-8.29997676e-01]\n",
      " [-6.41102034e-01]\n",
      " [ 1.79682175e-02]\n",
      " [-3.17124396e+00]\n",
      " [ 1.00395157e+00]\n",
      " [-2.35332275e-01]\n",
      " [-2.82522806e+00]\n",
      " [-1.07237482e+00]\n",
      " [ 1.43527618e+00]\n",
      " [ 1.26377474e+00]\n",
      " [-7.93372423e-01]\n",
      " [-5.55849750e-01]\n",
      " [ 3.70607368e-01]\n",
      " [-3.20707350e-01]\n",
      " [ 6.85277473e-02]\n",
      " [-5.20132306e-01]\n",
      " [-9.55338469e-01]\n",
      " [ 4.61959950e-01]\n",
      " [-1.07198231e-01]\n",
      " [ 2.90189610e-01]\n",
      " [-1.13090550e-01]\n",
      " [ 1.17690300e+00]\n",
      " [ 6.07509225e-01]\n",
      " [ 4.94523130e-01]\n",
      " [-1.42323271e-01]\n",
      " [-8.75233550e-01]\n",
      " [ 1.01690261e+00]\n",
      " [ 4.43470190e-01]\n",
      " [-9.48584006e-01]\n",
      " [ 1.26184456e+00]\n",
      " [ 7.87406568e-01]\n",
      " [-3.45669547e-01]\n",
      " [ 5.74771647e-01]\n",
      " [ 1.56264834e+00]\n",
      " [ 1.03892802e+00]\n",
      " [ 1.55488055e+00]\n",
      " [-4.87433967e-01]\n",
      " [-3.41099131e-01]\n",
      " [-1.31814236e+00]\n",
      " [-3.73306200e-01]\n",
      " [-1.44580770e-01]\n",
      " [-2.00093271e+00]\n",
      " [ 7.83710046e-01]\n",
      " [-2.39933347e-01]\n",
      " [-5.02382872e-01]\n",
      " [ 1.77437809e-02]\n",
      " [-6.52014425e-01]\n",
      " [-1.30403994e+00]\n",
      " [-3.31166469e-01]\n",
      " [-1.63580614e-01]\n",
      " [ 1.55549760e+00]\n",
      " [ 4.80838153e-02]\n",
      " [-2.17519534e-01]\n",
      " [ 4.09639962e-01]\n",
      " [ 5.32039796e-01]\n",
      " [ 9.56487769e-01]\n",
      " [ 4.70124899e-01]\n",
      " [-1.02629486e+00]\n",
      " [ 6.28098567e-01]\n",
      " [-1.69012870e+00]\n",
      " [ 3.84157257e-02]\n",
      " [-5.81115377e-01]\n",
      " [ 9.43877201e-01]\n",
      " [ 2.95652768e-01]\n",
      " [ 7.93677820e-02]\n",
      " [-1.22432623e+00]\n",
      " [-1.04464925e+00]\n",
      " [ 2.04489245e-01]\n",
      " [-1.84455522e-01]\n",
      " [-1.45680738e-01]\n",
      " [ 7.39241928e-01]\n",
      " [-3.05823164e-01]\n",
      " [-6.78769841e-01]\n",
      " [ 4.51844966e+00]\n",
      " [-1.05103633e+00]\n",
      " [-1.71280897e+00]\n",
      " [-1.22728465e+00]\n",
      " [ 2.59153260e-01]\n",
      " [ 4.36631905e-01]\n",
      " [-9.03098980e-01]\n",
      " [-1.66500870e-01]\n",
      " [ 6.58795627e-01]\n",
      " [ 6.55282711e-01]\n",
      " [-3.79412151e-02]\n",
      " [ 2.02617005e-01]\n",
      " [-1.25648266e-01]\n",
      " [-1.13436935e+00]\n",
      " [ 5.89046065e-01]\n",
      " [-2.53791938e-01]\n",
      " [-1.48014880e+00]\n",
      " [ 4.19403959e+00]\n",
      " [ 8.69578917e-01]\n",
      " [-8.32097987e-05]\n",
      " [-1.33302872e-01]\n",
      " [-1.54807836e-01]\n",
      " [-3.59520416e-01]\n",
      " [-8.64265363e-01]\n",
      " [ 7.44614690e-01]\n",
      " [-1.49185249e-01]\n",
      " [-2.53281643e-01]\n",
      " [ 1.16787345e+00]\n",
      " [ 1.05555018e+00]\n",
      " [ 9.63196934e-02]\n",
      " [ 1.06783936e-01]\n",
      " [-4.31254151e-01]\n",
      " [-6.52116381e-01]\n",
      " [-4.08626640e-01]\n",
      " [ 1.61096149e-01]\n",
      " [-1.41255560e+00]\n",
      " [-2.33459469e-01]\n",
      " [ 1.30947881e+00]\n",
      " [ 9.43864975e-01]\n",
      " [ 1.64618757e-01]\n",
      " [-4.27736135e-02]\n",
      " [-3.56556527e-01]\n",
      " [ 3.76062617e-02]\n",
      " [-8.81603992e-01]\n",
      " [ 2.51017918e-01]\n",
      " [-1.12941144e-01]\n",
      " [-4.06998596e-02]\n",
      " [ 3.55604952e-01]\n",
      " [-1.08382457e+00]\n",
      " [-1.17611152e-01]\n",
      " [ 3.03782693e-01]\n",
      " [ 4.42434619e-01]\n",
      " [ 5.51223209e-01]\n",
      " [-8.26071970e-02]\n",
      " [ 7.28829245e-01]\n",
      " [ 3.48285993e-02]\n",
      " [-4.14518335e-01]\n",
      " [ 3.35945183e-01]\n",
      " [ 4.56516797e-01]\n",
      " [ 5.07839679e-01]\n",
      " [-3.23405971e-02]\n",
      " [-4.21119277e-01]\n",
      " [-9.79005649e-01]\n",
      " [ 2.98338009e-02]\n",
      " [-7.02814571e-01]\n",
      " [-2.38284489e-01]\n",
      " [ 8.00286195e-02]\n",
      " [-4.17736690e-02]\n",
      " [-1.51987493e+00]\n",
      " [-3.41498256e-01]\n",
      " [ 1.61601944e-01]\n",
      " [-6.90641362e-02]\n",
      " [-3.06842756e-01]\n",
      " [ 2.21052165e-03]\n",
      " [ 1.10389804e+00]\n",
      " [-1.06474641e+00]\n",
      " [-1.90882933e+00]\n",
      " [-8.43260777e-01]\n",
      " [ 4.20370964e-01]\n",
      " [-8.47807482e-01]\n",
      " [-5.57562447e-01]\n",
      " [-8.96090150e-01]\n",
      " [-2.00053519e-01]\n",
      " [-1.24117481e+00]\n",
      " [-6.64845576e-01]\n",
      " [-1.03218210e+00]\n",
      " [ 1.52906657e+00]\n",
      " [ 5.18598029e-01]\n",
      " [-8.10401782e-01]\n",
      " [ 2.71016614e-01]\n",
      " [-7.20627304e-01]\n",
      " [ 1.11035755e+00]\n",
      " [-3.28195154e-01]\n",
      " [-7.16316283e-01]\n",
      " [-1.42823604e-01]\n",
      " [ 1.06084037e+00]\n",
      " [ 9.66179576e-01]\n",
      " [-9.30989384e-01]\n",
      " [-2.41760760e-01]\n",
      " [ 1.19339014e+00]\n",
      " [-1.62626602e-02]\n",
      " [-9.21006852e-01]\n",
      " [-8.22467659e-01]\n",
      " [ 1.12290618e+00]\n",
      " [ 1.10703056e-01]\n",
      " [-7.94057798e-01]\n",
      " [-6.48207362e-01]\n",
      " [-1.45330643e+00]\n",
      " [ 3.25501128e-01]\n",
      " [-3.02118874e+00]\n",
      " [-1.70310505e-02]\n",
      " [ 5.27102084e-01]\n",
      " [ 4.85195894e-01]\n",
      " [-4.65252097e-01]\n",
      " [-3.28230119e-01]\n",
      " [-2.56219134e-01]\n",
      " [ 6.91803961e-01]\n",
      " [ 1.23377735e-01]\n",
      " [-8.36682588e-02]\n",
      " [-9.52956146e-02]\n",
      " [-2.43154058e-01]\n",
      " [-2.11698016e-02]\n",
      " [-9.35446906e-03]\n",
      " [-1.14788129e+00]\n",
      " [-6.26709457e-01]\n",
      " [-5.29867885e-01]\n",
      " [ 1.01357482e+00]\n",
      " [ 3.15937308e-01]\n",
      " [-1.58755095e+00]\n",
      " [ 5.48766409e-01]\n",
      " [-3.03503529e-01]\n",
      " [-5.62970223e-01]\n",
      " [-3.14534719e-02]\n",
      " [ 2.54275981e-01]\n",
      " [-5.18644484e-01]\n",
      " [ 1.57708510e-01]\n",
      " [ 1.26927668e+00]\n",
      " [ 2.69747719e-01]\n",
      " [-1.35144121e-01]\n",
      " [ 4.85045315e-01]\n",
      " [-9.41867642e-01]\n",
      " [ 1.18545315e+00]\n",
      " [-2.40298892e-01]\n",
      " [ 4.96189337e-01]\n",
      " [ 2.85880428e-01]\n",
      " [ 9.46532590e-03]\n",
      " [ 6.67642605e-01]\n",
      " [-9.07394625e-01]\n",
      " [-1.40077882e+00]\n",
      " [-4.99713763e-01]\n",
      " [ 4.96819188e-01]\n",
      " [ 4.20933065e-01]\n",
      " [ 2.47621109e-01]\n",
      " [-1.51575035e+00]\n",
      " [-1.04297046e-01]\n",
      " [-5.34544117e-01]\n",
      " [ 1.42457140e-01]\n",
      " [-6.73685809e-01]\n",
      " [-1.00311483e+00]\n",
      " [-1.14257368e+00]\n",
      " [-1.87276080e+00]\n",
      " [ 5.05179984e-01]\n",
      " [-1.50934075e-01]\n",
      " [ 6.75982304e-01]\n",
      " [-8.10871057e-02]\n",
      " [ 4.40605736e-02]\n",
      " [-2.38074434e-01]\n",
      " [ 4.77185563e-01]\n",
      " [-1.71050539e-01]\n",
      " [-3.12752113e-01]\n",
      " [ 3.78197613e-01]\n",
      " [-7.18897484e-02]\n",
      " [ 1.81594331e+00]\n",
      " [-1.56322138e-01]\n",
      " [ 1.41179295e+00]\n",
      " [-1.00906019e+00]\n",
      " [-1.17110877e+00]\n",
      " [-8.18880568e-01]\n",
      " [-1.26587639e+00]\n",
      " [ 9.63370107e-01]\n",
      " [-3.38296477e-01]\n",
      " [ 8.76769570e-01]\n",
      " [-6.00105687e-01]\n",
      " [ 1.92009498e-01]\n",
      " [-5.67334185e-01]\n",
      " [ 1.70965743e-02]\n",
      " [ 8.23560737e-01]\n",
      " [-1.65239844e+00]\n",
      " [-1.34180068e+00]\n",
      " [ 4.44209608e-01]\n",
      " [ 2.95826285e-01]\n",
      " [ 2.84729327e-01]\n",
      " [ 7.16341610e-01]\n",
      " [ 2.76244300e-01]\n",
      " [-1.83559840e-01]\n",
      " [-2.27622947e+00]\n",
      " [-2.34158233e-01]\n",
      " [-6.04254028e-01]\n",
      " [-1.03132435e+00]\n",
      " [ 2.11081154e-01]\n",
      " [-3.17915257e-01]\n",
      " [-1.15690071e-01]\n",
      " [ 1.60020863e+00]\n",
      " [-7.19753791e-01]\n",
      " [-7.23055293e-01]\n",
      " [-7.25695841e-01]\n",
      " [-3.12042851e-01]\n",
      " [ 1.17662214e+00]\n",
      " [ 1.52836025e-01]\n",
      " [-1.18879465e+00]\n",
      " [-9.59876568e-01]\n",
      " [ 3.46196242e-01]\n",
      " [ 1.68222465e-01]\n",
      " [ 3.34476367e-01]\n",
      " [ 1.30166268e+00]\n",
      " [-4.48424784e-02]\n",
      " [-3.36343858e-01]\n",
      " [-2.49096991e-01]\n",
      " [-7.15950471e-02]\n",
      " [-2.60548643e-01]\n",
      " [-5.21276714e-01]\n",
      " [-2.07606259e-01]\n",
      " [-1.58736079e-01]\n",
      " [-5.89714447e-01]\n",
      " [-1.18760096e+00]\n",
      " [-1.83625480e-01]\n",
      " [-5.82388053e-01]\n",
      " [-1.68777224e-01]\n",
      " [ 6.20038303e-01]\n",
      " [ 1.17528240e+00]\n",
      " [ 8.22827097e-01]\n",
      " [ 1.45428991e+00]\n",
      " [ 3.89853937e-01]\n",
      " [ 6.82343387e-01]\n",
      " [-5.17297108e-01]\n",
      " [-3.96968221e-01]\n",
      " [ 5.92741580e-02]\n",
      " [ 7.00862887e-02]\n",
      " [-1.66350398e-01]\n",
      " [-2.95440060e-02]\n",
      " [-6.85167852e-01]\n",
      " [-3.60359215e-01]\n",
      " [ 1.04385797e-01]\n",
      " [ 5.57326222e-01]\n",
      " [-3.15305193e-01]\n",
      " [ 1.91166376e+00]\n",
      " [-1.12308749e+00]\n",
      " [-4.89995241e-02]\n",
      " [-9.39678875e-01]\n",
      " [-6.79629806e-01]\n",
      " [-1.94653065e-01]\n",
      " [-1.20396790e-01]\n",
      " [ 2.13099411e+00]\n",
      " [-1.12423479e+00]\n",
      " [ 1.13758276e-01]\n",
      " [ 3.12847081e+00]\n",
      " [-1.19696671e-01]\n",
      " [-4.51147237e-01]\n",
      " [-9.61314492e-01]\n",
      " [ 1.07001706e+00]\n",
      " [-8.05545617e-01]\n",
      " [-2.34356322e+00]\n",
      " [ 8.94287032e-01]\n",
      " [ 1.23240408e+00]\n",
      " [-1.37080573e+00]\n",
      " [-2.69564711e-01]\n",
      " [ 7.35866141e-01]\n",
      " [-5.84397429e-01]\n",
      " [-4.83888380e-01]\n",
      " [-1.34123635e+00]\n",
      " [-7.07966562e-01]]\n",
      "[1 1 1 1 1 1 0 0 1 0 1 1 0 0 0 1 1 0 0 1 1 0 0 0 1 1 1 1 0 0 0 0 0 0 1 0 1\n",
      " 0 0 0 0 0 1 0 0 0 0 1 0 1 1 0 1 1 1 1 0 0 0 0 1 0 1 0 0 1 1 1 1 1 1 0 1 1\n",
      " 1 1 0 1 1 1 1 0 1 0 0 0 0 1 1 0 1 0 0 0 1 0 1 1 1 0 1 0 1 0 1 0 0 1 0 0 1\n",
      " 0 1 1 0 0 0 0 1 1 1 1 1 0 1 1 1 1 0 0 1 1 1 1 1 0 0 1 0 0 0 1 0 0 1 1 0 0\n",
      " 0 0 0 0 0 0 0 1 0 1 1 1 1 1 0 1 0 1 1 0 0 1 1 0 1 0 1 0 0 0 1 0 1 0 0 1 1\n",
      " 0 1 0 1 1 0 0 1 1 0 0 0 0 1 1 0 0 0 1 0 0 1 0 0 1 0 0 0 1 1 1 1 1 1 1 1 0\n",
      " 0 1 0 0 1 1 1 0 0 0 1 0 0 0 1 1 1 0 0 0 1 0 0 1 1 1 1 1 0 0 0 1 0 0 1 0 1\n",
      " 1 0 1 0 0 1 0 1 1 1 1 0 0 1 1 0 1 0 0 0 1 0 0 0 0 0 0 0 1 0 0 0 0 0 0 0 1\n",
      " 0 0 0 0 0 0 1 0 1 0 0 0 1 1 0 0 0 0 0 0 0 1 0 0 0 1 0 0 0 0 0 0 1 1 1 1 1\n",
      " 1 1 1 0 0 1 1 0 0 0 1 1 1 0 1 1 0 1 0 1 0 1 0 0 0 1 1 1 0 0 0 0 0 1 0 0 0\n",
      " 1 1 1 1 1 1 1 0 1 1 0 1 0 1 0 1 1 0 0 0 0 1 1 0 1 1 0 1 1 1 1 0 0 0 0 1 1\n",
      " 0 0 0 0 1 0 1 0 1 0 0 0 0 1 1 0 0 0 0 0 0 0 1 1 0 0 0 0 1 1 1 1 1 1 0 1 0\n",
      " 0 0 1 1 1 0 0 1 0 0 1 0 0 0 1 0 0 1 0 0 1 1 0 0 1 0 0 0 1 0 0 1 1 0 0 0] [1814 2018  712 1807  772  448 2172 2161  471 2014  577  184 1840 1842\n",
      " 1821 1371  707 1743 1781  865 1684 1701 1701 1693  379 1105  548 1296\n",
      " 1483 1570 1469 1472 1342 1349 1162 1342  797 1232 1230 1205 1090 1095\n",
      "  449  972  825 2438 2233  286 1861 1080 1521 1693 1528  169  272  731\n",
      " 2059 1853 1854 1645  544 1666  353 1791 1685  191  370  173  242  420\n",
      "  438 1624 1036  359  171  959 1351  486  525  762  175 1195  338 1125\n",
      "  916  972  867  249  281  758  377 1976 2539 2467  876 2132  426  554\n",
      " 1246 1926 1207 1852 1174 1250  530 1502 1364 1170 1729 1642 1218 1358\n",
      "  360  550  857  768  858  770  679 1164  350  578 1460 1434 1763  889\n",
      "  357  547 1722 2372 2030 1002 1280  338  533  168 1169 1675 1862  629\n",
      " 1167  495  967 1720  598  392 1502  229  310 1296  488  942  570 1177\n",
      " 1113  288  723  403 1225  338 1337 1420 2048  600 1765  491  305 1582\n",
      " 1771  960  571  675  285 1472 1279  148 1863 1933  358  734 2372 2563\n",
      " 2372 1989 2015 1956  945 2153  838  113 1833 1722  241 1352 1702 1222\n",
      " 1089 1243  579 1043 2234 2297 2014  518  940  766  251 1959 1897  160\n",
      "  970  892  753  348  275 1329 1193  698  436  552  564 2239 2237  529\n",
      " 1820 1756  515  272  891 1356 1352 1077  675  855  740 2551  754  819\n",
      " 1280 2388 2296 1884 1059  859 1109 1192 1806  500 1589 1463 1826 1231\n",
      " 1117  836 1222  663  722  322 1150  446 1855  238 1838 1826 1093 2051\n",
      "  370  861 1587  552 2353 2471  893 2093 2612  956 1637 2456 2227 1601\n",
      " 1841 2177 2052  973 2156 1499 2030  573 1666 1979 1786 1847 2009 1926\n",
      " 1490  233 1240 1751 1878 1171 1751 1756  714 1505  776 1443 1317  870\n",
      "  859  223 1212 1119  740 1062    8  936  740  632 1760 1013  779  375\n",
      " 1323 1233  986  650  628 1866  491 1918   72 1140  799 1105  548  227\n",
      " 1838 1833  550  426 1834 1604  772 1146  371  883 1735  554  790 1340\n",
      "  490 1557  594  828  594  841  695 2556 1753  417  956 1846 1703 1720\n",
      " 1355 1603  476 1350 1341 2449 2286  456  536  612 2034 1990 2456 2205\n",
      "  544  336 2057  575 2011  537 2217 1814  890 1114  974  296 2320  795\n",
      "  867 1703  670  981 1094  755 1388 1387  535 1653 1904 1868 1767  855\n",
      " 1157 1869 1152 1401  918  745 1283 1481 1807  542 1441 1277 1486  273\n",
      "  177  545 1185  631  995 1088  877  798 2380 1679  498 2138 2175 2271\n",
      "   17  964  540  747  650  410  624 1560  455 1629 1730 1483  687  308\n",
      "  563   46 2144  344  945 1905  855 2370  853  692  475 2195  758  648\n",
      "  761  596  195  473  747 2659 1977 2401 1499 1856  595 2148 2126 1975\n",
      " 1641 1717 1858 2049]\n"
     ]
    },
    {
     "data": {
      "text/plain": "{'train_loss': [array(34.51761045),\n  array(34.51771031),\n  array(34.51708782),\n  array(34.51678385),\n  array(34.51728995),\n  array(34.51695794),\n  array(34.51667375),\n  array(34.51819261),\n  array(34.51706195),\n  array(34.51794833),\n  array(34.51401408),\n  array(34.513293),\n  array(34.51393207),\n  array(34.51396816),\n  array(34.51436607),\n  array(34.51406353),\n  array(34.5138832),\n  array(34.51494595),\n  array(34.51353497),\n  array(34.5144464)],\n 'val_loss': [array(10.90262847),\n  array(10.90198232),\n  array(10.90262847),\n  array(10.90262847),\n  array(10.90188264),\n  array(10.90252897),\n  array(10.90252897),\n  array(10.90252897),\n  array(10.90252897),\n  array(10.90244246),\n  array(10.89483785),\n  array(10.89549762),\n  array(10.89540242),\n  array(10.89522401),\n  array(10.89522401),\n  array(10.89515205),\n  array(10.89424816),\n  array(10.8947697),\n  array(10.89401671),\n  array(10.89459268)],\n 'reg': [array(6.52962889),\n  array(6.52962869),\n  array(6.5296312),\n  array(6.52963007),\n  array(6.52991646),\n  array(6.52991556),\n  array(6.52991831),\n  array(6.52991541),\n  array(6.52991484),\n  array(6.53045102),\n  array(6.54565279),\n  array(6.54565343),\n  array(6.54609917),\n  array(6.54628096),\n  array(6.54628095),\n  array(6.54704958),\n  array(6.54744676),\n  array(6.54760371),\n  array(6.54779398),\n  array(6.54787279)]}"
     },
     "execution_count": 25,
     "metadata": {},
     "output_type": "execute_result"
    }
   ],
   "source": [
    "model.fit(dataset, opt=optimizer, lr=lr, steps=20, batch=-1)"
   ]
  },
  {
   "cell_type": "markdown",
   "id": "e39da499",
   "metadata": {},
   "source": [
    "Obtain the symbolic formula"
   ]
  },
  {
   "cell_type": "code",
   "execution_count": 26,
   "id": "bf44f7e0",
   "metadata": {
    "ExecuteTime": {
     "end_time": "2024-07-05T07:55:46.661188Z",
     "start_time": "2024-07-05T07:55:46.374286Z"
    }
   },
   "outputs": [
    {
     "data": {
      "text/plain": "-0.042*(1 - 0.838*x_2)**3 + 0.203*(1 - 0.676*x_5)**2 + 0.252*(-x_1 - 0.468)**2 + 0.001*exp(6.65*x_8) - 3.367*tanh(0.164*x_4) + 0.805*tanh(0.993*x_3 - 0.311) - 0.762",
      "text/latex": "$\\displaystyle - 0.042 \\left(1 - 0.838 x_{2}\\right)^{3} + 0.203 \\left(1 - 0.676 x_{5}\\right)^{2} + 0.252 \\left(- x_{1} - 0.468\\right)^{2} + 0.001 e^{6.65 x_{8}} - 3.367 \\tanh{\\left(0.164 x_{4} \\right)} + 0.805 \\tanh{\\left(0.993 x_{3} - 0.311 \\right)} - 0.762$"
     },
     "execution_count": 26,
     "metadata": {},
     "output_type": "execute_result"
    }
   ],
   "source": [
    "model.symbolic_formula(floating_digit=3)[0][0]"
   ]
  },
  {
   "cell_type": "code",
   "outputs": [
    {
     "data": {
      "text/plain": "<Figure size 1500x600 with 10 Axes>",
      "image/png": "[encoded data removed]"
     },
     "metadata": {},
     "output_type": "display_data"
    }
   ],
   "source": [
    "model.plot(scale=1.5)"
   ],
   "metadata": {
    "collapsed": false,
    "ExecuteTime": {
     "end_time": "2024-07-05T07:55:48.924752Z",
     "start_time": "2024-07-05T07:55:46.663382Z"
    }
   },
   "id": "27f8c26cbd6d2fa9",
   "execution_count": 27
  },
  {
   "cell_type": "code",
   "outputs": [
    {
     "data": {
      "text/plain": "array([ 1.01970964,  1.14314984, -1.41647196, -1.62817614, -1.16321412,\n        1.23056922,  1.46415211,  0.25919207,  0.37357708, -0.66064928,\n       -0.25241448, -0.17302015,  1.17190448,  0.68710175, -0.66390593,\n        0.69563451, -0.36168199,  1.38380678,  0.49332178,  0.31804991,\n       -0.21582901,  0.13862002, -0.35639388, -0.30170892,  0.35122452,\n        0.43205459, -0.89683569,  0.25355619,  0.6702689 ,  0.43672095,\n       -0.14657225,  0.77748888,  1.4776987 , -1.08872118, -1.27514614,\n       -1.11792123, -0.1821828 , -0.5398686 , -0.71945209,  0.42897399,\n        1.43097835,  1.75307045, -1.12105773,  0.25733942,  0.36235095,\n       -0.39020812, -0.12517612, -0.14583504, -0.60553247, -3.46657207,\n        1.53473401,  1.19614445, -0.31804069, -0.3664338 , -0.0998642 ,\n       -0.85573435,  0.49987467,  0.34446393,  0.46937956, -0.70902791,\n        1.49374556, -0.24217124, -0.40358687, -0.30395094,  0.69031998,\n       -0.48443937,  0.32688253, -0.58722432,  0.68394873, -0.49112684,\n        1.42642587,  0.84104335,  0.36265394,  0.04681826, -1.271643  ,\n        0.93292853,  1.26337502, -2.00364439, -0.15078408, -1.21194691,\n       -0.5153698 , -1.73947436,  1.15160005,  0.63254695,  0.39588818,\n       -1.43360091,  1.73639941, -1.49063432, -1.07728279, -0.03599711,\n       -0.20580063, -1.13041054, -0.51091812, -0.79894378, -0.88237307,\n       -0.04886255, -0.47911018, -0.51411242,  0.1590502 , -0.74686257,\n       -0.98459864, -0.31949189, -1.23861351,  0.01850388,  0.66012308,\n       -1.38481064,  0.16181625, -0.32690049, -0.50365783, -0.03125307,\n       -0.23910981, -0.17909097, -0.73745732, -0.38428663, -1.90394803,\n       -0.21268164, -0.37292338, -0.58273162, -1.23363227,  1.48785143,\n       -1.16103945,  0.46628937, -0.05031283, -0.4094447 , -1.19508041,\n       -0.78413995, -2.44696409, -0.67935774, -0.38334529, -0.57960747,\n        0.09108363,  0.30419256, -0.05644829,  0.83371349,  0.21703324,\n       -0.17236353,  0.46265793])"
     },
     "execution_count": 28,
     "metadata": {},
     "output_type": "execute_result"
    }
   ],
   "source": [
    "model(dataset['test_input']).detach().cpu().numpy().flatten()"
   ],
   "metadata": {
    "collapsed": false,
    "ExecuteTime": {
     "end_time": "2024-07-05T07:55:48.947930Z",
     "start_time": "2024-07-05T07:55:48.934821Z"
    }
   },
   "id": "fe5c851b428b22f7",
   "execution_count": 28
  },
  {
   "cell_type": "code",
   "outputs": [
    {
     "data": {
      "text/plain": "0.6748884807137234"
     },
     "execution_count": 29,
     "metadata": {},
     "output_type": "execute_result"
    }
   ],
   "source": [
    "concordance_index_censored(\n",
    "    dataset['test_event'] != 0, \n",
    "    dataset['test_time'], \n",
    "    model(dataset['test_input']).detach().cpu().numpy().flatten())[0]"
   ],
   "metadata": {
    "collapsed": false,
    "ExecuteTime": {
     "end_time": "2024-07-05T07:55:48.968120Z",
     "start_time": "2024-07-05T07:55:48.952235Z"
    }
   },
   "id": "320909bd94ab7d50",
   "execution_count": 29
  },
  {
   "cell_type": "code",
   "outputs": [],
   "source": [
    "# out_risk = model.predict_risk(dataset, times)\n",
    "# out_survival = model.predict_survival(dataset, times)\n",
    "# # out_risk = model(dataset['test_input']).detach().cpu().numpy()\n",
    "# # out_survival = - model(dataset['test_input']).detach().cpu().numpy()"
   ],
   "metadata": {
    "collapsed": false,
    "ExecuteTime": {
     "end_time": "2024-07-05T07:55:48.973027Z",
     "start_time": "2024-07-05T07:55:48.969762Z"
    }
   },
   "id": "b7153f9b0e1b2892",
   "execution_count": 30
  },
  {
   "cell_type": "code",
   "outputs": [],
   "source": [
    "# BreslowEstimator().fit(\n",
    "#     model(dataset['train_input']).detach().cpu().numpy(), \n",
    "#     dataset['train_event'].numpy(), \n",
    "#     dataset['train_time'].numpy())"
   ],
   "metadata": {
    "collapsed": false,
    "ExecuteTime": {
     "end_time": "2024-07-05T07:55:48.978847Z",
     "start_time": "2024-07-05T07:55:48.975273Z"
    }
   },
   "id": "9462bf4a489ec666",
   "execution_count": 31
  },
  {
   "cell_type": "code",
   "outputs": [],
   "source": [
    "# BreslowEstimator()"
   ],
   "metadata": {
    "collapsed": false,
    "ExecuteTime": {
     "end_time": "2024-07-05T07:55:48.986401Z",
     "start_time": "2024-07-05T07:55:48.982898Z"
    }
   },
   "id": "cc61ee09382ac94d",
   "execution_count": 32
  },
  {
   "cell_type": "code",
   "outputs": [],
   "source": [
    "# out_survival"
   ],
   "metadata": {
    "collapsed": false,
    "ExecuteTime": {
     "end_time": "2024-07-05T07:55:48.992051Z",
     "start_time": "2024-07-05T07:55:48.988847Z"
    }
   },
   "id": "9f400492d208e458",
   "execution_count": 33
  },
  {
   "cell_type": "code",
   "outputs": [],
   "source": [
    "# from sksurv.metrics import concordance_index_ipcw, brier_score, cumulative_dynamic_auc\n",
    "# \n",
    "# cis, brs = [], []\n",
    "# \n",
    "# et_train = np.array([(e_train[i], t_train[i]) for i in range(len(e_train))], dtype = [('e', bool), ('t', float)])\n",
    "# et_test = np.array([(e_test[i], t_test[i]) for i in range(len(e_test))], dtype = [('e', bool), ('t', float)])\n",
    "# et_val = np.array([(e_val[i], t_val[i]) for i in range(len(e_val))], dtype = [('e', bool), ('t', float)])\n",
    "# \n",
    "# for i, _ in enumerate(times):\n",
    "#     cis.append(concordance_index_ipcw(et_train, et_test, out_risk[:, i], times[i])[0])\n",
    "#     \n",
    "# brs.append(brier_score(et_train, et_test, out_survival, times)[1])\n",
    "# \n",
    "# roc_auc = []\n",
    "# for i, _ in enumerate(times):\n",
    "#     roc_auc.append(cumulative_dynamic_auc(et_train, et_test, out_risk[:, i], times[i])[0])\n",
    "#     \n",
    "# for horizon in enumerate(horizons):\n",
    "#     print(f\"For {horizon[1]} quantile,\")\n",
    "#     print(\"TD Concordance Index:\", cis[horizon[0]])\n",
    "#     print(\"Brier Score:\", brs[0][horizon[0]])\n",
    "#     print(\"ROC AUC \", roc_auc[horizon[0]][0], \"\\n\")"
   ],
   "metadata": {
    "collapsed": false,
    "ExecuteTime": {
     "end_time": "2024-07-05T07:55:49.000725Z",
     "start_time": "2024-07-05T07:55:48.994981Z"
    }
   },
   "id": "8714068376bd378c",
   "execution_count": 34
  },
  {
   "cell_type": "code",
   "outputs": [],
   "source": [
    "# from sksurv.linear_model.coxph import BreslowEstimator\n",
    "# \n",
    "# \n",
    "# def fit_breslow(model, data):\n",
    "#     return BreslowEstimator().fit(model(data['train_input']).detach().cpu().numpy(), data['train_event'].numpy(), data['train_time'].numpy())\n",
    "# \n",
    "# breslow_spline = fit_breslow(model, dataset)"
   ],
   "metadata": {
    "collapsed": false,
    "ExecuteTime": {
     "end_time": "2024-07-05T07:55:49.006265Z",
     "start_time": "2024-07-05T07:55:49.002953Z"
    }
   },
   "id": "7a8f975f767742a1",
   "execution_count": 35
  },
  {
   "cell_type": "code",
   "outputs": [],
   "source": [
    "# unique_times = breslow_spline.baseline_survival_.x\n",
    "# unique_times"
   ],
   "metadata": {
    "collapsed": false,
    "ExecuteTime": {
     "end_time": "2024-07-05T07:55:49.012716Z",
     "start_time": "2024-07-05T07:55:49.008450Z"
    }
   },
   "id": "f92a027d88086a1b",
   "execution_count": 36
  },
  {
   "cell_type": "code",
   "outputs": [],
   "source": [
    "# breslow_spline.get_survival_function(model(dataset['train_input']).detach().cpu().numpy())"
   ],
   "metadata": {
    "collapsed": false,
    "ExecuteTime": {
     "end_time": "2024-07-05T07:55:49.019877Z",
     "start_time": "2024-07-05T07:55:49.016722Z"
    }
   },
   "id": "e3e4042cc7623f0a",
   "execution_count": 37
  },
  {
   "cell_type": "code",
   "outputs": [],
   "source": [
    "# import pandas as pd\n",
    "# \n",
    "# raw_predictions = breslow_spline.get_survival_function(model(dataset['train_input']).detach().cpu().numpy())\n",
    "# raw_predictions = np.array([pred.y for pred in raw_predictions])\n",
    "# \n",
    "# predictions = pd.DataFrame(data=raw_predictions, columns=unique_times)"
   ],
   "metadata": {
    "collapsed": false,
    "ExecuteTime": {
     "end_time": "2024-07-05T07:55:49.026217Z",
     "start_time": "2024-07-05T07:55:49.021891Z"
    }
   },
   "id": "8ed84d228713374e",
   "execution_count": 38
  }
 ],
 "metadata": {
  "kernelspec": {
   "display_name": "Python 3 (ipykernel)",
   "language": "python",
   "name": "python3"
  },
  "language_info": {
   "codemirror_mode": {
    "name": "ipython",
    "version": 3
   },
   "file_extension": ".py",
   "mimetype": "text/x-python",
   "name": "python",
   "nbconvert_exporter": "python",
   "pygments_lexer": "ipython3",
   "version": "3.9.7"
  }
 },
 "nbformat": 4,
 "nbformat_minor": 5
}
