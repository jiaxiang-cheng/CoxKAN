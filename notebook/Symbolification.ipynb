{
 "cells": [
  {
   "cell_type": "code",
   "outputs": [],
   "source": [
    "from os import listdir\n",
    "from os.path import isfile, join\n",
    "\n",
    "import random\n",
    "import numpy as np\n",
    "import pandas as pd\n",
    "import seaborn as sns\n",
    "import matplotlib.pyplot as plt\n",
    "\n",
    "import matplotlib.style\n",
    "from matplotlib.ticker import FormatStrFormatter\n",
    "import matplotlib as mpl\n",
    "mpl.style.use('default')\n",
    "\n",
    "from sympy import *\n",
    "from api.color_scheme import *\n",
    "\n",
    "save_plot = True\n",
    "\n",
    "random_state = 0\n",
    "random.seed(random_state)\n",
    "np.random.seed(random_state)"
   ],
   "metadata": {
    "collapsed": false,
    "ExecuteTime": {
     "end_time": "2024-08-13T03:27:34.175007Z",
     "start_time": "2024-08-13T03:27:33.629511Z"
    }
   },
   "id": "286d72e7c124ac3d",
   "execution_count": 1
  },
  {
   "cell_type": "code",
   "execution_count": 2,
   "id": "initial_id",
   "metadata": {
    "collapsed": true,
    "ExecuteTime": {
     "end_time": "2024-08-13T03:27:34.187545Z",
     "start_time": "2024-08-13T03:27:34.177203Z"
    }
   },
   "outputs": [],
   "source": [
    "res_files = [f for f in listdir('../results/') if isfile(join('../results/', f))]\n",
    "random.shuffle(res_files)"
   ]
  },
  {
   "cell_type": "code",
   "outputs": [],
   "source": [
    "lib = ['x', 'x^2', 'x^3', 'x^4', 'exp', 'log', 'sqrt', 'tanh', 'sin']\n",
    "np_lib = ['exp', 'log', 'sqrt', 'tanh', 'sin']\n",
    "\n",
    "v = symbols('v')"
   ],
   "metadata": {
    "collapsed": false,
    "ExecuteTime": {
     "end_time": "2024-08-13T03:27:34.193747Z",
     "start_time": "2024-08-13T03:27:34.189079Z"
    }
   },
   "id": "34d99cb68b6b5eb0",
   "execution_count": 3
  },
  {
   "cell_type": "code",
   "outputs": [],
   "source": [
    "data = 'non-linear'  # 'linear', 'non-linear', 'TRACE', 'colon', 'rdata', 'FRTCS'"
   ],
   "metadata": {
    "collapsed": false,
    "ExecuteTime": {
     "end_time": "2024-08-13T03:27:34.199036Z",
     "start_time": "2024-08-13T03:27:34.195768Z"
    }
   },
   "id": "45714c40f764b006",
   "execution_count": 4
  },
  {
   "cell_type": "code",
   "outputs": [],
   "source": [
    "# df_summary = {}\n",
    "# \n",
    "# df_temp = pd.read_csv('../results/pred_coxkan_{}_{}.csv'.format(data, 0), index_col=[0])\n",
    "# \n",
    "# col_clean = []  # used to enable single variable in function\n",
    "# for i in range(df_temp.shape[1] - 1, 0, -1):\n",
    "#     col_clean.append('x_{}'.format(i))\n",
    "# \n",
    "# col = []  # initialize feature names\n",
    "# for i in range(1, df_temp.shape[1]):\n",
    "#     col.append('x_{}'.format(i))\n",
    "# col.append('pred')\n",
    "# \n",
    "# for var in col[:-1]:  # enumerate all feature names\n",
    "#     \n",
    "#     # get min and max of inputs and outputs\n",
    "#     x_lim_lower, x_lim_upper = 0, 0\n",
    "#     y_lim_lower, y_lim_upper = 0, 0\n",
    "#     \n",
    "#     legend_flag = 0  # only legend one of the predicted results\n",
    "#     \n",
    "#     _, ax = plt.subplots(figsize=(2.5,2.5))\n",
    "#     \n",
    "#     for i in res_files:\n",
    "#         \n",
    "#         if i.split('_')[1] != 'symbol' or i.split('_')[2] != data:\n",
    "#             continue  # get only text files with symbolic functions\n",
    "#         \n",
    "#         # get random seed from the file names\n",
    "#         seed = i.split('_')[-1].split('.')[0]\n",
    "#         # get the corresponding symbolic functions\n",
    "#         res = pd.read_csv('../results/{}'.format(i), sep=\":\\t\", header=None, engine='python')\n",
    "#         \n",
    "#         try:  # get the corresponding prediction results with the symbolic functions\n",
    "#             df_pred = pd.read_csv('../results/pred_coxkan_{}_{}.csv'.format(data, seed), index_col=[0])\n",
    "#         except FileNotFoundError:\n",
    "#             continue  # avoid missing files\n",
    "#         df_pred.columns = col\n",
    "#             \n",
    "#         # print(\"Symbolic activation function:\", res.iloc[-2][0])\n",
    "#         fun_str = res.iloc[-1][0]  # get symbolic functions with 10 digits reserved\n",
    "#         for v in col_clean:\n",
    "#             if v != var:  # set all other variables as 0\n",
    "#                 fun_str = fun_str.replace(v, '0')\n",
    "#             else:  # set target feature as variable v\n",
    "#                 fun_str = fun_str.replace(v, 'v')\n",
    "#         \n",
    "#         print(\"Simplified Symbolic Function: {}\".format(str(simplify(fun_str)).replace('v', var)))\n",
    "#                 \n",
    "#         for l in np_lib:  # replace functions in text with numpy functions\n",
    "#             fun_str = fun_str.replace(l, 'np.{}'.format(l))\n",
    "#         \n",
    "#         # define the symbolic function using simplified strings\n",
    "#         eval(compile('''def fun(v):\n",
    "#             return {}\n",
    "#         '''.format(fun_str), '<string>', 'exec'))\n",
    "# \n",
    "#         x_lim_lower, x_lim_upper = (  # update min and max of features\n",
    "#             min(df_pred['{}'.format(var)].min(), x_lim_lower), max(df_pred['{}'.format(var)].max(), x_lim_upper))\n",
    "#         \n",
    "#         # get the smooth symbolic function with grid values\n",
    "#         xs = np.linspace(x_lim_lower, x_lim_upper, 1000)\n",
    "#         fun_pred = [fun(x) for x in xs]\n",
    "#         \n",
    "#         # get label of symbolic functions\n",
    "#         label = '$\\hat\\phi_{}$'.format(var.split('_')[-1]) if legend_flag == 0 and (data == 'linear' or data == 'non-linear') else None\n",
    "#         # plot the symbolic functions\n",
    "#         sns.lineplot(x=xs, y=fun_pred, linewidth=2, color=AAAI_pal['Main Blue'], alpha=(1 - random.random()) ** legend_flag, label=label)\n",
    "#         \n",
    "#         y_lim_lower, y_lim_upper = (  # update min and max of outputs\n",
    "#             min(min(fun_pred), y_lim_lower), max(max(fun_pred), y_lim_upper))\n",
    "#         \n",
    "#         legend_flag = 1  # only plot the first appearance\n",
    "#         \n",
    "#         df_summary[seed] = df_pred  # store the prediction results\n",
    "#     \n",
    "#     if data == 'linear':\n",
    "#         # get ground truth if with linear or non-linear experiments\n",
    "#         if var == 'x_1':\n",
    "#             df_pred['fun_true_{}'.format(var)] = df_pred[var]\n",
    "#         else:\n",
    "#             df_pred['fun_true_{}'.format(var)] = df_pred[var] * 2\n",
    "#         \n",
    "#         y_lim_lower, y_lim_upper = (\n",
    "#             min(df_pred['fun_true_{}'.format(var)].min(), y_lim_lower), max(df_pred['fun_true_{}'.format(var)].max(), y_lim_upper))\n",
    "#     \n",
    "#         sns.lineplot(data=df_pred, x=var, y='fun_true_{}'.format(var), linewidth=2,\n",
    "#                      label='$\\phi_{}$'.format(var.split('_')[-1]), color=AAAI_pal['Yellow'])\n",
    "#     \n",
    "#     elif data == 'non-linear':\n",
    "#         # get ground truth if with linear or non-linear experiments\n",
    "#         df_pred['fun_true_{}'.format(var)] = np.log(5) * np.exp(-df_pred[var] ** 2 / (2 * 0.5 ** 2))\n",
    "#         \n",
    "#         y_lim_lower, y_lim_upper = (\n",
    "#             min(df_pred['fun_true_{}'.format(var)].min(), y_lim_lower), max(df_pred['fun_true_{}'.format(var)].max(), y_lim_upper))\n",
    "#     \n",
    "#         sns.lineplot(data=df_pred, x=var, y='fun_true_{}'.format(var), linewidth=2,\n",
    "#                      label='$\\phi_{}$'.format(var.split('_')[-1]), color=AAAI_pal['Yellow'])\n",
    "#     \n",
    "#     plt.xlabel('$x_{{{}}}$'.format(var.split('_')[-1]))\n",
    "#     plt.ylabel('Activation Function $(x_{{{}}})$'.format(var.split('_')[-1]))\n",
    "#     if data == 'linear' or data == 'non-linear':\n",
    "#         plt.legend()\n",
    "#     \n",
    "#     marg = min(y_lim_upper, 5) - max(y_lim_lower, -5)\n",
    "#     plt.ylim([max(y_lim_lower, -5) - 0.1 * marg, min(y_lim_upper, 5) + 0.1 * marg])\n",
    "#     # plt.ylim([-0.6, 1.3])\n",
    "#     # plt.xlim([df_pred['{}'.format(var)].min(), df_pred['{}'.format(var)].max()])\n",
    "#     \n",
    "#     ax.yaxis.set_major_formatter(FormatStrFormatter('%.1f'))\n",
    "#     ax.xaxis.set_major_formatter(FormatStrFormatter('%.1f'))\n",
    "#     \n",
    "#     if save_plot:\n",
    "#         plt.savefig('../fig/func_{}_{}.png'.format(data, var), bbox_inches='tight', dpi=500, transparent=True)\n",
    "#     \n",
    "#     plt.show()"
   ],
   "metadata": {
    "collapsed": false,
    "ExecuteTime": {
     "end_time": "2024-08-13T03:27:34.210594Z",
     "start_time": "2024-08-13T03:27:34.201464Z"
    }
   },
   "id": "80e8e64fe15ccfa3",
   "execution_count": 5
  },
  {
   "cell_type": "code",
   "outputs": [
    {
     "name": "stdout",
     "output_type": "stream",
     "text": [
      "Simplified Symbolic Function: 0.624250255521928 - 0.4504056871*sin(2.944881916*x_1 + 4.6030011177)\n",
      "Simplified Symbolic Function: 0.593140597046031 - 0.4294178486*sin(2.9937705994*x_1 - 1.8053141832)\n",
      "Simplified Symbolic Function: 0.657270796890498 - 0.3134653568*sin(3.1728024483*x_1 - 1.5775700808)\n",
      "Simplified Symbolic Function: 0.586890245380331 - 0.4447372556*sin(2.4520976543*x_1 + 4.7877511978)\n",
      "Simplified Symbolic Function: 0.611714422150402 - 0.4433623254*sin(2.8658387661*x_1 + 4.7937135696)\n",
      "Simplified Symbolic Function: 0.2956710756*sin(3.5800638199*x_1 + 1.570322156) + 0.618536384652926\n",
      "Simplified Symbolic Function: 0.67753614484808 - 0.305578351*sin(3.5926213264*x_1 + 4.7874088287)\n",
      "Simplified Symbolic Function: 0.61304240762192 - 0.3488060832*sin(3.08446455*x_1 - 7.8041915894)\n"
     ]
    },
    {
     "data": {
      "text/plain": "<Figure size 250x250 with 1 Axes>",
      "image/png": "[encoded data removed]"
     },
     "metadata": {},
     "output_type": "display_data"
    },
    {
     "name": "stdout",
     "output_type": "stream",
     "text": [
      "Simplified Symbolic Function: 0.4028511643*sin(2.8578972816*x_2 + 1.611171484) + 0.669441063558713\n",
      "Simplified Symbolic Function: 0.673061068705692 - 0.3416034579*sin(3.1868383884*x_2 - 8.0044689178)\n",
      "Simplified Symbolic Function: 0.4330050647*sin(2.8909475803*x_2 + 1.5985039473) + 0.537890098545512\n",
      "Simplified Symbolic Function: 0.668440726844549 - 0.3621391058*sin(3.6094646454*x_2 - 1.6052299738)\n",
      "Simplified Symbolic Function: 0.3729394674*sin(2.9948506355*x_2 + 1.5984621048) + 0.680814671740604\n",
      "Simplified Symbolic Function: 0.3510047793*sin(3.5274083614*x_2 + 1.600549221) + 0.563357997060962\n",
      "Simplified Symbolic Function: 0.3669427037*sin(3.1194493771*x_2 - 4.7857604027) + 0.616299551650674\n",
      "Simplified Symbolic Function: 0.603485939105989 - 0.3579690456*sin(3.2635912895*x_2 - 1.5855119228)\n"
     ]
    },
    {
     "data": {
      "text/plain": "<Figure size 250x250 with 1 Axes>",
      "image/png": "[encoded data removed]"
     },
     "metadata": {},
     "output_type": "display_data"
    }
   ],
   "source": [
    "df_summary = {}\n",
    "\n",
    "df_temp = pd.read_csv('../results/pred_coxkan_{}_{}.csv'.format(data, 0), index_col=[0])\n",
    "\n",
    "col_clean = []  # used to enable single variable in function\n",
    "for i in range(df_temp.shape[1] - 1, 0, -1):\n",
    "    col_clean.append('x_{}'.format(i))\n",
    "\n",
    "col = []  # initialize feature names\n",
    "for i in range(1, df_temp.shape[1]):\n",
    "    col.append('x_{}'.format(i))\n",
    "col.append('pred')\n",
    "\n",
    "for var in col[:-1]:  # enumerate all feature names\n",
    "    \n",
    "    # get min and max of inputs and outputs\n",
    "    x_lim_lower, x_lim_upper = 0, 0\n",
    "    y_lim_lower, y_lim_upper = 0, 0\n",
    "    \n",
    "    legend_flag = 0  # only legend one of the predicted results\n",
    "    \n",
    "    _, ax = plt.subplots(figsize=(2.5,2.5))\n",
    "    \n",
    "    df_lines = pd.DataFrame()\n",
    "    \n",
    "    for i in res_files:\n",
    "        \n",
    "        if i.split('_')[1] != 'symbol' or i.split('_')[2] != data:\n",
    "            continue  # get only text files with symbolic functions\n",
    "        \n",
    "        # get random seed from the file names\n",
    "        seed = i.split('_')[-1].split('.')[0]\n",
    "        # get the corresponding symbolic functions\n",
    "        res = pd.read_csv('../results/{}'.format(i), sep=\":\\t\", header=None, engine='python')\n",
    "        \n",
    "        try:  # get the corresponding prediction results with the symbolic functions\n",
    "            df_pred = pd.read_csv('../results/pred_coxkan_{}_{}.csv'.format(data, seed), index_col=[0])\n",
    "        except FileNotFoundError:\n",
    "            continue  # avoid missing files\n",
    "        df_pred.columns = col\n",
    "            \n",
    "        # print(\"Symbolic activation function:\", res.iloc[-2][0])\n",
    "        fun_str = res.iloc[-1][0]  # get symbolic functions with 10 digits reserved\n",
    "        for v in col_clean:\n",
    "            if v != var:  # set all other variables as 0\n",
    "                fun_str = fun_str.replace(v, '0')\n",
    "            else:  # set target feature as variable v\n",
    "                fun_str = fun_str.replace(v, 'v')\n",
    "        \n",
    "        print(\"Simplified Symbolic Function: {}\".format(str(simplify(fun_str)).replace('v', var)))\n",
    "                \n",
    "        for l in np_lib:  # replace functions in text with numpy functions\n",
    "            fun_str = fun_str.replace(l, 'np.{}'.format(l))\n",
    "        \n",
    "        # define the symbolic function using simplified strings\n",
    "        eval(compile('''def fun(v):\n",
    "            return {}\n",
    "        '''.format(fun_str), '<string>', 'exec'))\n",
    "        \n",
    "        if legend_flag == 0:\n",
    "            x_lim_lower, x_lim_upper = (  # update min and max of features\n",
    "                min(df_pred['{}'.format(var)].min(), x_lim_lower), max(df_pred['{}'.format(var)].max(), x_lim_upper))\n",
    "        # x_lim_lower, x_lim_upper = -3, 3\n",
    "        \n",
    "        # get the smooth symbolic function with grid values\n",
    "        xs = np.linspace(x_lim_lower, x_lim_upper, 1000)\n",
    "        fun_pred = [fun(x) for x in xs]\n",
    "        \n",
    "        # get label of symbolic functions\n",
    "        # label = '$\\hat\\phi_{}$'.format(var.split('_')[-1]) if legend_flag == 0 and (data == 'linear' or data == 'non-linear') else None\n",
    "        # plot the symbolic functions\n",
    "        # sns.lineplot(x=xs, y=fun_pred, linewidth=2, color=AAAI_pal['Main Blue'], alpha=(1 - random.random()) ** legend_flag, label=label)\n",
    "        df_line = pd.DataFrame()\n",
    "        df_line['x'] = xs\n",
    "        df_line['y'] = fun_pred\n",
    "        df_lines = pd.concat([df_lines, df_line])\n",
    "        \n",
    "        y_lim_lower, y_lim_upper = (  # update min and max of outputs\n",
    "            min(min(fun_pred), y_lim_lower), max(max(fun_pred), y_lim_upper))\n",
    "        \n",
    "        legend_flag = 1  # only plot the first appearance\n",
    "        \n",
    "        df_summary[seed] = df_pred  # store the prediction results\n",
    "    \n",
    "    label = '$\\hat\\phi_{}$'.format(var.split('_')[-1]) if (data == 'linear' or data == 'non-linear') else None\n",
    "    sns.lineplot(data=df_lines, x='x', y='y', linewidth=2, color=AAAI_pal['Main Blue'], label=label)\n",
    "    # sns.lineplot(data=df_lines, x='x', y='y', linewidth=2, color=AAAI_pal['Yellow'], label=label)\n",
    "    \n",
    "    if data == 'linear':\n",
    "        # get ground truth if with linear or non-linear experiments\n",
    "        if var == 'x_1':\n",
    "            df_pred['fun_true_{}'.format(var)] = df_pred[var]\n",
    "        else:\n",
    "            df_pred['fun_true_{}'.format(var)] = df_pred[var] * 2\n",
    "        \n",
    "        y_lim_lower, y_lim_upper = (\n",
    "            min(df_pred['fun_true_{}'.format(var)].min(), y_lim_lower), max(df_pred['fun_true_{}'.format(var)].max(), y_lim_upper))\n",
    "    \n",
    "        sns.lineplot(data=df_pred, x=var, y='fun_true_{}'.format(var), linewidth=2,\n",
    "                     label='$\\phi_{}$'.format(var.split('_')[-1]), color=AAAI_pal['Yellow'])\n",
    "    \n",
    "    elif data == 'non-linear':\n",
    "        # get ground truth if with linear or non-linear experiments\n",
    "        df_pred['fun_true_{}'.format(var)] = np.log(5) * np.exp(-df_pred[var] ** 2 / (2 * 0.5 ** 2))\n",
    "        \n",
    "        y_lim_lower, y_lim_upper = (\n",
    "            min(df_pred['fun_true_{}'.format(var)].min(), y_lim_lower), max(df_pred['fun_true_{}'.format(var)].max(), y_lim_upper))\n",
    "    \n",
    "        sns.lineplot(data=df_pred, x=var, y='fun_true_{}'.format(var), linewidth=2,\n",
    "                     label='$\\phi_{}$'.format(var.split('_')[-1]), color=AAAI_pal['Yellow'])\n",
    "    \n",
    "    plt.xlabel('$x_{{{}}}$'.format(var.split('_')[-1]))\n",
    "    plt.ylabel('Activation Function $(x_{{{}}})$'.format(var.split('_')[-1]))\n",
    "    if data == 'linear' or data == 'non-linear':\n",
    "        plt.legend()\n",
    "    \n",
    "    # marg = min(y_lim_upper, 5) - max(y_lim_lower, -5)\n",
    "    # plt.ylim([max(y_lim_lower, -5) - 0.1 * marg, min(y_lim_upper, 5) + 0.1 * marg])\n",
    "    # plt.ylim([-0.6, 1.3])\n",
    "    # plt.xlim([df_pred['{}'.format(var)].min(), df_pred['{}'.format(var)].max()])\n",
    "    \n",
    "    ax.yaxis.set_major_formatter(FormatStrFormatter('%.1f'))\n",
    "    ax.xaxis.set_major_formatter(FormatStrFormatter('%.1f'))\n",
    "    \n",
    "    if save_plot:\n",
    "        plt.savefig('../fig/func_{}_{}.png'.format(data, var), bbox_inches='tight', dpi=500, transparent=True)\n",
    "    \n",
    "    plt.show()"
   ],
   "metadata": {
    "collapsed": false,
    "ExecuteTime": {
     "end_time": "2024-08-13T03:28:19.674163Z",
     "start_time": "2024-08-13T03:27:34.212584Z"
    }
   },
   "id": "9f84b9214b4029c1",
   "execution_count": 6
  },
  {
   "cell_type": "code",
   "outputs": [
    {
     "name": "stdout",
     "output_type": "stream",
     "text": [
      "$fixing (0,1,0) with \\text{sin}, r2=0.9954602718353271$ \\\\\n",
      "$fixing (0,1,0) with \\text{sin}, r2=0.9967435598373413$ \\\\\n",
      "$fixing (0,1,0) with \\text{sin}, r2=0.9993829727172852$ \\\\\n",
      "$-0.4\\text{sin}(2.5x_1 + 4.8) - 0.4\\text{sin}(3.6x_2 - 1.6) + 0.2$ \\\\\n",
      "$fixing (0,1,0) with \\text{sin}, r2=0.9821287393569946$ \\\\\n",
      "$fixing (0,1,0) with \\text{sin}, r2=0.9818513989448547$ \\\\\n",
      "$-0.3\\text{sin}(3.6x_1 + 4.8) + 0.4\\text{sin}(3.1x_2 - 4.8) + 0.3$ \\\\\n",
      "$fixing (0,1,0) with \\text{sin}, r2=0.9774623513221741$ \\\\\n"
     ]
    }
   ],
   "source": [
    "# data = 'TRACE'  # 'linear', 'non-linear', 'TRACE', 'colon', 'rdata', 'FRTCS'\n",
    "    \n",
    "for i in res_files:\n",
    "    \n",
    "    if i.split('_')[1] != 'symbol' or i.split('_')[2] != data:\n",
    "        continue  # get only text files with symbolic functions\n",
    "    \n",
    "    # get random seed from the file names\n",
    "    seed = i.split('_')[-1].split('.')[0]\n",
    "    # get the corresponding symbolic functions\n",
    "    res = pd.read_csv('../results/{}'.format(i), sep=\":\\t\", header=None, engine='python')\n",
    "    \n",
    "    try:  # get the corresponding prediction results with the symbolic functions\n",
    "        df_pred = pd.read_csv('../results/pred_coxkan_{}_{}.csv'.format(data, seed), index_col=[0])\n",
    "    except FileNotFoundError:\n",
    "        continue  # avoid missing files\n",
    "    df_pred.columns = col\n",
    "    \n",
    "    # fun_str = res.iloc[-3][0]\n",
    "    fun_str = res.iloc[-3][0].replace('**', '^').replace('*', '')\n",
    "    for l in np_lib:  # replace functions in text with numpy functions\n",
    "        fun_str = fun_str.replace(l, '\\\\text{{{}}}'.format(l))\n",
    "    print('$' + fun_str + '$ \\\\\\\\')"
   ],
   "metadata": {
    "collapsed": false,
    "ExecuteTime": {
     "end_time": "2024-08-13T03:28:19.720112Z",
     "start_time": "2024-08-13T03:28:19.675867Z"
    }
   },
   "id": "9562dab53883a145",
   "execution_count": 7
  },
  {
   "cell_type": "code",
   "outputs": [
    {
     "name": "stdout",
     "output_type": "stream",
     "text": [
      "$-1.3\\text{sin}(0.5x_2 + 9.3) - 1.6\\text{tanh}(0.5x_1 + 1.1) + 0.9$ \\\\\n",
      "$0.5\\text{tanh}(0.7x_2) + 0.2\\text{tanh}(1.4x_1 - 0.6) - 0.2$ \\\\\n",
      "$0.1(-x_5 - 0.5)^4 + 1.6\\text{tanh}(0.4x_1 + 0.2) - 0.2\\text{tanh}(3.9x_2 - 1.1) - 0.3$ \\\\\n",
      "$0.6(-x_12 - 0.2)^4 + 0.2(-x_6 - 0.e-1)^2 + 0.2\\text{sin}(1.4x_1 + 6.8) - 0.2\\text{sin}(1.6x_2 + 5.2) - 0.8\\text{sin}(1.2x_4 - 2.6) - 0.2\\text{sin}(1.8x_5 - 10.0) - 0.6\\text{tanh}(1.2x_3 + 1.3) - 0.5\\text{tanh}(2.3x_7 + 2.0) + 0.4\\text{tanh}(1.0x_8 + 0.2) - 1.2$ \\\\\n"
     ]
    }
   ],
   "source": [
    "for data in ['TRACE', 'colon', 'rdata', 'FRTCS']:\n",
    "    \n",
    "    for i in res_files:\n",
    "        \n",
    "        if i.split('_')[1] != 'symbol' or i.split('_')[2] != data or i.split('_')[-1] != '3.txt':\n",
    "            continue  # get only text files with symbolic functions\n",
    "        \n",
    "        # get the corresponding symbolic functions\n",
    "        res = pd.read_csv('../results/{}'.format(i), sep=\":\\t\", header=None, engine='python')\n",
    "        \n",
    "        # fun_str = res.iloc[-3][0]\n",
    "        fun_str = res.iloc[-3][0].replace('**', '^').replace('*', '')\n",
    "        for l in np_lib:  # replace functions in text with numpy functions\n",
    "            fun_str = fun_str.replace(l, '\\\\text{{{}}}'.format(l))\n",
    "        print('$' + fun_str + '$ \\\\\\\\')"
   ],
   "metadata": {
    "collapsed": false,
    "ExecuteTime": {
     "end_time": "2024-08-13T03:28:19.739723Z",
     "start_time": "2024-08-13T03:28:19.722213Z"
    }
   },
   "id": "10248399a5440ecc",
   "execution_count": 8
  }
 ],
 "metadata": {
  "kernelspec": {
   "display_name": "Python 3",
   "language": "python",
   "name": "python3"
  },
  "language_info": {
   "codemirror_mode": {
    "name": "ipython",
    "version": 2
   },
   "file_extension": ".py",
   "mimetype": "text/x-python",
   "name": "python",
   "nbconvert_exporter": "python",
   "pygments_lexer": "ipython2",
   "version": "2.7.6"
  }
 },
 "nbformat": 4,
 "nbformat_minor": 5
}
