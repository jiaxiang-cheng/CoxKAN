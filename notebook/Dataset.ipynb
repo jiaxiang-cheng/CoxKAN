{
 "cells": [
  {
   "cell_type": "code",
   "execution_count": 23,
   "id": "initial_id",
   "metadata": {
    "collapsed": true,
    "ExecuteTime": {
     "end_time": "2024-07-19T07:19:27.478536Z",
     "start_time": "2024-07-19T07:19:27.442624Z"
    }
   },
   "outputs": [],
   "source": [
    "from api.survset.data import SurvLoader\n",
    "\n",
    "data = 'FRTCS'\n",
    "\n",
    "loader = SurvLoader()\n",
    "\n",
    "# load dataset and its reference\n",
    "df, ref = loader.load_dataset(ds_name=data).values()\n",
    "df = df.sample(frac=1).reset_index(drop=True)\n",
    "\n",
    "# collect numerical and categorical features\n",
    "cat_feats, num_feats = [], []\n",
    "for i in df.columns:\n",
    "    if i.split('_')[0] == 'num':\n",
    "        num_feats.append(i)\n",
    "    if i.split('_')[0] == 'fac':\n",
    "        cat_feats.append(i)\n",
    "\n",
    "# features = preprocessing.Preprocessor().fit_transform(\n",
    "#     df[num_feats + cat_feats], cat_feats=cat_feats, num_feats=num_feats)"
   ]
  },
  {
   "cell_type": "code",
   "outputs": [
    {
     "data": {
      "text/plain": "     pid  event  time  num_age  num_spb0  num_dbp0  num_spb1  num_dpb1  \\\n0    522      0   297       75     137.0      69.0     141.5      56.5   \n1    316      0   594       82     157.0      77.5     148.5      76.5   \n2    491      0   414       73     159.5      80.5     133.5      76.0   \n3    142      0   319       69     139.5      89.5     105.0      68.5   \n4    643      0   481       70     141.0      86.0     137.0      86.0   \n..   ...    ...   ...      ...       ...       ...       ...       ...   \n692  131      0   425       73     136.0      66.0     103.5      58.5   \n693  657      1   187       75     143.0      73.0     190.0      69.0   \n694  675      0   348       77     140.0      79.0     171.5      98.0   \n695  219      0   553       79     130.0      73.0     125.5      68.5   \n696  443      0   458       78     158.0      85.0     140.5      70.5   \n\n     num_spb2  num_dpb2  num_date0  num_date1 fac_sex fac_antihyp0  \\\n0       117.5      63.0       1312        670       F            N   \n1       123.5      64.5       1232        583       M            N   \n2       148.0      74.5       1398        682       M            N   \n3       147.5      78.5       1456        775       F            Y   \n4       143.0      88.0       1345        735       M            N   \n..        ...       ...        ...        ...     ...          ...   \n692     107.5      57.5       1379        740       F            N   \n693     196.0      59.0       1400        799       F            Y   \n694     156.5      93.5       1392        802       M            N   \n695     120.0      64.0       1273        590       M            N   \n696     167.5      89.5       1368        660       F            Y   \n\n    fac_antihyp1 fac_antihyp2  \n0              N            N  \n1              N            N  \n2              N            N  \n3              Y            Y  \n4              N            N  \n..           ...          ...  \n692            N            N  \n693            Y            Y  \n694            N            Y  \n695            N            N  \n696            Y            N  \n\n[697 rows x 16 columns]",
      "text/html": "<div>\n<style scoped>\n    .dataframe tbody tr th:only-of-type {\n        vertical-align: middle;\n    }\n\n    .dataframe tbody tr th {\n        vertical-align: top;\n    }\n\n    .dataframe thead th {\n        text-align: right;\n    }\n</style>\n<table border=\"1\" class=\"dataframe\">\n  <thead>\n    <tr style=\"text-align: right;\">\n      <th></th>\n      <th>pid</th>\n      <th>event</th>\n      <th>time</th>\n      <th>num_age</th>\n      <th>num_spb0</th>\n      <th>num_dbp0</th>\n      <th>num_spb1</th>\n      <th>num_dpb1</th>\n      <th>num_spb2</th>\n      <th>num_dpb2</th>\n      <th>num_date0</th>\n      <th>num_date1</th>\n      <th>fac_sex</th>\n      <th>fac_antihyp0</th>\n      <th>fac_antihyp1</th>\n      <th>fac_antihyp2</th>\n    </tr>\n  </thead>\n  <tbody>\n    <tr>\n      <th>0</th>\n      <td>522</td>\n      <td>0</td>\n      <td>297</td>\n      <td>75</td>\n      <td>137.0</td>\n      <td>69.0</td>\n      <td>141.5</td>\n      <td>56.5</td>\n      <td>117.5</td>\n      <td>63.0</td>\n      <td>1312</td>\n      <td>670</td>\n      <td>F</td>\n      <td>N</td>\n      <td>N</td>\n      <td>N</td>\n    </tr>\n    <tr>\n      <th>1</th>\n      <td>316</td>\n      <td>0</td>\n      <td>594</td>\n      <td>82</td>\n      <td>157.0</td>\n      <td>77.5</td>\n      <td>148.5</td>\n      <td>76.5</td>\n      <td>123.5</td>\n      <td>64.5</td>\n      <td>1232</td>\n      <td>583</td>\n      <td>M</td>\n      <td>N</td>\n      <td>N</td>\n      <td>N</td>\n    </tr>\n    <tr>\n      <th>2</th>\n      <td>491</td>\n      <td>0</td>\n      <td>414</td>\n      <td>73</td>\n      <td>159.5</td>\n      <td>80.5</td>\n      <td>133.5</td>\n      <td>76.0</td>\n      <td>148.0</td>\n      <td>74.5</td>\n      <td>1398</td>\n      <td>682</td>\n      <td>M</td>\n      <td>N</td>\n      <td>N</td>\n      <td>N</td>\n    </tr>\n    <tr>\n      <th>3</th>\n      <td>142</td>\n      <td>0</td>\n      <td>319</td>\n      <td>69</td>\n      <td>139.5</td>\n      <td>89.5</td>\n      <td>105.0</td>\n      <td>68.5</td>\n      <td>147.5</td>\n      <td>78.5</td>\n      <td>1456</td>\n      <td>775</td>\n      <td>F</td>\n      <td>Y</td>\n      <td>Y</td>\n      <td>Y</td>\n    </tr>\n    <tr>\n      <th>4</th>\n      <td>643</td>\n      <td>0</td>\n      <td>481</td>\n      <td>70</td>\n      <td>141.0</td>\n      <td>86.0</td>\n      <td>137.0</td>\n      <td>86.0</td>\n      <td>143.0</td>\n      <td>88.0</td>\n      <td>1345</td>\n      <td>735</td>\n      <td>M</td>\n      <td>N</td>\n      <td>N</td>\n      <td>N</td>\n    </tr>\n    <tr>\n      <th>...</th>\n      <td>...</td>\n      <td>...</td>\n      <td>...</td>\n      <td>...</td>\n      <td>...</td>\n      <td>...</td>\n      <td>...</td>\n      <td>...</td>\n      <td>...</td>\n      <td>...</td>\n      <td>...</td>\n      <td>...</td>\n      <td>...</td>\n      <td>...</td>\n      <td>...</td>\n      <td>...</td>\n    </tr>\n    <tr>\n      <th>692</th>\n      <td>131</td>\n      <td>0</td>\n      <td>425</td>\n      <td>73</td>\n      <td>136.0</td>\n      <td>66.0</td>\n      <td>103.5</td>\n      <td>58.5</td>\n      <td>107.5</td>\n      <td>57.5</td>\n      <td>1379</td>\n      <td>740</td>\n      <td>F</td>\n      <td>N</td>\n      <td>N</td>\n      <td>N</td>\n    </tr>\n    <tr>\n      <th>693</th>\n      <td>657</td>\n      <td>1</td>\n      <td>187</td>\n      <td>75</td>\n      <td>143.0</td>\n      <td>73.0</td>\n      <td>190.0</td>\n      <td>69.0</td>\n      <td>196.0</td>\n      <td>59.0</td>\n      <td>1400</td>\n      <td>799</td>\n      <td>F</td>\n      <td>Y</td>\n      <td>Y</td>\n      <td>Y</td>\n    </tr>\n    <tr>\n      <th>694</th>\n      <td>675</td>\n      <td>0</td>\n      <td>348</td>\n      <td>77</td>\n      <td>140.0</td>\n      <td>79.0</td>\n      <td>171.5</td>\n      <td>98.0</td>\n      <td>156.5</td>\n      <td>93.5</td>\n      <td>1392</td>\n      <td>802</td>\n      <td>M</td>\n      <td>N</td>\n      <td>N</td>\n      <td>Y</td>\n    </tr>\n    <tr>\n      <th>695</th>\n      <td>219</td>\n      <td>0</td>\n      <td>553</td>\n      <td>79</td>\n      <td>130.0</td>\n      <td>73.0</td>\n      <td>125.5</td>\n      <td>68.5</td>\n      <td>120.0</td>\n      <td>64.0</td>\n      <td>1273</td>\n      <td>590</td>\n      <td>M</td>\n      <td>N</td>\n      <td>N</td>\n      <td>N</td>\n    </tr>\n    <tr>\n      <th>696</th>\n      <td>443</td>\n      <td>0</td>\n      <td>458</td>\n      <td>78</td>\n      <td>158.0</td>\n      <td>85.0</td>\n      <td>140.5</td>\n      <td>70.5</td>\n      <td>167.5</td>\n      <td>89.5</td>\n      <td>1368</td>\n      <td>660</td>\n      <td>F</td>\n      <td>Y</td>\n      <td>Y</td>\n      <td>N</td>\n    </tr>\n  </tbody>\n</table>\n<p>697 rows × 16 columns</p>\n</div>"
     },
     "execution_count": 24,
     "metadata": {},
     "output_type": "execute_result"
    }
   ],
   "source": [
    "df"
   ],
   "metadata": {
    "collapsed": false,
    "ExecuteTime": {
     "end_time": "2024-07-19T07:19:27.509741Z",
     "start_time": "2024-07-19T07:19:27.481229Z"
    }
   },
   "id": "4cb5ce9b66a3ae49",
   "execution_count": 24
  },
  {
   "cell_type": "code",
   "outputs": [
    {
     "data": {
      "text/plain": "'89.67'"
     },
     "execution_count": 25,
     "metadata": {},
     "output_type": "execute_result"
    }
   ],
   "source": [
    "'{:.2f}'.format((1 - df.event.sum() / df.shape[0]) * 100)"
   ],
   "metadata": {
    "collapsed": false,
    "ExecuteTime": {
     "end_time": "2024-07-19T07:19:27.518975Z",
     "start_time": "2024-07-19T07:19:27.512581Z"
    }
   },
   "id": "c12142a5c0757884",
   "execution_count": 25
  },
  {
   "cell_type": "code",
   "outputs": [
    {
     "data": {
      "text/plain": "['fac_sex', 'fac_antihyp0', 'fac_antihyp1', 'fac_antihyp2']"
     },
     "execution_count": 26,
     "metadata": {},
     "output_type": "execute_result"
    }
   ],
   "source": [
    "cat_feats"
   ],
   "metadata": {
    "collapsed": false,
    "ExecuteTime": {
     "end_time": "2024-07-19T07:19:27.526975Z",
     "start_time": "2024-07-19T07:19:27.521024Z"
    }
   },
   "id": "5080b37b7739a294",
   "execution_count": 26
  },
  {
   "cell_type": "code",
   "outputs": [
    {
     "data": {
      "text/plain": "['num_age',\n 'num_spb0',\n 'num_dbp0',\n 'num_spb1',\n 'num_dpb1',\n 'num_spb2',\n 'num_dpb2',\n 'num_date0',\n 'num_date1']"
     },
     "execution_count": 27,
     "metadata": {},
     "output_type": "execute_result"
    }
   ],
   "source": [
    "num_feats"
   ],
   "metadata": {
    "collapsed": false,
    "ExecuteTime": {
     "end_time": "2024-07-19T07:19:27.538173Z",
     "start_time": "2024-07-19T07:19:27.532761Z"
    }
   },
   "id": "fcc2d51dd1042870",
   "execution_count": 27
  }
 ],
 "metadata": {
  "kernelspec": {
   "display_name": "Python 3",
   "language": "python",
   "name": "python3"
  },
  "language_info": {
   "codemirror_mode": {
    "name": "ipython",
    "version": 2
   },
   "file_extension": ".py",
   "mimetype": "text/x-python",
   "name": "python",
   "nbconvert_exporter": "python",
   "pygments_lexer": "ipython2",
   "version": "2.7.6"
  }
 },
 "nbformat": 4,
 "nbformat_minor": 5
}
