{
 "cells": [
  {
   "cell_type": "code",
   "execution_count": 1,
   "id": "initial_id",
   "metadata": {
    "collapsed": true,
    "ExecuteTime": {
     "end_time": "2024-07-30T08:18:16.492781Z",
     "start_time": "2024-07-30T08:18:16.468961Z"
    }
   },
   "outputs": [],
   "source": [
    "from api.survset.data import SurvLoader\n",
    "\n",
    "data = 'FRTCS'\n",
    "\n",
    "loader = SurvLoader()\n",
    "\n",
    "# load dataset and its reference\n",
    "df, ref = loader.load_dataset(ds_name=data).values()\n",
    "df = df.sample(frac=1).reset_index(drop=True)\n",
    "\n",
    "# collect numerical and categorical features\n",
    "cat_feats, num_feats = [], []\n",
    "for i in df.columns:\n",
    "    if i.split('_')[0] == 'num':\n",
    "        num_feats.append(i)\n",
    "    if i.split('_')[0] == 'fac':\n",
    "        cat_feats.append(i)\n",
    "\n",
    "# features = preprocessing.Preprocessor().fit_transform(\n",
    "#     df[num_feats + cat_feats], cat_feats=cat_feats, num_feats=num_feats)"
   ]
  },
  {
   "cell_type": "code",
   "outputs": [
    {
     "data": {
      "text/plain": "     pid  event  time  num_age  num_spb0  num_dbp0  num_spb1  num_dpb1  \\\n0    295      0   539       76     153.0      76.0     132.5      62.5   \n1    344      0   583       67     151.5      84.5     140.0      75.0   \n2    690      0   284       68     134.5      77.0     140.0      68.5   \n3    622      0   458       69     154.0      79.0     149.0      78.0   \n4    419      0   570       67     139.5      83.0     136.0      86.0   \n..   ...    ...   ...      ...       ...       ...       ...       ...   \n692  634      0   440       76     150.0      77.0     169.0      82.5   \n693  163      0   406       70     160.5      89.0     133.5      74.0   \n694  428      0   543       74     148.5      98.5     167.5      98.0   \n695  637      0   454       77     127.5      81.0     138.5      76.0   \n696  638      0   467       86     162.0     100.0     195.5     102.5   \n\n     num_spb2  num_dpb2  num_date0  num_date1 fac_sex fac_antihyp0  \\\n0       133.0      67.0       1287        647       F            N   \n1       148.0      79.5       1243        585       F            Y   \n2       131.0      70.5       1395        758       M            Y   \n3       139.5      71.0       1368        743       M            N   \n4       162.5      95.0       1256        630       M            Y   \n..        ...       ...        ...        ...     ...          ...   \n692     147.5      73.5       1386        749       M            Y   \n693     161.5      87.0       1420        664       F            N   \n694     160.0      84.0       1283        649       F            Y   \n695     137.0      61.0       1372        780       M            N   \n696     170.5      80.0       1359        749       M            N   \n\n    fac_antihyp1 fac_antihyp2  \n0              N            N  \n1              Y            Y  \n2              Y            Y  \n3              Y            Y  \n4              Y            N  \n..           ...          ...  \n692            Y            Y  \n693            N            N  \n694            Y            Y  \n695            N            N  \n696            N            N  \n\n[697 rows x 16 columns]",
      "text/html": "<div>\n<style scoped>\n    .dataframe tbody tr th:only-of-type {\n        vertical-align: middle;\n    }\n\n    .dataframe tbody tr th {\n        vertical-align: top;\n    }\n\n    .dataframe thead th {\n        text-align: right;\n    }\n</style>\n<table border=\"1\" class=\"dataframe\">\n  <thead>\n    <tr style=\"text-align: right;\">\n      <th></th>\n      <th>pid</th>\n      <th>event</th>\n      <th>time</th>\n      <th>num_age</th>\n      <th>num_spb0</th>\n      <th>num_dbp0</th>\n      <th>num_spb1</th>\n      <th>num_dpb1</th>\n      <th>num_spb2</th>\n      <th>num_dpb2</th>\n      <th>num_date0</th>\n      <th>num_date1</th>\n      <th>fac_sex</th>\n      <th>fac_antihyp0</th>\n      <th>fac_antihyp1</th>\n      <th>fac_antihyp2</th>\n    </tr>\n  </thead>\n  <tbody>\n    <tr>\n      <th>0</th>\n      <td>295</td>\n      <td>0</td>\n      <td>539</td>\n      <td>76</td>\n      <td>153.0</td>\n      <td>76.0</td>\n      <td>132.5</td>\n      <td>62.5</td>\n      <td>133.0</td>\n      <td>67.0</td>\n      <td>1287</td>\n      <td>647</td>\n      <td>F</td>\n      <td>N</td>\n      <td>N</td>\n      <td>N</td>\n    </tr>\n    <tr>\n      <th>1</th>\n      <td>344</td>\n      <td>0</td>\n      <td>583</td>\n      <td>67</td>\n      <td>151.5</td>\n      <td>84.5</td>\n      <td>140.0</td>\n      <td>75.0</td>\n      <td>148.0</td>\n      <td>79.5</td>\n      <td>1243</td>\n      <td>585</td>\n      <td>F</td>\n      <td>Y</td>\n      <td>Y</td>\n      <td>Y</td>\n    </tr>\n    <tr>\n      <th>2</th>\n      <td>690</td>\n      <td>0</td>\n      <td>284</td>\n      <td>68</td>\n      <td>134.5</td>\n      <td>77.0</td>\n      <td>140.0</td>\n      <td>68.5</td>\n      <td>131.0</td>\n      <td>70.5</td>\n      <td>1395</td>\n      <td>758</td>\n      <td>M</td>\n      <td>Y</td>\n      <td>Y</td>\n      <td>Y</td>\n    </tr>\n    <tr>\n      <th>3</th>\n      <td>622</td>\n      <td>0</td>\n      <td>458</td>\n      <td>69</td>\n      <td>154.0</td>\n      <td>79.0</td>\n      <td>149.0</td>\n      <td>78.0</td>\n      <td>139.5</td>\n      <td>71.0</td>\n      <td>1368</td>\n      <td>743</td>\n      <td>M</td>\n      <td>N</td>\n      <td>Y</td>\n      <td>Y</td>\n    </tr>\n    <tr>\n      <th>4</th>\n      <td>419</td>\n      <td>0</td>\n      <td>570</td>\n      <td>67</td>\n      <td>139.5</td>\n      <td>83.0</td>\n      <td>136.0</td>\n      <td>86.0</td>\n      <td>162.5</td>\n      <td>95.0</td>\n      <td>1256</td>\n      <td>630</td>\n      <td>M</td>\n      <td>Y</td>\n      <td>Y</td>\n      <td>N</td>\n    </tr>\n    <tr>\n      <th>...</th>\n      <td>...</td>\n      <td>...</td>\n      <td>...</td>\n      <td>...</td>\n      <td>...</td>\n      <td>...</td>\n      <td>...</td>\n      <td>...</td>\n      <td>...</td>\n      <td>...</td>\n      <td>...</td>\n      <td>...</td>\n      <td>...</td>\n      <td>...</td>\n      <td>...</td>\n      <td>...</td>\n    </tr>\n    <tr>\n      <th>692</th>\n      <td>634</td>\n      <td>0</td>\n      <td>440</td>\n      <td>76</td>\n      <td>150.0</td>\n      <td>77.0</td>\n      <td>169.0</td>\n      <td>82.5</td>\n      <td>147.5</td>\n      <td>73.5</td>\n      <td>1386</td>\n      <td>749</td>\n      <td>M</td>\n      <td>Y</td>\n      <td>Y</td>\n      <td>Y</td>\n    </tr>\n    <tr>\n      <th>693</th>\n      <td>163</td>\n      <td>0</td>\n      <td>406</td>\n      <td>70</td>\n      <td>160.5</td>\n      <td>89.0</td>\n      <td>133.5</td>\n      <td>74.0</td>\n      <td>161.5</td>\n      <td>87.0</td>\n      <td>1420</td>\n      <td>664</td>\n      <td>F</td>\n      <td>N</td>\n      <td>N</td>\n      <td>N</td>\n    </tr>\n    <tr>\n      <th>694</th>\n      <td>428</td>\n      <td>0</td>\n      <td>543</td>\n      <td>74</td>\n      <td>148.5</td>\n      <td>98.5</td>\n      <td>167.5</td>\n      <td>98.0</td>\n      <td>160.0</td>\n      <td>84.0</td>\n      <td>1283</td>\n      <td>649</td>\n      <td>F</td>\n      <td>Y</td>\n      <td>Y</td>\n      <td>Y</td>\n    </tr>\n    <tr>\n      <th>695</th>\n      <td>637</td>\n      <td>0</td>\n      <td>454</td>\n      <td>77</td>\n      <td>127.5</td>\n      <td>81.0</td>\n      <td>138.5</td>\n      <td>76.0</td>\n      <td>137.0</td>\n      <td>61.0</td>\n      <td>1372</td>\n      <td>780</td>\n      <td>M</td>\n      <td>N</td>\n      <td>N</td>\n      <td>N</td>\n    </tr>\n    <tr>\n      <th>696</th>\n      <td>638</td>\n      <td>0</td>\n      <td>467</td>\n      <td>86</td>\n      <td>162.0</td>\n      <td>100.0</td>\n      <td>195.5</td>\n      <td>102.5</td>\n      <td>170.5</td>\n      <td>80.0</td>\n      <td>1359</td>\n      <td>749</td>\n      <td>M</td>\n      <td>N</td>\n      <td>N</td>\n      <td>N</td>\n    </tr>\n  </tbody>\n</table>\n<p>697 rows × 16 columns</p>\n</div>"
     },
     "execution_count": 2,
     "metadata": {},
     "output_type": "execute_result"
    }
   ],
   "source": [
    "df"
   ],
   "metadata": {
    "collapsed": false,
    "ExecuteTime": {
     "end_time": "2024-07-30T08:18:16.531030Z",
     "start_time": "2024-07-30T08:18:16.494600Z"
    }
   },
   "id": "4cb5ce9b66a3ae49",
   "execution_count": 2
  },
  {
   "cell_type": "code",
   "outputs": [
    {
     "data": {
      "text/plain": "'89.67'"
     },
     "execution_count": 3,
     "metadata": {},
     "output_type": "execute_result"
    }
   ],
   "source": [
    "'{:.2f}'.format((1 - df.event.sum() / df.shape[0]) * 100)"
   ],
   "metadata": {
    "collapsed": false,
    "ExecuteTime": {
     "end_time": "2024-07-30T08:18:16.542192Z",
     "start_time": "2024-07-30T08:18:16.533435Z"
    }
   },
   "id": "c12142a5c0757884",
   "execution_count": 3
  },
  {
   "cell_type": "code",
   "outputs": [
    {
     "data": {
      "text/plain": "['fac_sex', 'fac_antihyp0', 'fac_antihyp1', 'fac_antihyp2']"
     },
     "execution_count": 4,
     "metadata": {},
     "output_type": "execute_result"
    }
   ],
   "source": [
    "cat_feats"
   ],
   "metadata": {
    "collapsed": false,
    "ExecuteTime": {
     "end_time": "2024-07-30T08:18:16.552081Z",
     "start_time": "2024-07-30T08:18:16.544939Z"
    }
   },
   "id": "5080b37b7739a294",
   "execution_count": 4
  },
  {
   "cell_type": "code",
   "outputs": [
    {
     "data": {
      "text/plain": "['num_age',\n 'num_spb0',\n 'num_dbp0',\n 'num_spb1',\n 'num_dpb1',\n 'num_spb2',\n 'num_dpb2',\n 'num_date0',\n 'num_date1']"
     },
     "execution_count": 5,
     "metadata": {},
     "output_type": "execute_result"
    }
   ],
   "source": [
    "num_feats"
   ],
   "metadata": {
    "collapsed": false,
    "ExecuteTime": {
     "end_time": "2024-07-30T08:18:16.566061Z",
     "start_time": "2024-07-30T08:18:16.558424Z"
    }
   },
   "id": "fcc2d51dd1042870",
   "execution_count": 5
  },
  {
   "cell_type": "code",
   "outputs": [
    {
     "data": {
      "text/plain": "       num_wmi   num_age  fac_sex_M  fac_chf_present  fac_diabetes_present  \\\n0    -0.237564 -0.007528          0                0                     1   \n1     0.974787  0.236470          0                0                     0   \n2     0.732317 -1.175938          0                0                     0   \n3    -0.237564  0.262784          1                0                     0   \n4     0.974787 -1.564534          0                1                     0   \n...        ...       ...        ...              ...                   ...   \n1873  1.459727  0.630223          0                0                     0   \n1874 -0.722504  2.195621          1                1                     0   \n1875  1.459727  0.793267          1                0                     0   \n1876 -0.964975  1.116558          0                1                     0   \n1877 -1.449915  1.586370          1                1                     0   \n\n      fac_vf_present  \n0                  0  \n1                  0  \n2                  0  \n3                  0  \n4                  0  \n...              ...  \n1873               0  \n1874               0  \n1875               0  \n1876               0  \n1877               0  \n\n[1878 rows x 6 columns]",
      "text/html": "<div>\n<style scoped>\n    .dataframe tbody tr th:only-of-type {\n        vertical-align: middle;\n    }\n\n    .dataframe tbody tr th {\n        vertical-align: top;\n    }\n\n    .dataframe thead th {\n        text-align: right;\n    }\n</style>\n<table border=\"1\" class=\"dataframe\">\n  <thead>\n    <tr style=\"text-align: right;\">\n      <th></th>\n      <th>num_wmi</th>\n      <th>num_age</th>\n      <th>fac_sex_M</th>\n      <th>fac_chf_present</th>\n      <th>fac_diabetes_present</th>\n      <th>fac_vf_present</th>\n    </tr>\n  </thead>\n  <tbody>\n    <tr>\n      <th>0</th>\n      <td>-0.237564</td>\n      <td>-0.007528</td>\n      <td>0</td>\n      <td>0</td>\n      <td>1</td>\n      <td>0</td>\n    </tr>\n    <tr>\n      <th>1</th>\n      <td>0.974787</td>\n      <td>0.236470</td>\n      <td>0</td>\n      <td>0</td>\n      <td>0</td>\n      <td>0</td>\n    </tr>\n    <tr>\n      <th>2</th>\n      <td>0.732317</td>\n      <td>-1.175938</td>\n      <td>0</td>\n      <td>0</td>\n      <td>0</td>\n      <td>0</td>\n    </tr>\n    <tr>\n      <th>3</th>\n      <td>-0.237564</td>\n      <td>0.262784</td>\n      <td>1</td>\n      <td>0</td>\n      <td>0</td>\n      <td>0</td>\n    </tr>\n    <tr>\n      <th>4</th>\n      <td>0.974787</td>\n      <td>-1.564534</td>\n      <td>0</td>\n      <td>1</td>\n      <td>0</td>\n      <td>0</td>\n    </tr>\n    <tr>\n      <th>...</th>\n      <td>...</td>\n      <td>...</td>\n      <td>...</td>\n      <td>...</td>\n      <td>...</td>\n      <td>...</td>\n    </tr>\n    <tr>\n      <th>1873</th>\n      <td>1.459727</td>\n      <td>0.630223</td>\n      <td>0</td>\n      <td>0</td>\n      <td>0</td>\n      <td>0</td>\n    </tr>\n    <tr>\n      <th>1874</th>\n      <td>-0.722504</td>\n      <td>2.195621</td>\n      <td>1</td>\n      <td>1</td>\n      <td>0</td>\n      <td>0</td>\n    </tr>\n    <tr>\n      <th>1875</th>\n      <td>1.459727</td>\n      <td>0.793267</td>\n      <td>1</td>\n      <td>0</td>\n      <td>0</td>\n      <td>0</td>\n    </tr>\n    <tr>\n      <th>1876</th>\n      <td>-0.964975</td>\n      <td>1.116558</td>\n      <td>0</td>\n      <td>1</td>\n      <td>0</td>\n      <td>0</td>\n    </tr>\n    <tr>\n      <th>1877</th>\n      <td>-1.449915</td>\n      <td>1.586370</td>\n      <td>1</td>\n      <td>1</td>\n      <td>0</td>\n      <td>0</td>\n    </tr>\n  </tbody>\n</table>\n<p>1878 rows × 6 columns</p>\n</div>"
     },
     "execution_count": 9,
     "metadata": {},
     "output_type": "execute_result"
    }
   ],
   "source": [
    "from api.auton import preprocessing\n",
    "\n",
    "data = 'TRACE'\n",
    "\n",
    "loader = SurvLoader()\n",
    "\n",
    "# load dataset and its reference\n",
    "df, ref = loader.load_dataset(ds_name=data).values()\n",
    "df = df.sample(frac=1).reset_index(drop=True)\n",
    "\n",
    "# collect numerical and categorical features\n",
    "cat_feats, num_feats = [], []\n",
    "for i in df.columns:\n",
    "    if i.split('_')[0] == 'num':\n",
    "        num_feats.append(i)\n",
    "    if i.split('_')[0] == 'fac':\n",
    "        cat_feats.append(i)\n",
    "\n",
    "features = preprocessing.Preprocessor().fit_transform(\n",
    "    df[num_feats + cat_feats], cat_feats=cat_feats, num_feats=num_feats)\n",
    "features"
   ],
   "metadata": {
    "collapsed": false,
    "ExecuteTime": {
     "end_time": "2024-07-30T08:19:18.782171Z",
     "start_time": "2024-07-30T08:19:18.728720Z"
    }
   },
   "id": "a395dc5472f195b8",
   "execution_count": 9
  }
 ],
 "metadata": {
  "kernelspec": {
   "display_name": "Python 3",
   "language": "python",
   "name": "python3"
  },
  "language_info": {
   "codemirror_mode": {
    "name": "ipython",
    "version": 2
   },
   "file_extension": ".py",
   "mimetype": "text/x-python",
   "name": "python",
   "nbconvert_exporter": "python",
   "pygments_lexer": "ipython2",
   "version": "2.7.6"
  }
 },
 "nbformat": 4,
 "nbformat_minor": 5
}
